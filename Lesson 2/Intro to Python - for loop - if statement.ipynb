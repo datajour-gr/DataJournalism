{
  "nbformat": 4,
  "nbformat_minor": 0,
  "metadata": {
    "colab": {
      "provenance": [],
      "authorship_tag": "ABX9TyPsDXxMv3r4ZhFTVWKAsLIO",
      "include_colab_link": true
    },
    "kernelspec": {
      "name": "python3",
      "display_name": "Python 3"
    },
    "language_info": {
      "name": "python"
    }
  },
  "cells": [
    {
      "cell_type": "markdown",
      "metadata": {
        "id": "view-in-github",
        "colab_type": "text"
      },
      "source": [
        "<a href=\"https://colab.research.google.com/github/tsparaskevas/DataJournalism/blob/main/Lesson%202/Intro%20to%20Python%20-%20for%20loop%20-%20if%20statement.ipynb\" target=\"_parent\"><img src=\"https://colab.research.google.com/assets/colab-badge.svg\" alt=\"Open In Colab\"/></a>"
      ]
    },
    {
      "cell_type": "markdown",
      "source": [
        "# Εισαγωγή στην Python 2 - Εντολές ελέγχου: for, if"
      ],
      "metadata": {
        "id": "JZYBKl3L-s7b"
      }
    },
    {
      "cell_type": "markdown",
      "source": [
        "Μετά την εισαγωγή σε βασικά στοιχεία της Python, γνωρίζουμε ήδη πώς να κάνουμε αρκετά πράγματα.\n",
        "\n",
        "Ξέρουμε πώς να φτιάξουμε μια λίστα για σούπερ μάρκετ και πώς να μετατρέπουμε ένα string σε title (όλα τα γράμματα πεζά αλλά το πρώτο κεφαλαίο)."
      ],
      "metadata": {
        "id": "bh52jfLvkc0N"
      }
    },
    {
      "cell_type": "code",
      "source": [
        "sm_list = [\"τυρί\", \"ρύζι\", \"γάλα\", \"καμπά\"]\n",
        "\n",
        "print(sm_list[0].title())\n",
        "print(sm_list[1].title())\n",
        "print(sm_list[2].title())\n",
        "print(sm_list[3].title())"
      ],
      "metadata": {
        "id": "trDFZE-MkdrC"
      },
      "execution_count": null,
      "outputs": []
    },
    {
      "cell_type": "markdown",
      "source": [
        "Πολύ ωραία, αλλά χρειάστηκαν 5 γραμμές κώδικα για να κάνουμε την ίδια εργασία σε καθένα από τα 4 αντικείμενα της λίστας. Αυτό όμως δεν θα ήταν και πολύ παραγωγικό αν η λίστα μας είχε π.χ. 35 αντικείμενα. Πόσο μάλλον αν είχε 1.000.000."
      ],
      "metadata": {
        "id": "9Zgj39L0nUmS"
      }
    },
    {
      "cell_type": "markdown",
      "source": [
        "##**Δομές επανάληψης - for loop**"
      ],
      "metadata": {
        "id": "qhcBa3xL1vBM"
      }
    },
    {
      "cell_type": "markdown",
      "source": [
        "Με τους υπολογιστές μπορούμε να κάνουμε πράγματα γρήγορα, ακριβώς γιατί οι γλώσσες προγραμματισμού διαθέτουν **μεταβλητές** που μπορούν να αλλάζουν τιμή και **δομές εντολών** με τις οποίες μπορούμε να εκτελούμε το ίδιο πράγμα πολλές φορές εύκολα. Ένα τέτοιο εργαλείο είναι οι **δομές επανάληψης**. Εδώ θα δούμε τη **for loop**. "
      ],
      "metadata": {
        "id": "3I_ZoHbY1uAP"
      }
    },
    {
      "cell_type": "code",
      "source": [
        "for i in sm_list:    # για κάθε αντικείμενο μέσα στη λίστα sm_list\n",
        "  print(i.title())   # τύπωσε με μορφή τίτλου το αντικείμενο"
      ],
      "metadata": {
        "id": "w-L5iRgPmycG"
      },
      "execution_count": null,
      "outputs": []
    },
    {
      "cell_type": "markdown",
      "source": [
        "Με τη for loop, πετυχαίνουμε το ίδιο αποτέλεσμα με μόλις 2 γραμμές κώδικα, άσχετα με το πόσα αντικείμενα έχει η λίστα μας.\n",
        "\n",
        "Για του λόγου το αληθές, ας τριπλασιάσουμε τη λίστα για να το δούμε."
      ],
      "metadata": {
        "id": "S75IJBEepU0a"
      }
    },
    {
      "cell_type": "code",
      "source": [
        "new_sm_list = sm_list*3  \n",
        "\n",
        "for item in new_sm_list:  # ίδιος κώδικας με παραπάνω\n",
        "  print(item.title())     # απλώς αντί για i γράφουμε item"
      ],
      "metadata": {
        "id": "PfpEsITMppGe"
      },
      "execution_count": null,
      "outputs": []
    },
    {
      "cell_type": "markdown",
      "source": [
        "###**Δομή της for loop**\n",
        "\n",
        "Μια εντολή for στην ουσία λέει: \n",
        "\n",
        "```\n",
        "για κάθε πράγμα σε μια ομάδα:\n",
        "  κάνε αυτό\n",
        "  (και αυτό)\n",
        "  (........)\n",
        "```\n",
        "\n",
        "**Άρα**:\n",
        "* η δουλειά της for loop είναι να ελέγχει **πόσες φορές θα επαναληφθεί** η εκτέλεση ενός κομματιού κώδικα\n",
        "* το πλήθος των επαναλήψεων ορίζεται από το **πλήθος των αντικειμένων της ομάδας**\n",
        "* το πλήθος των επαναλήψεων μας είναι συγκεκριμένο (αφού ορίζεται από το πλήθος των αντικειμένων της ομάδας)\n",
        "\n",
        "**Παρατηρήσεις για τη σύνταξη**:\n",
        "\n",
        "* μια for loop περιλαμβάνει οπωσδήποτε τις λέξεις **for** και **in**\n",
        "* στο τέλος της πρότασης που αρχίζει με for, μπαίνει **άνω-κάτω τελεία (:)**\n",
        "* οι επόμενες προτάσεις μέσα στη for loop είναι **intended** (εσέχουν)\n",
        "\n",
        "**Παρατηρήσεις για τα στοιχεία που απαρτίζουν την for loop**:\n",
        "\n",
        "* το γράμμα/λέξη που ακολουθεί το for και αναφέρεται στο κάθε \"πράγμα\" είναι άσχετο: μπορεί να είναι **οποιαδήποτε λέξη** ή απλά ένα και μόνο γράμμα\n",
        "* αυτό το γράμμα/λέξη στην ουσία είναι μια **μεταβλητή**, η οποία παίρνει τιμές από τα αντικείμενα της ομάδας\n",
        "* ο λογικός τελεστής **in** (παίρνει τιμές True/False) ελέγχει πόσα \"πράγματα\" είναι μέσα στην \"ομάδα\" που ορίζουμε αμέσως μετά - όταν τα πράγματα τελειώσουν, η εντολή σταματάει να εκτελείται\n",
        "* η ομάδα στην οποία ανήκει το \"πράγμα\" είναι μια **λίστα** (ordered sequence)"
      ],
      "metadata": {
        "id": "9Cl84yWurf_X"
      }
    },
    {
      "cell_type": "markdown",
      "source": [
        "###**Άλλες λίστες εκτός από τις λίστες (lists) που δημιουργούμε εμείς**"
      ],
      "metadata": {
        "id": "Gq8iAyJG9u2U"
      }
    },
    {
      "cell_type": "markdown",
      "source": [
        "####**Tα keys και τα values ενός dictionary**\n",
        "\n",
        "Όπως έχουμε δει και τα dictionaries είναι αλληλουχίες δεδομένων (data sequences), απλώς είναι unordered.\n",
        "\n",
        "Για την for loop θέλουμε ordered sequences. \n",
        "\n",
        "Οι μέθοδοι για λεξικά **keys()** και **values()** επιστρέφουν λίστες (*για να είμαστε ακριβείς, επιστρέφουν λίστες μέσα σε tuple, αλλά αυτό δεν μας απασχολεί προς το παρόν*):\n",
        "\n",
        "* Η μέθοδος **keys()** για τα λεξικά, επιστρέφει όλα τα κλειδιά ενός dictionary σε **λίστα**.\n",
        "\n",
        "* Η μέθοδος **values()** για τα λεξικά, επιστρέφει όλες τις τιμές ενός dictionary σε λίστα."
      ],
      "metadata": {
        "id": "kmZab4aOCK5_"
      }
    },
    {
      "cell_type": "code",
      "source": [
        "friend1_dict = {\"Όνομα\" : \"Βαγγέλης\",\n",
        "                \"Επάγγελμα\" : \"Μηχανικός\",\n",
        "                \"Πόλη\" : \"Πάτρα\",\n",
        "                \"Τηλέφωνο\" : \"2610-512512\"\n",
        "                }\n",
        "print(friend1_dict.keys())\n",
        "print(friend1_dict.values())"
      ],
      "metadata": {
        "id": "AG0eRDpM7oZS"
      },
      "execution_count": null,
      "outputs": []
    },
    {
      "cell_type": "markdown",
      "source": [
        "\n",
        "\n",
        "---\n",
        "\n"
      ],
      "metadata": {
        "id": "C4CBb0as3cd6"
      }
    },
    {
      "cell_type": "markdown",
      "source": [
        "Αφού τα values() είναι λίστα, μπορούμε να εφαρμόσουμε μια for loop στις τιμές του λεξικού.\n",
        "\n",
        "Στο παρακάτω παράδειγμα, παίρνουμε όλες τις τιμές από ένα dictionary και τις βάζουμε σε μια λίστα. Στη συνέχεια ενώνουμε τα περιεχόμενα της λίστας σε ένα string."
      ],
      "metadata": {
        "id": "3U9-1SRI2UZm"
      }
    },
    {
      "cell_type": "code",
      "source": [
        "friend1_values = []                  # φτιάξε μια κενή λίστα\n",
        "for value in friend1_dict.values():  # για κάθε μια από τις τιμές στο λεξικό friend1_dict\n",
        "  friend1_values.append(value)       # πάρε την τιμή και πρόσθεσέ τη στη λίστα\n",
        "\n",
        "\", \".join(friend1_values) # με το join ενώνουμε τα string αντικείμενα μιας λίστας σε ένα sting (εδώ τα ενώνουμε με κόμμα και κενό)"
      ],
      "metadata": {
        "id": "GwA3iWH3DPuk"
      },
      "execution_count": null,
      "outputs": []
    },
    {
      "cell_type": "markdown",
      "source": [
        "Προσθέτοντας μια ακόμα εντολή στις εργασίες προς εκτέλεση στην ίδια for loop μπορούμε να πάρουμε ταυτόχρονα και τα keys και τα values του dictionary."
      ],
      "metadata": {
        "id": "-5vb9s21OFI7"
      }
    },
    {
      "cell_type": "code",
      "source": [
        "friend1_keys = []                            # φτιάξε μια κενή λίστα για τα keys\n",
        "friend1_values = []                          # φτιάξε μια κενή λίστα για τα values\n",
        "for key in friend1_dict.keys():              # για κάθε key στο λεξικό friend1_dict\n",
        "  friend1_keys.append(key)                   # πάρε το key και πρόσθεσέ το στη λίστα για τα keys\n",
        "  friend1_values.append(friend1_dict[key])   # πάρε το value που αντιστοιχεί στο key και πρόσθεσέ το στη λίστα για τα values\n",
        "\n",
        "print(\"keys:\", \", \".join(friend1_keys))               \n",
        "print(\"values:\", \", \".join(friend1_values))"
      ],
      "metadata": {
        "id": "nFSdvyvKMgmj"
      },
      "execution_count": null,
      "outputs": []
    },
    {
      "cell_type": "markdown",
      "source": [
        "**Σημείωση**: μπορούμε να λουπάρουμε στα keys ενός λεξικού και χωρίς τη μέθοδο keys(), δηλαδή ακριβώς όπως λουπάρουμε και στα αντικείμενα μιας λίστας"
      ],
      "metadata": {
        "id": "_tZ5skbEU5KU"
      }
    },
    {
      "cell_type": "code",
      "source": [
        "for x in friend1_dict:   # λούπα στα items ενός dictionary\n",
        "  print(x)"
      ],
      "metadata": {
        "id": "GPr_0RVSVLOJ"
      },
      "execution_count": null,
      "outputs": []
    },
    {
      "cell_type": "code",
      "source": [
        "for x in sm_list:        # λούπα στα items μιας λίστας\n",
        "  print(x, end=\" \")      # με το end = \" \", τα prints γίνονται στην ίδα γραμμή και όχι το ένα κάτω από το άλλο που είναι το default (end=\"\\n\")"
      ],
      "metadata": {
        "id": "_fsFpAwWUK6q"
      },
      "execution_count": null,
      "outputs": []
    },
    {
      "cell_type": "markdown",
      "source": [
        "\n",
        "\n",
        "---\n",
        "\n",
        "####**Άσκηση 1**\n",
        "\n",
        "**Try yourself**: Φτιάξτε ένα νέο κελί κώδικα ακριβώς από κάτω και:\n",
        "\n",
        "* Φτιάξτε μια λίστα με ονόματα 3 αγαπημένων σας ηθοποιών\n",
        "* Φτιάξτε άλλη μια λίστα με το βαθμό (από το 1 έως το 10) που θα τους βάζατε\n",
        "* Φτιάξτε μια λούπα που να τρέχει στη λίστα των ηθποιών και να τυπώνει το όνομα του/της ηθοποιού με το βαθμό του "
      ],
      "metadata": {
        "id": "9KIe03Wzq7p3"
      }
    },
    {
      "cell_type": "markdown",
      "source": [
        "\n",
        "\n",
        "---\n",
        "\n"
      ],
      "metadata": {
        "id": "8Xk4xpTzsT5S"
      }
    },
    {
      "cell_type": "markdown",
      "source": [
        "####**Η range() function**\n",
        "\n",
        "Η συνάρτηση range(start, stop, step) επιστρέφει μια ακολουθία αριθμών που αρχίζουν από τον αριθμό start, αυξάνουν κατά τον αριθμό step και τελειώνουν στον αριθμό stop **χωρίς** να τον περιλαμβάνουν.\n",
        "\n",
        "![](https://external-content.duckduckgo.com/iu/?u=https%3A%2F%2Ftechaid24.com%2Fwp-content%2Fuploads%2F2020%2F10%2FPythons-Range-Function-Explained-450x262.png&f=1&nofb=1&ipt=5702cf8d5abe716d9845363e81fce81c3afcb9b54467ad04a636bd25b71d9632&ipo=images)\n",
        "\n",
        "By default, το start = 0 και το step = 1\n",
        "\n",
        "**Δυνατότητες / περιορισμοί**\n",
        "\n",
        "* τα start, stop και step μπορούν να πάρουν **θετικές** ή **αρνητικές**, αλλά μόνο **ακέραιες** τιμές\n",
        "* το step **δεν** μπορεί να είναι **0**\n",
        "\n",
        "**Αφού η συνάρτηση range() παράγει ακολουθία αριθμών, μπορεί κάλιστα να χρησιμοποιηθεί σε μια for loop για να ορίσει τον αριθμό των επαναλήψεων**"
      ],
      "metadata": {
        "id": "IXa-5k5hGjyq"
      }
    },
    {
      "cell_type": "code",
      "source": [
        "for i in range(6):      # αν βάλουμε μόνο έναν αριθμό στις παραμέτρους, η range τον καταλαβαίνει σαν stop\n",
        "  print(i, end=\" \")"
      ],
      "metadata": {
        "id": "Zss_wkKDI3nD"
      },
      "execution_count": null,
      "outputs": []
    },
    {
      "cell_type": "code",
      "source": [
        "for i in range(-2, 3):  # αν βάλουμε 2 αριθμούς στις παραμέτρους, η range καταλαβαίνει τον πρώτο σαν start και το δεύτερο σαν stop\n",
        "  print(i, end=\" \")"
      ],
      "metadata": {
        "id": "tw0f3koYIQmB"
      },
      "execution_count": null,
      "outputs": []
    },
    {
      "cell_type": "code",
      "source": [
        "for i in range(20, 0, -4):\n",
        "  print(i, end=\" \")"
      ],
      "metadata": {
        "id": "80GaqTJ_ME6F"
      },
      "execution_count": null,
      "outputs": []
    },
    {
      "cell_type": "markdown",
      "source": [
        "\n",
        "\n",
        "---\n",
        "\n",
        "####**Άσκηση 2**\n",
        "\n",
        "**Try yourself**: Στο παρακάτω κελί και κάτω από τον υπάρχοντα κώδικα:\n",
        "\n",
        "* φτιάξτε μια for loop που θα τρέχει 22 φορές και \n",
        "* θα φτιάχνει μια μεταβλητή με όνομα c και τιμή το άθροισμα των a και b\n",
        "* θα τυπώνει την τιμή του c\n",
        "* θα αλλάζει την τιμή του a σε b και  \n",
        "* θα αλλάζει την τιμή του b σε c\n",
        "* τρέξτε τον κώδικα\n"
      ],
      "metadata": {
        "id": "wJDRIJj4seRf"
      }
    },
    {
      "cell_type": "code",
      "source": [
        "a = 0 \n",
        "b = 1\n",
        "print(a)\n",
        "print(b)\n",
        "\n"
      ],
      "metadata": {
        "id": "cM6QC3X0twzD"
      },
      "execution_count": null,
      "outputs": []
    },
    {
      "cell_type": "markdown",
      "source": [
        "Η ακολουθία των αριθμών που δημιουργείται από το άθροισμα ενός αριθμού με τον προηγούμενό του λέγεται ακολουθία [Φιμπονάτσι](https://el.wikipedia.org/wiki/%CE%91%CE%BA%CE%BF%CE%BB%CE%BF%CF%85%CE%B8%CE%AF%CE%B1_%CE%A6%CE%B9%CE%BC%CF%80%CE%BF%CE%BD%CE%AC%CF%84%CF%83%CE%B9)."
      ],
      "metadata": {
        "id": "jVo7BfZuuyZ6"
      }
    },
    {
      "cell_type": "markdown",
      "source": [
        "\n",
        "\n",
        "---\n",
        "\n"
      ],
      "metadata": {
        "id": "1TA72B1ytx-9"
      }
    },
    {
      "cell_type": "markdown",
      "source": [
        "###**Χρηση της range() σε συνδυασμό με τη len()**\n",
        "\n",
        "Όπως είδαμε, στη range() πρέπει να ορίσουμε οπωσδήποτε το τέλος (stop) της ακολουθίας των αριθμών που θα παράξει.\n",
        "\n",
        "Οι αριθμοί της αρχής, του τέλους και του βήματος (step), μπορεί να οριστούν ρητά (ως αριθμοί), αλλά μπορεί και να είναι οι τιμές μεταβλητών (εφόσον είναι integers).\n",
        "\n",
        "Συχνά, για το τέλος στην range() χρησιμοποιούμε το μήκος (len) μιας λίστας."
      ],
      "metadata": {
        "id": "W9alaC7ENOXW"
      }
    },
    {
      "cell_type": "code",
      "source": [
        "for i in range(1, len(sm_list)+1):  # ξεκινάμε από το 1 για να τυπώσουμε $ και για το πρώτο αντικείμενο\n",
        "  print(\"$\"*i, end=\" \")             "
      ],
      "metadata": {
        "id": "5UJ15rFC2Xr0"
      },
      "execution_count": null,
      "outputs": []
    },
    {
      "cell_type": "markdown",
      "source": [
        "Αφού ξέρουμε ότι τα αντικείμενα της λίστας είναι 4, θα μπορούσαμε να γράψουμε\n",
        "\n",
        "```\n",
        "for i in range(1, 5):\n",
        "```\n",
        "\n",
        "Τι πλεονέκτημα έχουμε με τη len? \n",
        "\n",
        "Αν προστεθούν ή αφαιρεθούν αντικείμενα στη λίστα, ο κώδικάς μας θα δουλεύει και πάλι σωστά!"
      ],
      "metadata": {
        "id": "dMAJHO-I9ZOH"
      }
    },
    {
      "cell_type": "code",
      "source": [
        "sm_list.extend([\"τροφή για σκέψη\", \"drinks for python\"])\n",
        "\n",
        "for i in range(1, len(sm_list)+1):\n",
        "  print(\"$\"*i, end=\" \")"
      ],
      "metadata": {
        "id": "L-7fOpnWPUOk"
      },
      "execution_count": null,
      "outputs": []
    },
    {
      "cell_type": "markdown",
      "source": [
        "###**Σημαντική παρατήρηση**:"
      ],
      "metadata": {
        "id": "W61NHL-Z-qO2"
      }
    },
    {
      "cell_type": "markdown",
      "source": [
        "Θα μπορούσαμε να πάρουμε το παραπάνω αποτέλεσμα με το:\n",
        "\n",
        "```\n",
        "for i in sm_list:\n",
        "```\n",
        "???\n"
      ],
      "metadata": {
        "id": "Q7zbsncj-jkO"
      }
    },
    {
      "cell_type": "code",
      "source": [
        "for i in sm_list:\n",
        "  print(\"$\"*i, end=\" \")"
      ],
      "metadata": {
        "id": "jm_RYu3wS7Oe"
      },
      "execution_count": null,
      "outputs": []
    },
    {
      "cell_type": "markdown",
      "source": [
        "Μας πετάει ένα **λάθος τύπου δεδομένων**: TypeError: can't multiply sequence by non-int of type 'str'.\n",
        "\n",
        "Δεν μπορούμε να πολλαπλασιάσουμε 2 strings!"
      ],
      "metadata": {
        "id": "NXCTLhQed02Z"
      }
    },
    {
      "cell_type": "markdown",
      "source": [
        "Συγκρίνετε τους 2 παρακάτω κώδικες:"
      ],
      "metadata": {
        "id": "E2xrErmKAeZs"
      }
    },
    {
      "cell_type": "code",
      "source": [
        "for i in sm_list:\n",
        "  print(i, end=\", \")"
      ],
      "metadata": {
        "id": "5x8gs5NEASDJ"
      },
      "execution_count": null,
      "outputs": []
    },
    {
      "cell_type": "code",
      "source": [
        "for i in range(0, len(sm_list)):\n",
        "  print(i, end=\" \")"
      ],
      "metadata": {
        "id": "GHlB4oL8AmJJ"
      },
      "execution_count": null,
      "outputs": []
    },
    {
      "cell_type": "markdown",
      "source": [
        "Στη for loop, το γράμμα/λέξη που ακολουθεί το for είναι μια **μεταβλητή** που παίρνει τιμές από τη λίστα που ορίζουμε μετά το in.\n",
        "\n",
        "Αν η λίστα έχει διάφορα αντικείμενα, τότε η μεταβλητή παίρνει κάθε φορά την τιμή του εκάστοτε αντικειμένου. \n",
        "\n",
        "Με τη range(), παίρνουμε αριθμούς, γιατί η range() παράγει ακολουθία αριθμών."
      ],
      "metadata": {
        "id": "Ayp7I1QKA98d"
      }
    },
    {
      "cell_type": "markdown",
      "source": [
        "###**Άρα**:\n",
        "\n",
        "Η for loop έχει **δύο κομμάτια**:\n",
        "\n",
        "* τον ορισμό του αριθμού επαναλήψεων\n",
        "* τις εργασίες που θα εκτελεστούν\n",
        "\n",
        "Ο ορισμός του αριθμού των επαναλήψεων γίνεται με τη χρήση της αριθμητικής ακολουθίας του πλήθους των αντικειμένων μιας λίστας, αλλά οι εργασίες μπορεί **να αφορούν ή να μην αφορούν** τα ίδια τα αντικείμενα της λίστας.\n",
        "\n",
        "Επειδή αυτό είναι πολύ σημαντικό να το καταλάβουμε, ας το ξεκαθαρίσουμε ακόμα καλύτερα:\n",
        "\n",
        "Έστω ότι θέλουμε να κάνουμε το τραπέζι σε φίλους μας στο σπίτι μας. Θέλουμε να βάλουμε στο τραπέζι ένα πιάτο για τον καθένα από αυτούς. Αυτό που μας ενδιαφέρει είναι το πόσοι είναι. Αφού τους μετρήσουμε, χρησιμοποιούμε την αρίθμησή τους για να βάλουμε ένα-ένα τα πιάτα. Δεν μας ενδιαφέρει να ονοματίζουμε τα πιάτα, φτάνει να βάλουμε τόσα πιάτα όσοι είναι οι φίλοι μας. Σ' αυτή την περίπτωση χρησιμοποιούμε κάθε φίλο μας, απλώς, σαν αύξοντα αριθμό για να επαναλάβουμε ισάριθμες φορές τη λούπα τοποθέτησης πιάτων.\n",
        "\n",
        "Αν όμως, θέλουμε να τους κάνουμε και δώρο γιατί είναι Πρωτοχρονιά, τότε εκτός από το πόσοι είναι και από το να τους πάρουμε με τη σειρά για να δίνουμε σε έναν-έναν το δώρο του, μας ενδιαφέρει και ποιός είναι ο καθένας γιατί τους έχουμε πάρει διαφορετικό δώρο. Σ' αυτή την περίπτωση χρησιμοποιούμε κάθε φίλο μας και σαν αύξοντα αριθμό για να επαναλάβουμε ισάριθμες φορές τη λούπα επίδοσης των δώρων, αλλά και σαν οντότητες για να δώσουμε στον καθένα το αντίστοιχο δώρο. Μας ενδιαφέρει δηλαδή και το όνομά τους."
      ],
      "metadata": {
        "id": "MU4lELYwG7MY"
      }
    },
    {
      "cell_type": "markdown",
      "source": [
        "\n",
        "\n",
        "---\n",
        "\n"
      ],
      "metadata": {
        "id": "yEop_GoiJmYC"
      }
    },
    {
      "cell_type": "markdown",
      "source": [
        "**Ερώτηση**: ποιες τιμές παράγει η παρακάτω range()?\n",
        "\n",
        "```\n",
        "range(0, len(sm_list))\n",
        "```\n",
        "\n",
        "\n"
      ],
      "metadata": {
        "id": "a1vnruJUIn6x"
      }
    },
    {
      "cell_type": "markdown",
      "source": [
        "**Υπενθύμιση**: προσθέτουμε ένα item σε ένα dictionary με την ακόλουθη σύνταξη:\n",
        "\n",
        "```\n",
        "<όνομα λεξικού>[<όνομα κλειδιού>] = <τιμή>\n",
        "```\n",
        "\n"
      ],
      "metadata": {
        "id": "NSXxowJeHce5"
      }
    },
    {
      "cell_type": "markdown",
      "source": [
        "**Ερώτηση**: τι κάνει ο παρακάτω κώδικας;\n",
        "\n",
        "```\n",
        "shoping_dict = {}\n",
        "for i in range(0, len(sm_list)):   \n",
        "  shoping_dict[i] = sm_list[i]\n",
        "```\n",
        "\n"
      ],
      "metadata": {
        "id": "2-TExsyzJSnH"
      }
    },
    {
      "cell_type": "markdown",
      "source": [
        "\n",
        "\n",
        "---\n",
        "\n"
      ],
      "metadata": {
        "id": "cJsWRXFtJpD_"
      }
    },
    {
      "cell_type": "code",
      "source": [
        "shoping_dict = {}\n",
        "for i in range(0, len(sm_list)):   \n",
        "  shoping_dict[i] = sm_list[i]\n",
        "\n",
        "shoping_dict"
      ],
      "metadata": {
        "id": "uc-or0HlR5P8"
      },
      "execution_count": null,
      "outputs": []
    },
    {
      "cell_type": "markdown",
      "source": [
        "\n",
        "\n",
        "---\n",
        "\n"
      ],
      "metadata": {
        "id": "cSFp-42L4llk"
      }
    },
    {
      "cell_type": "markdown",
      "source": [
        "####**Ερώτηση εμπαίδωσης**:\n",
        "\n",
        "Ποιούς αριθμούς παράγει ο συνδυασμός της range() με τη len(), δηλαδή με το μήκος μιας λίστας;"
      ],
      "metadata": {
        "id": "xd92DVzAUMHu"
      }
    },
    {
      "cell_type": "markdown",
      "source": [
        "**Παρατήρηση**"
      ],
      "metadata": {
        "id": "UyYFW1yk42RO"
      }
    },
    {
      "cell_type": "code",
      "source": [
        "print(shoping_dict.keys())\n",
        "print(shoping_dict.values())"
      ],
      "metadata": {
        "id": "lJhkImyT4udx"
      },
      "execution_count": null,
      "outputs": []
    },
    {
      "cell_type": "markdown",
      "source": [
        "Από το παραπάνω output βλέπουμε ότι τα keys και τα values είναι λίστες αλλά είναι μέσα σε παρενθέσεις, δηλαδή είναι σε έναν τύπο δεδομένων που λέγεται tuple. Για να κάνουμε το tuple λίστα χρησιμοποιούμε τη συνάρτηση **list()**"
      ],
      "metadata": {
        "id": "MV-ZZekh2fvj"
      }
    },
    {
      "cell_type": "code",
      "source": [
        "list(shoping_dict.values())"
      ],
      "metadata": {
        "id": "ddzxFeA82-Ym"
      },
      "execution_count": null,
      "outputs": []
    },
    {
      "cell_type": "markdown",
      "source": [
        "Αφού μπορούμε να μετατρέψουμε τα keys() και τα values() ενός λεξικού σε καθαρή λίστα, μπορούμε και να καλέσουμε συγκεκριμένα items καλώντας το index τους."
      ],
      "metadata": {
        "id": "W8NkjdPh3quF"
      }
    },
    {
      "cell_type": "code",
      "source": [
        "list(shoping_dict.values())[-1]"
      ],
      "metadata": {
        "id": "iZ70ibqe4GVt"
      },
      "execution_count": null,
      "outputs": []
    },
    {
      "cell_type": "markdown",
      "source": [
        "\n",
        "\n",
        "---\n",
        "\n",
        "####**Άσκηση 3**\n",
        "\n",
        "**Try yourself**: Συμπληρώστε το παρακάτω code cell, ακολουθώντας τα σχόλια που περιέχει, έτσι ώστε ο κώδικας:\n",
        "\n",
        "* να φτιάχνει ένα λεξικό με κλειδιά τις πόλεις: Αθήνα, θεσσαλονίκη, Πάτρα και τιμές σε όλα το 0\n",
        "* να φτιάχνει μια λίστα με τιμές αριθμούς που δηλώνουν τις θερμοκρασίες της ημέρας σε κάθε πόλη: 21, 17, 23\n",
        "* να περιέχει μια λούπα που θα τρέχει αριθμούς στο εύρος των τιμών που μπορεί να πάρει το index των αντικειμένων της λίστας και\n",
        "  1. θα εκχωρεί το εκάστοτε όνομα του key του λεξικού σε μια μεταβλητή\n",
        "  2. θα θέτει σαν τιμή του εκάστοτε κλειδιού την αντίστοιχη τιμή από τη λίστα των θερμοκρασιών\n",
        "\n",
        "**Tips**: \n",
        "* θα χρησιμοποιηθεί η συνάρτηση list για να μετατραπεί το tuple των keys() σε λίστα\n",
        "* θα χρησιμοποιηθεί ο αριθμός index για να επιλέγονται τα keys του λεξικού και τα αντικείμενα της λίστας\n"
      ],
      "metadata": {
        "id": "s72eW477yQAa"
      }
    },
    {
      "cell_type": "code",
      "source": [
        "# φτιάξε ένα λεξικό με κλειδιά τις πόλεις: Αθήνα, θεσσαλονίκη, Πάτρα και τιμές σε όλα το 0\n",
        "cities_temp = \n",
        "\n",
        "# φτιάξτε μια λίστα με τιμές αριθμούς που δηλώνουν τις θερμοκρασίες της ημέρας σε κάθε πόλη: 21, 17, 23\n",
        "temp = \n",
        "\n",
        "# φτιάξτε μια for λούπα που θα τρέχει αριθμούς στο εύρος των τιμών που μπορεί να πάρει το index των αντικειμένων της λίστας\n",
        "for i in range()\n",
        "  # δώσε στη μεταβλητή key την τιμή του κλειδιού του λεξικού που αντιστοιχεί στον τρέχοντα αριθμό index\n",
        "  key = \n",
        "  # δώσε στο τρέχον key του λεξικού την τιμή από τη λίστα των θερμοκρασιών που αντιστοιχεί στον τρέχοντα αριθμό index\n",
        "\n",
        "# (εκτός της for λούπας) τύπωσε το λεξικό"
      ],
      "metadata": {
        "id": "Vc3syTaA0KPe"
      },
      "execution_count": null,
      "outputs": []
    },
    {
      "cell_type": "markdown",
      "source": [
        "\n",
        "\n",
        "---\n",
        "\n"
      ],
      "metadata": {
        "id": "HX5047FwPldf"
      }
    },
    {
      "cell_type": "markdown",
      "source": [
        "####**Nested for loops**:\n",
        "\n",
        "Μπορούμε να έχουμε μια for loop μέσα σε μια άλλη for loop."
      ],
      "metadata": {
        "id": "DbIkmK0xQ8y0"
      }
    },
    {
      "cell_type": "code",
      "source": [
        "for x in range(1, 3):\n",
        "  for item in sm_list:\n",
        "    print(x, item)"
      ],
      "metadata": {
        "colab": {
          "base_uri": "https://localhost:8080/"
        },
        "id": "jXttb3pGQU2T",
        "outputId": "d856bc9f-7252-4265-a135-51c8a17210cd"
      },
      "execution_count": null,
      "outputs": [
        {
          "output_type": "stream",
          "name": "stdout",
          "text": [
            "1 τυρί\n",
            "1 ρύζι\n",
            "1 γάλα\n",
            "1 καμπά\n",
            "1 τροφή για σκέψη\n",
            "1 τροφή για σκέψη\n",
            "1 drinks for python\n",
            "2 τυρί\n",
            "2 ρύζι\n",
            "2 γάλα\n",
            "2 καμπά\n",
            "2 τροφή για σκέψη\n",
            "2 τροφή για σκέψη\n",
            "2 drinks for python\n"
          ]
        }
      ]
    },
    {
      "cell_type": "markdown",
      "source": [
        "\n",
        "\n",
        "---\n",
        "\n"
      ],
      "metadata": {
        "id": "S0uknpHTS4Qe"
      }
    },
    {
      "cell_type": "markdown",
      "source": [
        "##**Τι πρέπει να συγκρατήσουμε για τη for loop**:\n",
        "\n",
        "1. Χρησιμοποιούμε μια for loop όταν θέλουμε να κάνουμε το ίδιο πράγμα, πολλές φορές (**επαναληπτικά**). \n",
        "2. Για να ορίσουμε πόσες φορές θα εκτελεστεί αυτό που θέλουμε να κάνουμε χρησιμοποιούμε το πλήθος των αντικειμένων μιας λίστας.\n",
        "3. Αυτό που θέλουμε να εκτελεστεί, μπορεί να αφορά τα αντικείμενα της λίστας που χρησιμοποιούμε για να ορίσουμε το πλήθος των επαναλήψεων, **αλλά** μπορεί και να μην τα αφορά.\n",
        "4. Μπορούμε να λουπάρουμε σε όλα τα αντικείμενα μιας λίστας χρησιμοποιώντας τον τελεστή **in** ακολουθούμενο από το όνομα μιας λίστας.\n",
        "5. Μπορούμε να λουπάρουμε σε όλους τους **αριθμούς index** των αντικειμένων μιας λίστας χρησιμοποιώντας τον τελεστή **in** ακολουθούμενο από το συνδυασμό της συνάρτησης **range()** με τη συνάρτηση **len()**.\n",
        "\n",
        "* Για λόγους αναγνωσιμότητας του κώδικα καλό είναι, όπου χρειάζεται, να βάζουμε μια λέξη που να **σχετίζεται** με αυτό που κάνουμε\n",
        "* Μπορούμε να έχουμε **nested for loops** (μια for loop μέσα σε μια άλλη for loop)\n",
        "\n",
        "**Η μεγάλη χρησιμότητα του συνδυασμού της συνάρτησης range() με τη len()είναι ότι μας δίνει τους αριθμούς index των αντικειμένων της λίστας**"
      ],
      "metadata": {
        "id": "hMLLbMRvm0Ad"
      }
    },
    {
      "cell_type": "markdown",
      "source": [
        "\n",
        "\n",
        "---\n",
        "\n"
      ],
      "metadata": {
        "id": "joWLMg4bSlby"
      }
    },
    {
      "cell_type": "markdown",
      "source": [
        "# **Η εντολή if**\n",
        "\n",
        "Η εντολή if χρησιμοποιείται για να ελεγχθεί μια συνθήκη και εάν (if) η συνθήκη αυτή είναι αληθής, τότε εκτελείται ένα σύνολο (τμήμα) εντολών (που ονομάζεται if-block), διαφορετικά (else) γίνεται επεξεργασία ενός άλλου συνόλου εντολών (που ονομάζεται else-block). Η χρήση του όρου else είναι προαιρετική.\n",
        "\n",
        "**H δομή της εντολής if**:"
      ],
      "metadata": {
        "id": "aYf45yKkKW3e"
      }
    },
    {
      "cell_type": "code",
      "source": [
        "a = 5\n",
        "b = 5\n",
        "if a == b:                         # αν αυτή η συνθήκη είναι True \n",
        "  print(\"οι αριθμοί είναι ίσοι\"    # κάνε αυτό\n",
        "else:                              # αλλιώς (αν η παραπάνω συνθήκη είναι False)\n",
        "  print(\"ο αριθμοί είναι άνισοι\")  # κάνε αυτό"
      ],
      "metadata": {
        "id": "Hc2dlx3gXosd"
      },
      "execution_count": null,
      "outputs": []
    },
    {
      "cell_type": "markdown",
      "source": [
        "**Παρατηρήσεις για τη σύνταξη**:\n",
        "\n",
        "Όπως και με την εντολή for,\n",
        "* στο τέλος των γραμμών ελέγχου if και else μπαίνει **άνω-κάτω τελεία (:)**\n",
        "* οι γραμμές των εντολών προς εκτέλεση είναι **intended (εσέχουν)**"
      ],
      "metadata": {
        "id": "C_n3dyNTXxdt"
      }
    },
    {
      "cell_type": "markdown",
      "source": [
        "**Επέκταση**: \n",
        "\n",
        "Μπορούμε να προσθέσουμε κι άλλες συνθήκες προς έλεγχο μέσα σε μια εντολή if:"
      ],
      "metadata": {
        "id": "5zDSD01MX5WA"
      }
    },
    {
      "cell_type": "code",
      "source": [
        "a = 5\n",
        "b = 5\n",
        "if a == b:                              # αν αυτή η συνθήκη είναι True\n",
        "  print(\"οι αριθμοί είναι ίσοι\"         # κάνε αυτό\n",
        "elif a > b:                             # αλλιώς, αν αυτή η συνθήκη είναι Τrue\n",
        "  print(\"ο a είναι μεγαλύτερος του b\")  # κάνε αυτό\n",
        "else:                                   # αλλιώς (αν όλες οι παραπάνω συνθήκες είναι False)\n",
        "  print(\"ο a είναι μικρότερος του b\")   # κάνε αυτό"
      ],
      "metadata": {
        "id": "3-DTfdRaXajq"
      },
      "execution_count": null,
      "outputs": []
    },
    {
      "cell_type": "markdown",
      "source": [
        "\n",
        "\n",
        "---\n",
        "\n",
        "####**Ασκηση 4**\n",
        "\n",
        "**Try yourself**: \n",
        "\n",
        "Φτιάξτε ένα νέο κελί κώδικα (Code cell) ακριβώς κάτω από αυτό και:\n",
        "\n",
        "* δημιουργήστε μια μεταβλητή με τιμή το όνομά σας και τρέξτε το κελί\n",
        "\n",
        "Φτιάξτε ένα νέο κελί από κάτω και:\n",
        "\n",
        "* γράψτε ένα κομμάτι κώδικα το οποίο:\n",
        "  * θα ελέγχει αν η τιμή της μεταβλητής του ονόματος είναι \"Terry\"\n",
        "  * αν είναι, θα τυπώνει στην οθόνη \"Γειά σου Terry!\"\n",
        "  * αν δεν είναι:\n",
        "    * θα τυπώνει \"Wrong user\" και \n",
        "    * θα θέτει στη μεταβλητή του ονόματός σας την τιμή \"Terry\"\n",
        "* πριν τρέξετε το κελί, μαντέψτε τι θα τυπωθεί στην οθόνη\n",
        "* τρέξτε το κελί και συγκρίνετε το αποτέλεσμα με τη μαντεψιά σας\n",
        "* τι θα τυπωθεί αν ξανατρέξετε το κελί;"
      ],
      "metadata": {
        "id": "HSPetZqoTPiy"
      }
    },
    {
      "cell_type": "markdown",
      "source": [
        "\n",
        "\n",
        "---\n",
        "\n",
        "####**Άσκηση 5**"
      ],
      "metadata": {
        "id": "hedzZ2gBa-6g"
      }
    },
    {
      "cell_type": "markdown",
      "source": [
        "Έστω ότι έχουμε μια λίστα με ονόματα φοιτητών"
      ],
      "metadata": {
        "id": "fmsiDiVgccAP"
      }
    },
    {
      "cell_type": "code",
      "source": [
        "studentsL = [\"Γιάννης\", \"Άννα\", \"Πέτρος\", \"Βάσω\", \"Ελίνα\"]"
      ],
      "metadata": {
        "id": "cBI43Hg2Z3VD"
      },
      "execution_count": 25,
      "outputs": []
    },
    {
      "cell_type": "markdown",
      "source": [
        "Γράψτε έναν κώδικα που θα λουπάρει σε όλα τα ονόματα της λίστας και θα τυπώνει το μήνυμα: Γειά σου <όνομα>"
      ],
      "metadata": {
        "id": "RLB0fP0gczIt"
      }
    },
    {
      "cell_type": "code",
      "source": [],
      "metadata": {
        "id": "urHIQr5VdQXb"
      },
      "execution_count": null,
      "outputs": []
    },
    {
      "cell_type": "markdown",
      "source": [
        "Αν τα ονόματα ήταν στα αγγλικά, το αποτέλεσμα θα ήταν εντάξει, αλλά στα ελληνικά το μήνυμα δεν είναι γραμματικά σωστό όταν το όνομα είναι αρσενικό."
      ],
      "metadata": {
        "id": "666ViCUydhZC"
      }
    },
    {
      "cell_type": "markdown",
      "source": [
        "Ξέρουμε ήδη ότι ένα string είναι λίστα. Επομένως μπορούμε χρησιμοποιώντας το slicing να πάρουμε τα αρσενικά ονόματα στην αιτιατική αφαιρώντας το τελικό σίγμα που είναι στο τέλος."
      ],
      "metadata": {
        "id": "gOZ3V13gd_CJ"
      }
    },
    {
      "cell_type": "code",
      "source": [
        "studentsL[0][:-1]   # καλούμε το πρώτο όνομα της λίστας και από αυτό κρατάμε τα γράμματα από την αρχή έως το προτελευταίο"
      ],
      "metadata": {
        "colab": {
          "base_uri": "https://localhost:8080/",
          "height": 35
        },
        "id": "CfYY5HAie8gY",
        "outputId": "42183b54-9980-4683-bd77-5205b04dffd1"
      },
      "execution_count": 27,
      "outputs": [
        {
          "output_type": "execute_result",
          "data": {
            "text/plain": [
              "'Γιάννη'"
            ],
            "application/vnd.google.colaboratory.intrinsic+json": {
              "type": "string"
            }
          },
          "metadata": {},
          "execution_count": 27
        }
      ]
    },
    {
      "cell_type": "markdown",
      "source": [
        "Πολύ ωραία! Εφαρμόστε το slicing στη λούπα που γράψατε παραπάνω και τρέξτε τη"
      ],
      "metadata": {
        "id": "ZO7tnWeZfm5D"
      }
    },
    {
      "cell_type": "code",
      "source": [],
      "metadata": {
        "id": "t7OHtmn8gGYH"
      },
      "execution_count": null,
      "outputs": []
    },
    {
      "cell_type": "markdown",
      "source": [
        "Δυστυχώς, κόβονται και τα θηλυκά ονόματα. \n",
        "\n",
        "####**Ζητούμενο άσκησης**:\n",
        "\n",
        "Προσθέστε στον κώδικα της λούπας στο παρακάτω κελί, μια εντολή if, η οποία θα ελέγχει αν το τελευταίο γράμμα του εκάστοτε ονόματος είναι \"ς\". Αν είναι, τότε θα το αφαιρεί όταν τυπώνει το όνομα. Αλλιώς, θα το τυπώνει όπως είναι. "
      ],
      "metadata": {
        "id": "gEgSD4T8gR9J"
      }
    },
    {
      "cell_type": "code",
      "source": [
        "for s in studentsL:\n"
      ],
      "metadata": {
        "colab": {
          "base_uri": "https://localhost:8080/"
        },
        "id": "VcUhUTNDhBHs",
        "outputId": "138c5e53-888e-43fa-c0fd-d40ef84a3ee9"
      },
      "execution_count": 29,
      "outputs": [
        {
          "output_type": "stream",
          "name": "stdout",
          "text": [
            "Γειά σου Γιάννη\n",
            "Γειά σου Άννα\n",
            "Γειά σου Πέτρο\n",
            "Γειά σου Βάσω\n",
            "Γειά σου Ελίνα\n"
          ]
        }
      ]
    },
    {
      "cell_type": "markdown",
      "source": [
        "\n",
        "\n",
        "---\n",
        "\n"
      ],
      "metadata": {
        "id": "MKrcLo7OnwV8"
      }
    },
    {
      "cell_type": "markdown",
      "source": [
        "####**Οι μέθοδοι endswith() και startswith()**\n",
        "\n",
        "Ενώ μπορούμε να εντοπίσουμε συγκεκριμένους χαρακτήρες ενός string με list slicing, η python μας προσφέρει και δυο string μεθόδους που ελέγχουν αν η αρχή και το τέλος ενός string είναι κάποιο συγκεκριμένο string."
      ],
      "metadata": {
        "id": "N8AQES4-h2OX"
      }
    },
    {
      "cell_type": "code",
      "source": [
        "studentsL[0].startswith(\"Γιά\")"
      ],
      "metadata": {
        "colab": {
          "base_uri": "https://localhost:8080/"
        },
        "id": "UNGn6x3sjvRP",
        "outputId": "37998ca8-ebb9-4b77-f8cb-338cd5bd1204"
      },
      "execution_count": 32,
      "outputs": [
        {
          "output_type": "execute_result",
          "data": {
            "text/plain": [
              "True"
            ]
          },
          "metadata": {},
          "execution_count": 32
        }
      ]
    },
    {
      "cell_type": "code",
      "source": [
        "studentsL[1].endswith(\"ς\")"
      ],
      "metadata": {
        "colab": {
          "base_uri": "https://localhost:8080/"
        },
        "id": "MRGGwI2IkoZ_",
        "outputId": "bf5abdbb-e375-4e23-9da5-45d3bc588517"
      },
      "execution_count": 33,
      "outputs": [
        {
          "output_type": "execute_result",
          "data": {
            "text/plain": [
              "False"
            ]
          },
          "metadata": {},
          "execution_count": 33
        }
      ]
    },
    {
      "cell_type": "markdown",
      "source": [
        "Αυτο που βλέπουμε εδώ είναι ότι στην Python, όπως και σε όλες τις γλώσσες, **μπορούμε να κάνουμε το ίδιο πράγμα με διάφορους τρόπους**. Υπάρχουν διαφορές ανάμεσα στους τρόπους (που αφορούν την ταχύτητα εκτέλεσης των εντολών, την κομψότητα του κώδικα κλπ.), αλλά ο κανόνας λέει: δουλεύει; **αν δουλεύει είναι εντάξει**.\n",
        "\n",
        "\n",
        "---\n",
        "\n"
      ],
      "metadata": {
        "id": "MW-LBEuBpLlg"
      }
    },
    {
      "cell_type": "markdown",
      "source": [
        "#**Ανασκόπηση**\n",
        "\n",
        "###**Τι μπορούμε να κάνουμε με όσα έχουμε μάθει σε μόλις 2 εβδομάδες**:\n",
        "\n",
        "* να δημιουργούμε και να επεξεργαζόμαστε **μεταβλητές διαφόρων τύπων δεδομένων**\n",
        "* να δημιουργούμε και να επεξεργαζόμαστε λίστες (**lists**) και λεξικά (**dictionaries**)\n",
        "* να φτιάχνουμε μηχανισμούς **επανάληψης** εκτέλεσης κομματιών κώδικα με τη χρήση της **for loop**, της συνάρτησης **range()** και το συνδυασμό της τελευταίας με τη συνάρτηση **len()**\n",
        "\n",
        "###**Και μετά**;\n",
        "\n",
        "Μετά την εξάσκηση σε αυτά που ήδη ξέρουμε, θα είμαστε έτοιμοι (στην 3η εβδομάδα) να προχωρήσουμε στην επεξεργασία των πρώτων μας **μεγάλων δεδομένων**."
      ],
      "metadata": {
        "id": "QLB9QM6RqZXz"
      }
    }
  ]
}