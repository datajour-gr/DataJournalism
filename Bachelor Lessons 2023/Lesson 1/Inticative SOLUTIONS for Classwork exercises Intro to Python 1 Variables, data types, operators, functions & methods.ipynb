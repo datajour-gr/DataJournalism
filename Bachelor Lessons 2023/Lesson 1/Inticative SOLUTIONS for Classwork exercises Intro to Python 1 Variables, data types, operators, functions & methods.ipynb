{
  "nbformat": 4,
  "nbformat_minor": 0,
  "metadata": {
    "colab": {
      "provenance": []
    },
    "kernelspec": {
      "name": "python3",
      "display_name": "Python 3"
    },
    "language_info": {
      "name": "python"
    }
  },
  "cells": [
    {
      "cell_type": "markdown",
      "source": [
        "#Ασκήσεις του μαθήματος \"Εισαγωγή στην Python 1 - Variables, data types (integers, floats, stings, boolean, lists, dictionaries), mathematical & comparison operators, functions & methods"
      ],
      "metadata": {
        "id": "eZ6s1jOQBAty"
      }
    },
    {
      "cell_type": "markdown",
      "source": [
        "\n",
        "\n",
        "---\n",
        "\n",
        "\n",
        "####**Άσκηση 2** (Προαιρετικά)\n",
        "\n",
        "**Try yourself**: Φτιάξτε ένα νέο κελί κώδικα (Code cell) ακριβώς κάτω από αυτό και δημιουργήστε μεταβλητές με τα στοιχεία σας:\n",
        "\n",
        "*   το μικρό σας όνομα\n",
        "*   το επίθετό σας\n",
        "*   το email σας\n",
        "*   το εξάμηνό σας\n",
        "*   τυπώστε όλα μαζί τα παραπάνω στην οθόνη"
      ],
      "metadata": {
        "id": "wiiXoX3tfVML"
      }
    },
    {
      "cell_type": "code",
      "source": [
        "name = \"Theo\"\n",
        "surname = \"Paraskevas\"\n",
        "email = \"tspara5@example.com\"\n",
        "semester = \"14\"\n",
        "print(name, surname, email, semester)"
      ],
      "metadata": {
        "colab": {
          "base_uri": "https://localhost:8080/"
        },
        "id": "MixUWj7L0w42",
        "outputId": "eaccc27a-43ee-4cc7-a872-da7d0bbec05f"
      },
      "execution_count": null,
      "outputs": [
        {
          "output_type": "stream",
          "name": "stdout",
          "text": [
            "Theo Paraskevas tspara5@example.com 14\n"
          ]
        }
      ]
    },
    {
      "cell_type": "markdown",
      "source": [
        "\n",
        "\n",
        "---\n",
        "\n",
        "####**Άσκηση 3**\n",
        "\n",
        "**Try yourself**: Φτιάξτε ένα νέο κελί κώδικα (Code cell) ακριβώς κάτω από αυτό και κάνετε τα παρακάτω:\n",
        "\n",
        "* δημιουργήστε 3 μεταβλητές, όπου η καθεμιά θα έχει τη θερμοκρασία του αέρα όπως την καταγράψαμε το πρωί, το μεσημέρι και το βράδυ\n",
        "* βρείτε το μέσο όρο των θερμοκρασιών\n",
        "* βρείτε τη μέγιστη διαφορά των θερμοκρασιών\n",
        "* δημιουργήστε μια νέα μεταβλητή που θα περιέχει την τιμή της μέσης θερμοκρασίας σε ακέραιο\n",
        "* ελέγξτε τα αποτελέσματα τυπώνοντάς τα στην οθόνη\n"
      ],
      "metadata": {
        "id": "yrhDlp7r8Jsi"
      }
    },
    {
      "cell_type": "code",
      "source": [
        "t_morn = 17\n",
        "t_noon = 21\n",
        "t_night = 12\n",
        "mo = (t_morn + t_noon + t_night)/3\n",
        "max_dif = t_noon - t_night\n",
        "int_mo = int(mo)\n",
        "print(\"μ.ο. =\", mo)\n",
        "print(\"ακέραιος μ.ο. =\", int_mo)"
      ],
      "metadata": {
        "colab": {
          "base_uri": "https://localhost:8080/"
        },
        "id": "5a79F7cJ1rgO",
        "outputId": "6d006d62-4120-46fa-813c-5de546fc83e7"
      },
      "execution_count": null,
      "outputs": [
        {
          "output_type": "stream",
          "name": "stdout",
          "text": [
            "μ.ο. = 16.666666666666668\n",
            "ακέραιος μ.ο. = 16\n"
          ]
        }
      ]
    },
    {
      "cell_type": "markdown",
      "source": [
        "\n",
        "\n",
        "---\n",
        "\n",
        "####**Άσκηση 4**\n",
        "\n",
        "**Try yourself**: Φτιάξτε ένα νέο κελί κώδικα (Code cell) ακριβώς κάτω από αυτό και κάνετε τα παρακάτω:\n",
        "\n",
        "* δημιουργήστε μια μεταβλητή με την πόλη που μένετε και μία με το αγαπημένο σας ταξιδιωτικό προορισμό\n",
        "* ελέγξτε την ομοιότητα του τύπου των μεταβλητών\n",
        "* ελέγξτε την ισότητα των μεταβλητών\n",
        "* ελέγξτε αν η μεταβλητή της πόλης είναι μικρότερη της μεταβλητής του ταξιδιωτικού προορισμού\n",
        "\n",
        "Τι νομίζετε ότι σημαίνει ότι ένα string είναι μεγαλύτερο, μικρότερο ή ίσο με ένα άλλο; (Γράψτε την απάντησή σας σε ένα νέο text cell ή σε ένα code cell σαν σχόλιο)\n"
      ],
      "metadata": {
        "id": "pg9-mk1eTq2l"
      }
    },
    {
      "cell_type": "code",
      "source": [
        "city = \"Athens\"\n",
        "fav_place = \"Berlin\"\n",
        "print(city == fav_place)\n",
        "print(city < fav_place)"
      ],
      "metadata": {
        "colab": {
          "base_uri": "https://localhost:8080/"
        },
        "id": "k9CE7lO_3FW3",
        "outputId": "9830b717-1cdc-45ce-c059-c2354c4eb865"
      },
      "execution_count": null,
      "outputs": [
        {
          "output_type": "stream",
          "name": "stdout",
          "text": [
            "False\n",
            "True\n"
          ]
        }
      ]
    },
    {
      "cell_type": "code",
      "source": [
        "# η σύγκριση 2 strings έχει να κάνει με την αλφαβητική τους διάταξη"
      ],
      "metadata": {
        "id": "Zue_D9_M4TsK"
      },
      "execution_count": null,
      "outputs": []
    },
    {
      "cell_type": "markdown",
      "source": [
        "\n",
        "\n",
        "---\n",
        "\n",
        "####**Άσκηση 5**\n",
        "\n",
        "**Try yourself**: Φτιάξτε ένα νέο κελί κώδικα (Code cell) ακριβώς κάτω από αυτό και κάνετε τα παρακάτω:\n",
        "\n",
        "* δημιουργήστε μια μεταβλητή με τιμή την datetime ημερομηνία δημοσίευσης ενός άρθρου: 2023-03-24T12:07:19+02:00\n",
        "* απομονώστε την ημερομηνία και αποθηκεύστε τη σε μια μεταβλητή με κατάλληλο όνομα\n",
        "* τυπώστε την ημερομηνία\n",
        "* φτιάξτε ένα νέο code cell\n",
        "* αποθηκεύστε σε διαφορετικές μεταβλητές το έτος, το μήνα και την ημέρα (**tip**: κάντε το ένα ένα και τυπώνετε για να βλέπετε αν το κάνετε σωστά)\n",
        "* φτιάξτε ένα νέο code cell\n",
        "* απομονώστε την ώρα (το 12:07:19) και αποθηκεύστε τη σε μια νέα μεταβλητή \n",
        "* φτιάξτε ένα νέο code cell\n",
        "* χρησιμοποιώντας τις μεταβλητές που φτιάξατε, δημιουργήστε μια νέα μεταβλητή με όνομα custom_daytime που θα περιέχει: <ημέρα>/<μήνας>/<έτος>, ώρα: <ώρα>\n",
        "* και τυπώστε τη στην οθόνη"
      ],
      "metadata": {
        "id": "jIk9BoTu-f05"
      }
    },
    {
      "cell_type": "code",
      "source": [
        "datetime = \"2023-03-24T12:07:19+02:00\"\n",
        "date = datetime[:10]\n",
        "date"
      ],
      "metadata": {
        "colab": {
          "base_uri": "https://localhost:8080/",
          "height": 35
        },
        "id": "HDtOehf54SIj",
        "outputId": "90c0fc5a-3fe8-4cc5-8bf7-7c6f34498b31"
      },
      "execution_count": null,
      "outputs": [
        {
          "output_type": "execute_result",
          "data": {
            "text/plain": [
              "'2023-03-24'"
            ],
            "application/vnd.google.colaboratory.intrinsic+json": {
              "type": "string"
            }
          },
          "metadata": {},
          "execution_count": 6
        }
      ]
    },
    {
      "cell_type": "code",
      "source": [
        "year = date[:4]\n",
        "month = date[5:7]\n",
        "day = date[8:10]\n",
        "print(year, month, day)"
      ],
      "metadata": {
        "colab": {
          "base_uri": "https://localhost:8080/"
        },
        "id": "jNk5E7AV5B0I",
        "outputId": "11a6de14-bae5-42fd-bda9-7830d333cdfc"
      },
      "execution_count": null,
      "outputs": [
        {
          "output_type": "stream",
          "name": "stdout",
          "text": [
            "2023 03 24\n"
          ]
        }
      ]
    },
    {
      "cell_type": "code",
      "source": [
        "time = datetime[11:-6]\n",
        "time"
      ],
      "metadata": {
        "colab": {
          "base_uri": "https://localhost:8080/",
          "height": 35
        },
        "id": "1i8h-su76Cr3",
        "outputId": "59328113-b154-4745-9474-ee1db805df2a"
      },
      "execution_count": null,
      "outputs": [
        {
          "output_type": "execute_result",
          "data": {
            "text/plain": [
              "'12:07:19'"
            ],
            "application/vnd.google.colaboratory.intrinsic+json": {
              "type": "string"
            }
          },
          "metadata": {},
          "execution_count": 9
        }
      ]
    },
    {
      "cell_type": "code",
      "source": [
        "custom_daytime = day + \"/\" + month + \"/\" + year + \", ώρα: \" + time\n",
        "custom_daytime"
      ],
      "metadata": {
        "colab": {
          "base_uri": "https://localhost:8080/",
          "height": 35
        },
        "id": "ToqKdr4y61s_",
        "outputId": "3cabdbb9-66df-440e-9039-3e3385dddae9"
      },
      "execution_count": null,
      "outputs": [
        {
          "output_type": "execute_result",
          "data": {
            "text/plain": [
              "'24/03/2023, ώρα: 12:07:19'"
            ],
            "application/vnd.google.colaboratory.intrinsic+json": {
              "type": "string"
            }
          },
          "metadata": {},
          "execution_count": 10
        }
      ]
    },
    {
      "cell_type": "markdown",
      "source": [
        "\n",
        "\n",
        "---\n",
        "\n",
        "####**Άσκηση 6**\n",
        "\n",
        "**Try yourself**: Φτιάξτε ένα νέο κελί κώδικα (Code cell) ακριβώς κάτω από αυτό και κάνετε τα παρακάτω:\n",
        "\n",
        "1. Δημιουργήστε μια κενή λίστα με όνομα usersL\n",
        "2. Φτιάξτε μια μεταβλητή με όνομα email1 και τιμή ένα email\n",
        "3. Βρείτε το index του \"@\" (με function) και αποθηκεύστε το σε μια μεταβλητή με όνομα at1\n",
        "4. Πάρτε (slice) το τμήμα του mail που έχει μόνο το όνομα, αποθηκεύστε το σε μια μεταβλητή με όνομα user1 και βάλτε το στη λίστα usersL\n",
        "5. Επαναλάβετε τα βήματα 2-4 άλλη 1 φορά (κάντε copy-paste και αλλάξτε ό,τι χρειάεται)\n",
        "6. Ταξινομήστε τα περιεχόμενα της λίστας με αύξουσα σειρά και\n",
        "7. Τυπώστε τα περιεχόμενά της στην οθόνη\n",
        "\n",
        "**Tip**: χρησιμοποιήστε όσα κελιά θέλετε έτσι ώστε να ελέγχετε τι κάνετε σε κάθε βήμα"
      ],
      "metadata": {
        "id": "_agWj9vpdYL9"
      }
    },
    {
      "cell_type": "code",
      "source": [
        "usersL = []\n",
        "email1 = \"kostasn@gmail.com\"\n",
        "at1 = email1.index(\"@\")\n",
        "at1"
      ],
      "metadata": {
        "colab": {
          "base_uri": "https://localhost:8080/"
        },
        "id": "d9fvo6ZE8DqB",
        "outputId": "b114eee0-8b49-4d16-9ecf-cbfbb4e1382e"
      },
      "execution_count": null,
      "outputs": [
        {
          "output_type": "execute_result",
          "data": {
            "text/plain": [
              "7"
            ]
          },
          "metadata": {},
          "execution_count": 22
        }
      ]
    },
    {
      "cell_type": "code",
      "source": [
        "user1 = email1[:at1]\n",
        "user1"
      ],
      "metadata": {
        "colab": {
          "base_uri": "https://localhost:8080/",
          "height": 35
        },
        "id": "WjvAwq7x9kPa",
        "outputId": "a0c92cd2-dfd8-41ff-fa73-59554dd8f269"
      },
      "execution_count": null,
      "outputs": [
        {
          "output_type": "execute_result",
          "data": {
            "text/plain": [
              "'kostasn'"
            ],
            "application/vnd.google.colaboratory.intrinsic+json": {
              "type": "string"
            }
          },
          "metadata": {},
          "execution_count": 23
        }
      ]
    },
    {
      "cell_type": "code",
      "source": [
        "usersL.append(user1)\n",
        "usersL"
      ],
      "metadata": {
        "colab": {
          "base_uri": "https://localhost:8080/"
        },
        "id": "EWF3QUeg8_OC",
        "outputId": "7042c0dd-e75b-4e13-9032-b1fa17c6cba3"
      },
      "execution_count": null,
      "outputs": [
        {
          "output_type": "execute_result",
          "data": {
            "text/plain": [
              "['kostasn']"
            ]
          },
          "metadata": {},
          "execution_count": 24
        }
      ]
    },
    {
      "cell_type": "code",
      "source": [
        "email2 = \"elenip@gmail.com\"\n",
        "at2 = email2.index(\"@\")\n",
        "user2 = email2[:at2]\n",
        "usersL.append(user2)\n",
        "usersL"
      ],
      "metadata": {
        "colab": {
          "base_uri": "https://localhost:8080/"
        },
        "id": "DM9tYAtW_Xjp",
        "outputId": "c4347c7e-ada8-431f-f8c2-cbc0ce202f07"
      },
      "execution_count": null,
      "outputs": [
        {
          "output_type": "execute_result",
          "data": {
            "text/plain": [
              "['kostasn', 'elenip']"
            ]
          },
          "metadata": {},
          "execution_count": 25
        }
      ]
    },
    {
      "cell_type": "code",
      "source": [
        "usersL.sort()\n",
        "usersL"
      ],
      "metadata": {
        "colab": {
          "base_uri": "https://localhost:8080/"
        },
        "id": "mMRFoeEI_9gi",
        "outputId": "394d19e9-3728-4d9d-fa68-1d05793f4869"
      },
      "execution_count": null,
      "outputs": [
        {
          "output_type": "execute_result",
          "data": {
            "text/plain": [
              "['elenip', 'kostasn']"
            ]
          },
          "metadata": {},
          "execution_count": 35
        }
      ]
    },
    {
      "cell_type": "markdown",
      "source": [
        "\n",
        "\n",
        "---\n",
        "\n",
        "####**Άσκηση 7**\n",
        "\n",
        "**Try yourself**: Σ' αυτή την άσκηση θα φτιάξουμε μια λίστα στην οποία θα αποθηκεύουμε δίάφορα δεδομένα από άρθρα που δημοσιεύονται σε sites.\n",
        "\n",
        "Φτιάξτε ένα νέο κελί κώδικα (Code cell) ακριβώς κάτω από αυτό και κάνετε τα παρακάτω:\n",
        "\n",
        "1. Δημιουργήστε μια κενή λίστα όπου θα αποθηκεύετε τα δεδομένα των άρθρων\n",
        "2. Δημιουργήστε ένα λεξικό με τα στοιχεία του πρώτου άρθρου που θα συλλέξετε από ένα site: \"Τίτλος\", \"Ημερομηνία\", \"Κατηγορία\", \"url\"\n",
        "3. Επαναλάβετε το 2 για ακόμα ένα άρθρο\n",
        "4. Προσθέστε τα λεξικά στη λίστα.\n",
        "5. Τυπώστε στην οθόνη τον τίτλο του 2ου άρθρου\n",
        "6. Προσθέστε και στα 2 άρθρα μια εγγραφή με το όνομα του αντίστοιχου site που πήρατε το άρθρο\n",
        "7. Τυπώστε στην οθόνη το πλήθος των λεξικών που έχει η λίστα.\n",
        "\n",
        "**Tip**:Δουλέψτε τμηματικά και ελέγχετε σε κάθε βήμα αυτό που κάνετε."
      ],
      "metadata": {
        "id": "KpVX9pHLNgB6"
      }
    },
    {
      "cell_type": "code",
      "source": [
        "articlesL = []\n",
        "article1 = {\"title\":\"Δικαίωση για τους φοιτητές Γεωπονικών Σχολών\",\n",
        "            \"date\":\"30.03.2023\",\n",
        "            \"section\":\"ΕΚΠΑΙΔΕΥΣΗ\",\n",
        "            \"url\":\"https://www.efsyn.gr/ellada/ekpaideysi/384037_dikaiosi-gia-toys-foitites-geoponikon-sholon\"\n",
        "            }\n",
        "article2 = {\"title\":\"Βραζιλία: Γυναίκα βρέθηκε ζωντανή μετά από 10 ώρες μέσα σε τάφο – Την έθαψαν για λόγους εκδίκησης\",\n",
        "            \"date\":\"30.03.2023\",\n",
        "            \"section\":\"ΚΟΣΜΟΣ\",\n",
        "            \"url\":\"https://www.in.gr/2023/03/30/world/vrazilia-gynaika-vrethike-zontani-meta-apo-10-ores-mesa-se-tafo-tin-ethapsan-gia-logous-ekdikisis/\"\n",
        "            }\n",
        "articlesL.extend([article1, article2])\n",
        "articlesL"
      ],
      "metadata": {
        "colab": {
          "base_uri": "https://localhost:8080/"
        },
        "id": "n6UK1NM_BNAO",
        "outputId": "4b44e1cc-3db7-49bb-da12-b5aa9882e4f4"
      },
      "execution_count": null,
      "outputs": [
        {
          "output_type": "execute_result",
          "data": {
            "text/plain": [
              "[{'title': 'Δικαίωση για τους φοιτητές Γεωπονικών Σχολών',\n",
              "  'date': '30.03.2023',\n",
              "  'section': 'ΕΚΠΑΙΔΕΥΣΗ',\n",
              "  'url': 'https://www.efsyn.gr/ellada/ekpaideysi/384037_dikaiosi-gia-toys-foitites-geoponikon-sholon'},\n",
              " {'title': 'Βραζιλία: Γυναίκα βρέθηκε ζωντανή μετά από 10 ώρες μέσα σε τάφο – Την έθαψαν για λόγους εκδίκησης',\n",
              "  'date': '30.03.2023',\n",
              "  'section': 'ΚΟΣΜΟΣ',\n",
              "  'url': 'https://www.in.gr/2023/03/30/world/vrazilia-gynaika-vrethike-zontani-meta-apo-10-ores-mesa-se-tafo-tin-ethapsan-gia-logous-ekdikisis/'}]"
            ]
          },
          "metadata": {},
          "execution_count": 36
        }
      ]
    },
    {
      "cell_type": "code",
      "source": [
        "articlesL[1][\"title\"]"
      ],
      "metadata": {
        "colab": {
          "base_uri": "https://localhost:8080/",
          "height": 35
        },
        "id": "NIWQ2VSAEYOH",
        "outputId": "02a2f836-616d-4e8e-d2e3-e581f8283a22"
      },
      "execution_count": null,
      "outputs": [
        {
          "output_type": "execute_result",
          "data": {
            "text/plain": [
              "'Βραζιλία: Γυναίκα βρέθηκε ζωντανή μετά από 10 ώρες μέσα σε τάφο – Την έθαψαν για λόγους εκδίκησης'"
            ],
            "application/vnd.google.colaboratory.intrinsic+json": {
              "type": "string"
            }
          },
          "metadata": {},
          "execution_count": 37
        }
      ]
    },
    {
      "cell_type": "code",
      "source": [
        "article1[\"site\"] = \"efsyn.gr\"\n",
        "article2[\"site\"] = \"in.gr\"\n",
        "articlesL"
      ],
      "metadata": {
        "colab": {
          "base_uri": "https://localhost:8080/"
        },
        "id": "Xr2-R7XZEiCJ",
        "outputId": "a1cd40c0-5818-417d-ba02-f52ea457959c"
      },
      "execution_count": null,
      "outputs": [
        {
          "output_type": "execute_result",
          "data": {
            "text/plain": [
              "[{'title': 'Δικαίωση για τους φοιτητές Γεωπονικών Σχολών',\n",
              "  'date': '30.03.2023',\n",
              "  'section': 'ΕΚΠΑΙΔΕΥΣΗ',\n",
              "  'url': 'https://www.efsyn.gr/ellada/ekpaideysi/384037_dikaiosi-gia-toys-foitites-geoponikon-sholon',\n",
              "  'site': 'efsyn.gr'},\n",
              " {'title': 'Βραζιλία: Γυναίκα βρέθηκε ζωντανή μετά από 10 ώρες μέσα σε τάφο – Την έθαψαν για λόγους εκδίκησης',\n",
              "  'date': '30.03.2023',\n",
              "  'section': 'ΚΟΣΜΟΣ',\n",
              "  'url': 'https://www.in.gr/2023/03/30/world/vrazilia-gynaika-vrethike-zontani-meta-apo-10-ores-mesa-se-tafo-tin-ethapsan-gia-logous-ekdikisis/',\n",
              "  'site': 'in.gr'}]"
            ]
          },
          "metadata": {},
          "execution_count": 38
        }
      ]
    },
    {
      "cell_type": "code",
      "source": [
        "len(articlesL)"
      ],
      "metadata": {
        "colab": {
          "base_uri": "https://localhost:8080/"
        },
        "id": "nRqNfwQpE8AP",
        "outputId": "dd3e859e-5405-40b8-8d2b-5d58ce9da30a"
      },
      "execution_count": null,
      "outputs": [
        {
          "output_type": "execute_result",
          "data": {
            "text/plain": [
              "2"
            ]
          },
          "metadata": {},
          "execution_count": 39
        }
      ]
    }
  ]
}