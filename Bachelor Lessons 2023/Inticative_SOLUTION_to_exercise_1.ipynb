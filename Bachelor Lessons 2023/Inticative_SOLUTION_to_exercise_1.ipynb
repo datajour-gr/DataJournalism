{
  "nbformat": 4,
  "nbformat_minor": 0,
  "metadata": {
    "colab": {
      "provenance": []
    },
    "kernelspec": {
      "name": "python3",
      "display_name": "Python 3"
    },
    "language_info": {
      "name": "python"
    }
  },
  "cells": [
    {
      "cell_type": "markdown",
      "metadata": {
        "id": "ZRX_rSqYQ1Ce"
      },
      "source": [
        "## <span style=\"color:red\">*Άσκηση 1*</span>\n",
        "\n",
        "<span style=\"color:red\">\n",
        "\n",
        "Αλλάξτε το όνομα του notebook βάζοντας το όνομά σας και homework-1-part1-lastname\n",
        "\n",
        "Ακριβώς κάτω από αυτό το κελί προσθέστε νέα κελιά στα οποία θα:\n",
        "\n",
        "Θα φτιάξετε μια λίστα με τους παρακάτω αριθμούς: 23, 91, 0, -11, 4, 23 και 49.\n",
        "Βρείτε τον αριθμό των αντικειμένων της λίστας.\n",
        "Βρείτε το 4ο στοιχείο της λίστας.\n",
        "Βρείτε το άθροισμα του 2ου και του 4ου στοιχείου της λίστας.\n",
        "Βρείτε το 2ο μεγαλύτερο στοιχείο της λίστας.\n",
        "Βρείτε το τελευταίο αντικείμενο της αρχικής λίστας (χωρίς σορτάρισμα).\n",
        "Για κάθε αριθμό να εμφανίσετε έναν αριθμό: αν ο αρχικός αριθμός είναι μεγαλύτερος του 10, πολλαπλασιάστε με το 30. Αν επίσης είναι ζυγός αριθμός, προσθέστε 6. Αν είναι μεγαλύτερος του 50, αφαιρέστε 10. Αν δεν είναι ίσος με -11, αφαιρέστε 1. (Για παράδειγμα το 12 είναι μεγαλύτερο του 10, άρα πολλαπλασιάζουμε 12 * 30 = 360, είναι επίσης ζυγός αριθμός, άρα 360 + 6 = 366, δεν είναι ίσο με -11, άρα 366-1=365.)\n",
        "\n",
        "Βρείτε το σύνολο των αριθμών δια δύο.\n",
        "</span>"
      ]
    },
    {
      "cell_type": "markdown",
      "source": [
        "Φτιάξτε μια λίστα με τους παρακάτω αριθμούς: 23, 91, 0, -11, 4, 23 και 49. "
      ],
      "metadata": {
        "id": "MGWXfDGERMWw"
      }
    },
    {
      "cell_type": "code",
      "source": [
        "numbers = [23, 91, 0, -11, 4, 23, 49]\n",
        "numbers"
      ],
      "metadata": {
        "colab": {
          "base_uri": "https://localhost:8080/"
        },
        "id": "LSazs8kkRI9s",
        "outputId": "b6f9e5e9-d0ab-4764-d070-26882264b3e8"
      },
      "execution_count": 1,
      "outputs": [
        {
          "output_type": "execute_result",
          "data": {
            "text/plain": [
              "[23, 91, 0, -11, 4, 23, 49]"
            ]
          },
          "metadata": {},
          "execution_count": 1
        }
      ]
    },
    {
      "cell_type": "markdown",
      "source": [
        "Βρείτε τον αριθμό των αντικειμένων της λίστας. "
      ],
      "metadata": {
        "id": "pMLj69qGwnU5"
      }
    },
    {
      "cell_type": "code",
      "source": [
        "len(numbers)"
      ],
      "metadata": {
        "colab": {
          "base_uri": "https://localhost:8080/"
        },
        "id": "J08nkhOWwocd",
        "outputId": "ff46f983-bd7d-43d5-bfa3-5bcbaf2b7f21"
      },
      "execution_count": 2,
      "outputs": [
        {
          "output_type": "execute_result",
          "data": {
            "text/plain": [
              "7"
            ]
          },
          "metadata": {},
          "execution_count": 2
        }
      ]
    },
    {
      "cell_type": "markdown",
      "source": [
        "Βρείτε το 4ο στοιχείο της λίστας. "
      ],
      "metadata": {
        "id": "79Y6UlXhRY7H"
      }
    },
    {
      "cell_type": "code",
      "source": [
        "numbers[3]"
      ],
      "metadata": {
        "colab": {
          "base_uri": "https://localhost:8080/"
        },
        "id": "QmYoIgKBRYRb",
        "outputId": "158f2854-0dc0-4816-f152-fcadcdf1a6c7"
      },
      "execution_count": 3,
      "outputs": [
        {
          "output_type": "execute_result",
          "data": {
            "text/plain": [
              "-11"
            ]
          },
          "metadata": {},
          "execution_count": 3
        }
      ]
    },
    {
      "cell_type": "markdown",
      "source": [
        "Βρείτε το άθροισμα του 2ου και του 4ου στοιχείου της λίστας."
      ],
      "metadata": {
        "id": "Wnw2ONK9Rvpu"
      }
    },
    {
      "cell_type": "code",
      "source": [
        "numbers[1] + numbers[3]"
      ],
      "metadata": {
        "colab": {
          "base_uri": "https://localhost:8080/"
        },
        "id": "f4PzuobgRw9e",
        "outputId": "ac00d8e6-6192-4ff9-e931-5edbc0f19166"
      },
      "execution_count": 4,
      "outputs": [
        {
          "output_type": "execute_result",
          "data": {
            "text/plain": [
              "80"
            ]
          },
          "metadata": {},
          "execution_count": 4
        }
      ]
    },
    {
      "cell_type": "markdown",
      "source": [
        "Βρείτε το 2ο μεγαλύτερο στοιχείο της λίστας. "
      ],
      "metadata": {
        "id": "_5Lc4bmtSCAI"
      }
    },
    {
      "cell_type": "code",
      "source": [
        "sorted_numbers = sorted(numbers)\n",
        "sorted_numbers"
      ],
      "metadata": {
        "colab": {
          "base_uri": "https://localhost:8080/"
        },
        "id": "ttMezlokSDQT",
        "outputId": "0cbe7725-95c8-42a6-959c-d61944ee4c85"
      },
      "execution_count": 5,
      "outputs": [
        {
          "output_type": "execute_result",
          "data": {
            "text/plain": [
              "[-11, 0, 4, 23, 23, 49, 91]"
            ]
          },
          "metadata": {},
          "execution_count": 5
        }
      ]
    },
    {
      "cell_type": "code",
      "source": [
        "sorted_numbers[-2]"
      ],
      "metadata": {
        "colab": {
          "base_uri": "https://localhost:8080/"
        },
        "id": "xLNpEg1cSSvv",
        "outputId": "f3398855-1b13-4bc5-d526-911f301cd4a1"
      },
      "execution_count": 6,
      "outputs": [
        {
          "output_type": "execute_result",
          "data": {
            "text/plain": [
              "49"
            ]
          },
          "metadata": {},
          "execution_count": 6
        }
      ]
    },
    {
      "cell_type": "markdown",
      "source": [
        "Βρείτε το τελευταίο αντικείμενο της αρχικής λίστας (χωρίς σορτάρισμα)."
      ],
      "metadata": {
        "id": "PvqURi8bSbO6"
      }
    },
    {
      "cell_type": "code",
      "source": [
        "numbers[-1]"
      ],
      "metadata": {
        "colab": {
          "base_uri": "https://localhost:8080/"
        },
        "id": "73VanbByScTT",
        "outputId": "e5360b5b-481b-493e-dba1-85d662a1819b"
      },
      "execution_count": 7,
      "outputs": [
        {
          "output_type": "execute_result",
          "data": {
            "text/plain": [
              "49"
            ]
          },
          "metadata": {},
          "execution_count": 7
        }
      ]
    },
    {
      "cell_type": "markdown",
      "source": [
        "Για κάθε αριθμό να εμφανίσετε έναν αριθμό: αν ο αρχικός αριθμός είναι μεγαλύτερος του 10, πολλαπλασιάστε με το 30. Αν επίσης είναι ζυγός αριθμός, προσθέστε 6. Αν είναι μεγαλύτερος του 50, αφαιρέστε 10. Αν δεν είναι ίσος με -11, αφαιρέστε 1.\n",
        "\n",
        "(Για παράδειγμα το 12 είναι μεγαλύτερο του 10, άρα πολλαπλασιάζουμε 12 * 30 = 360, είναι επίσης ζυγός αριθμός, άρα 360 + 6 = 366, δεν είναι ίσο με -11, άρα 366-1=365.)"
      ],
      "metadata": {
        "id": "pL8w57MnSoMc"
      }
    },
    {
      "cell_type": "code",
      "source": [
        "for num in numbers:\n",
        "  if num > 10:\n",
        "    num = num*30\n",
        "    if num%2 == 0:     # για να είναι κάποιος αριθμός ζυγός πρέπει το υπόλοιπο της διαίρεσής του με το 2 να είναι 0\n",
        "      num = num+6      # για συντομία, αντί για num = num+6, θα μπορούσαμε να γράψουμε: num += 6 \n",
        "      if num > 50:\n",
        "        num = num-10\n",
        "        if num != -11:\n",
        "          num = num-1     # όπως παραπάνω, θα μπορούσαμε να γράψουμε: num -= 1\n",
        "  print(num)              # μας ζητείται να εμφανίζουμε έναν αριθμό για κάθε αριθμό, επομένως το print() μπαίνει έξω από τα if."
      ],
      "metadata": {
        "colab": {
          "base_uri": "https://localhost:8080/"
        },
        "id": "0fxSgY5ySpv5",
        "outputId": "b43c0e13-2eea-430c-aa0d-f7606cbeb53c"
      },
      "execution_count": 8,
      "outputs": [
        {
          "output_type": "stream",
          "name": "stdout",
          "text": [
            "685\n",
            "2725\n",
            "0\n",
            "-11\n",
            "4\n",
            "685\n",
            "1465\n"
          ]
        }
      ]
    },
    {
      "cell_type": "markdown",
      "source": [
        "Βρείτε το σύνολο των αριθμών δια δύο. "
      ],
      "metadata": {
        "id": "D8lQQzy0UY7k"
      }
    },
    {
      "cell_type": "code",
      "source": [
        "sum(numbers)/2"
      ],
      "metadata": {
        "colab": {
          "base_uri": "https://localhost:8080/"
        },
        "id": "6thalFuUUaM-",
        "outputId": "e71f6c7a-36e5-4587-fd6c-807a2cfdc965"
      },
      "execution_count": 9,
      "outputs": [
        {
          "output_type": "execute_result",
          "data": {
            "text/plain": [
              "89.5"
            ]
          },
          "metadata": {},
          "execution_count": 9
        }
      ]
    },
    {
      "cell_type": "markdown",
      "source": [
        "**Παρατήρηση**:\n",
        "\n",
        "Όπως έχουμε δει, υπάρχουν κάποιες λέξεις που είναι δεσμευμένες από την python γιατί επιτελούν κάποιες συγκεκριμένες εργασίες. Για παράδειγμα οι λέξεις: min, max, sum, sorted, int, float κλπ.\n",
        "\n",
        "Θα πρέπει να μην δίνουμε αυτές τις λέξεις σε ονόματα μεταβλητών που δημιουργούμε γιατί η Python μπερδεύεται.\n",
        "\n",
        "Για παράδειγμα, αν χρησιμοποιήσουμε τη λέξη sum σαν όνομα μιας μεταβλητής, αν θελήσουμε κάποια στιγμή να χρησιμοποιήσουμε το build-in function \"sum()\" της Python, θα νομίζει ότι αναφερόμαστε στη μεταβλητή με όνομα sum και θα γκρινιάξει."
      ],
      "metadata": {
        "id": "ANQxXCo2WDcD"
      }
    },
    {
      "cell_type": "code",
      "source": [
        "sum = 5 + 3\n",
        "sum"
      ],
      "metadata": {
        "colab": {
          "base_uri": "https://localhost:8080/"
        },
        "id": "KBvPYBKnXpsl",
        "outputId": "abb34690-b7eb-4edc-b72a-3aee8471fd2d"
      },
      "execution_count": 10,
      "outputs": [
        {
          "output_type": "execute_result",
          "data": {
            "text/plain": [
              "8"
            ]
          },
          "metadata": {},
          "execution_count": 10
        }
      ]
    },
    {
      "cell_type": "code",
      "source": [
        "sum(numbers)"
      ],
      "metadata": {
        "colab": {
          "base_uri": "https://localhost:8080/",
          "height": 167
        },
        "id": "BN9Nv_2vXv0E",
        "outputId": "3987f864-a867-4b5c-a317-6b1caff483a0"
      },
      "execution_count": 11,
      "outputs": [
        {
          "output_type": "error",
          "ename": "TypeError",
          "evalue": "ignored",
          "traceback": [
            "\u001b[0;31m---------------------------------------------------------------------------\u001b[0m",
            "\u001b[0;31mTypeError\u001b[0m                                 Traceback (most recent call last)",
            "\u001b[0;32m<ipython-input-11-c0e2e0c78a10>\u001b[0m in \u001b[0;36m<cell line: 1>\u001b[0;34m()\u001b[0m\n\u001b[0;32m----> 1\u001b[0;31m \u001b[0msum\u001b[0m\u001b[0;34m(\u001b[0m\u001b[0mnumbers\u001b[0m\u001b[0;34m)\u001b[0m\u001b[0;34m\u001b[0m\u001b[0;34m\u001b[0m\u001b[0m\n\u001b[0m",
            "\u001b[0;31mTypeError\u001b[0m: 'int' object is not callable"
          ]
        }
      ]
    },
    {
      "cell_type": "markdown",
      "source": [
        "Αν ποτέ συμβεί κάτι τέτοιο, και να διορθώσουμε τον κώδικα και να αλλάξουμε δηλαδή το όνομα της μεταβλητής, π.χ. από sum σε total, το πρόβλημα δεν διορθώνεται. Η Python πάντα θα θυμάται ότι το sum έχει οριστεί σαν 5+3. Για να το ξεχάσει πρέπει να κάνουμε restart runtime (Menu > Runtime > Restart runtime)."
      ],
      "metadata": {
        "id": "YZftOyL3X19y"
      }
    },
    {
      "cell_type": "markdown",
      "source": [
        "**Σημείωση**: \n",
        "\n",
        "Είναι λογικό σ' αυτή τη φάση να σκέφτεστε ότι είναι άπειρα τα πράγματα και οι λεπτομέρειες που πρέπει να θυμάστε και ενδεχομένως να απογοητεύεστε.\n",
        "\n",
        "Σας διαβεβαιώνω όμως ότι ακόμα και οι έμπειροι προγραμματιστές δεν τα γνωρίζουν ούτε τα θυμούνται όλα.\n",
        "\n",
        "Το βασικό είναι να μπορείτε να **κατανοείτε** έστω στο μεγαλύτερο βαθμό έναν κώδικα όταν τον βλέπετε και να μάθετε να αναζητάτε και να βρίσκετε λύσεις. Από κει και πέρα είναι θέμα **copy-paste** και προσαρμογής του κώδικα στα δικά σας δεδομένα και ζητούμενα. Δεν γίνετε προγραμματισμός χωρίς να ψάχνετε για έτοιμο κώδικα που ταιριάζει μ' αυτό που θέλετε να κάνετε και χωρίς copy-paste. Το θέμα είναι να καταλαβαίνετε τι κάνει ο κώδικας για να αντιγράφεται το σωστό κομμάτι και να ξέρετε πώς θα το προσαρμόσετε στα δικά σας projects."
      ],
      "metadata": {
        "id": "x8tTAQZ7ct4x"
      }
    }
  ]
}