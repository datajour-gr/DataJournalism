{
  "nbformat": 4,
  "nbformat_minor": 0,
  "metadata": {
    "colab": {
      "name": "scraping_news247.ipynb",
      "provenance": [],
      "collapsed_sections": [
        "t47Nt5j4uAF7",
        "-ydGxCZQxNdA",
        "eTXDR1CZxZxf",
        "dZRGR_V8ILUG",
        "35BXWvCDgTDF"
      ],
      "authorship_tag": "ABX9TyOy08wA5k2opMNfVao7xxTB",
      "include_colab_link": true
    },
    "kernelspec": {
      "name": "python3",
      "display_name": "Python 3"
    },
    "language_info": {
      "name": "python"
    }
  },
  "cells": [
    {
      "cell_type": "markdown",
      "metadata": {
        "id": "view-in-github",
        "colab_type": "text"
      },
      "source": [
        "<a href=\"https://colab.research.google.com/github/tsparaskevas/DataJournalism/blob/main/Scraping%20(news247)%20Solution/scraping_news247.ipynb\" target=\"_parent\"><img src=\"https://colab.research.google.com/assets/colab-badge.svg\" alt=\"Open In Colab\"/></a>"
      ]
    },
    {
      "cell_type": "markdown",
      "source": [
        "#Μεθοδολογία κατασκευής scrapper για όλα τα άρθρα ενός site (με requests και BeautifulSoup) - [news247.gr]"
      ],
      "metadata": {
        "id": "fBJC8PgMkJ4w"
      }
    },
    {
      "cell_type": "markdown",
      "source": [
        "##**Στόχοι**: \n",
        "\n",
        "###1. Να μαζέψω όλα τα άρθρα που δημοσιεύτηκαν σε μια μέρα στο news247\n",
        "\n",
        "###2. Να φτιάξω κώδικα για τακτική συλλογή και αποθήκευση άρθρων από το news247\n",
        "\n",
        "\n",
        "\n",
        "---\n",
        "\n",
        "\n",
        "\n",
        "---\n",
        "\n"
      ],
      "metadata": {
        "id": "nP091HVMjJJa"
      }
    },
    {
      "cell_type": "markdown",
      "source": [
        "##**Στόχος 1**: Να μαζέψω όλα τα άρθρα που δημοσιεύτηκαν σε μια μέρα στο news247"
      ],
      "metadata": {
        "id": "kJ4UvGXmjB6_"
      }
    },
    {
      "cell_type": "markdown",
      "source": [
        "**Πώς θα το κάνω**:\n",
        "1. Θα δω με ποιο τρόπο εμφανίζεται η ροή των ειδήσεων στο news247.gr\n",
        "2. Θα κατεβάσω την html των σελίδων που εμφανίζονται τα teaser articles\n",
        "3. Θα δω πώς είναι δομημένο το περιεχόμενο των σελίδων με τα teaser articles ώστε να αναζητήσω με τα κατάλληλα tags τα δεδομένα που θέλω για το κάθε teaser article\n",
        "4. Θα συλλέξω τα urls των teaser articles (και όλα τα δεδομένα τους: τίτλο, summary, section, date)\n",
        "5. Θα δω πώς είναι δομημένο το περιεχόμενο της σελίδας του πλήρους άρθρου ώστε να αναζητήσω με τα κατάλληλα tags τα δεδομένα που θέλω για το κάθε άρθρο\n",
        "6. θα κατεβάσω τις html όλων των σελίδων των ολόκληρων άρθρων\n",
        "7. Θα συλλέξω όλα τα δεδομένα των άρθρων (Τίτλος, εικόνα [alt και src], section, lead, body και author)"
      ],
      "metadata": {
        "id": "9w9i893AGHgp"
      }
    },
    {
      "cell_type": "markdown",
      "source": [
        "####1. Πώς εμφανίζεται η ροή των ειδήσεων στο news247;"
      ],
      "metadata": {
        "id": "lThkiA27NavA"
      }
    },
    {
      "cell_type": "markdown",
      "source": [
        "Το url της αρχικής σελίδας του news247 είναι https://www.news247.gr/\n",
        "\n",
        "Η ροή των ειδήσεων υπάρχει στο menu item \"Ειδήσεις\": https://www.news247.gr/latest/\n",
        "\n",
        "Στη σελίδα εμφανίζονται τα teasers των δημοσιοποιημένων άρθρων το ένα κάτω από το άλλο με φθήνουσα ημερολογιακή σειρά (τα πιο πρόσφατα εμφανίζονται πάνω-πάνω). Η σελίδα περιέχει 40 άρθρα και στο τέλος τους υπάρχουν κουμπιά για επόμενες σελίδες (με παλαιότερα άρθρα).\n",
        "\n",
        "Πατώντας το κουμπί για τη δεύτερη σελίδα των Ειδήσεων, βλέπω ότι το url ειναι: https://www.news247.gr/latest/?pages=2. Για κάθε επόμενη σελίδα, αλλάζει στο url ο αριθμός στο ?pages=. Αν γράψω στο address bar του browser https://www.news247.gr/latest/?pages=1, βλέπω ότι εμφανίζεται η πρώτη σελίδα των Ειδήσεων. Αν βάλω στο pages=100, βλέπω ότι πάω σε ειδήσεις περίπου ένα μήνα πίσω και αν βάλω pages=200, πάω περίπου 2 μήνες πίσω. Αν βάλω pages=10000 πάω στο 2008. Παίζοντας με τον αριθμό στο pages=, βρίσκω ότι η τελευταία σελίδα στις Ειδήσεις του news247 είναι στο pages=10453 (Ιούνιος του 2006).\n",
        "\n",
        "**Άρα**: \n",
        "* Το βασικό url για τη ροή των ειδήσεων στο news247 είναι: https://www.news247.gr/latest/?pages=. \n",
        "* Συμπληρώνοντας το βασικό url με αριθμούς από το 1 και πάνω μεταφέρομαι σε επόμενες σελίδες που περιέχουν παλαιότερα άρθρα.\n",
        "* Οι ειδήσεις μιας μέρας καταλαμβάνουν περίπου 4 σελίδες.\n",
        "* Για να είμαι σίγουρος ότι θα πάρω τις ειδήσεις του τελευταίου 24ωρου πρέπει να μπω στις σελίδες με page= από 1 έως 5."
      ],
      "metadata": {
        "id": "9KwO86-MNtz9"
      }
    },
    {
      "cell_type": "markdown",
      "source": [
        "####2. Κατέβασμα των 5 πρώτων σελίδων από τις \"Ειδήσεις\" του news247"
      ],
      "metadata": {
        "id": "dNYEQm6DVR3d"
      }
    },
    {
      "cell_type": "markdown",
      "source": [
        "Εισαγωγή βιβλιοθηκών"
      ],
      "metadata": {
        "id": "Xa-OxAH7qsG6"
      }
    },
    {
      "cell_type": "code",
      "source": [
        "import requests\n",
        "from bs4 import BeautifulSoup\n",
        "import pandas as pd\n",
        "import time"
      ],
      "metadata": {
        "id": "eSmBTQhzqpuy"
      },
      "execution_count": null,
      "outputs": []
    },
    {
      "cell_type": "markdown",
      "source": [
        "Κατέβασμα των σελίδων και αποθήκευσή τους σε μια λίστα"
      ],
      "metadata": {
        "id": "ffUZ2nrmhfoW"
      }
    },
    {
      "cell_type": "code",
      "source": [
        "main_url = \"https://www.news247.gr/latest/?pages=\" # το βασικό url των σελίδων με τα teaser articles\n",
        "\n",
        "teaser_soups_list = [] # δημιουργία κενής λίστας για την αποθήκευση όλων των html των σελίδων των κατηγοριών\n",
        "\n",
        "for i in range(1, 6): # θέλουμε 5 σελίδες, άρα ζητάμε από τη λούπα να χρησιμοποιεί αριθμούς από το 1 έως το 6 (το 6 δεν περιλαμβάνεται)\n",
        "  page_url = main_url + str(i) # ορισμός του url για καθεμιά από τις σελίδες των Ειδήσεων (προσθέτω στο τέλος του pages=, σαν string, τον εκάστοτε αριθμό i που παράγει η for loop)\n",
        "  page = requests.get(page_url) # κστέβασμα της σελίδας\n",
        "  teaser_soup = BeautifulSoup(page.text, 'html.parser') # μετατροπή της κατεβασμένης σελίδας σε html\n",
        "  print(f\"Now Scraping page: {i}\") # εκτύπωση της ερασίας που εκτελείται για να πληροφορούμαι ότι δουλεύει\n",
        "  teaser_soups_list.append(teaser_soup) # αποθήκευση της κάθε σελίδας που κατεβαίνει στη λίστα με όλες τις σελίδες που φτιάξαμε στην αρχή\n",
        "  time.sleep(2) # παύση 2\" ανάμεσα στα requests από σελίδα σε σελίδα"
      ],
      "metadata": {
        "colab": {
          "base_uri": "https://localhost:8080/"
        },
        "id": "zKqMxmGbWPl6",
        "outputId": "7f91d817-da30-4c16-f672-f3898d7b5822"
      },
      "execution_count": null,
      "outputs": [
        {
          "output_type": "stream",
          "name": "stdout",
          "text": [
            "Now Scraping page: 1\n",
            "Now Scraping page: 2\n",
            "Now Scraping page: 3\n",
            "Now Scraping page: 4\n",
            "Now Scraping page: 5\n"
          ]
        }
      ]
    },
    {
      "cell_type": "code",
      "source": [
        "#print(soup.prettify())"
      ],
      "metadata": {
        "id": "TCECls_d82EG"
      },
      "execution_count": null,
      "outputs": []
    },
    {
      "cell_type": "markdown",
      "source": [
        "####3. Πώς είναι δομημένο το περιεχόμενο των σελίδων με τα teaser articles;\n",
        "(ώστε να αναζητήσω με τα κατάλληλα tags τα δεδομένα που θέλω για το κάθε teaser article)"
      ],
      "metadata": {
        "id": "U1z3dxj8jkpP"
      }
    },
    {
      "cell_type": "markdown",
      "source": [
        "Ανοίγοντας τη σελίδα https://www.news247.gr/latest/?pages=1 στον browser, κάνω inspect στο πρώτο teaser article (δεξί κλικ στο πρώτο άρθρο -> Inspect).\n",
        "\n",
        "Βλέπω ότι το περιεχόμενο ολόκληρου του box του άρθρου είναι μέσα σε ένα <article> tag, με class=\"teaser__article article article_left \".\n",
        "\n",
        "Θα δοκιμάσω να δω τι μου φέρνει το find με την επιλογή: `('article', {'class': 'teaser__article article article_left '})`"
      ],
      "metadata": {
        "id": "4mJmjEisj61Z"
      }
    },
    {
      "cell_type": "code",
      "source": [
        "teaser_soups_list[0].find('article', {'class': 'teaser__article article article_left '})"
      ],
      "metadata": {
        "colab": {
          "base_uri": "https://localhost:8080/"
        },
        "id": "FDF45AxwmIjb",
        "outputId": "3b2b6463-a192-49a1-e4b1-7293d385d44d"
      },
      "execution_count": null,
      "outputs": [
        {
          "output_type": "execute_result",
          "data": {
            "text/plain": [
              "<article class=\"teaser__article article article_left \" data-position=\"1\">\n",
              "<figure>\n",
              "<a class=\"article__image\" href=\"https://www.news247.gr/kosmos/eylogia-ton-pithikon-proto-epivevaiomeno-kroysma-kai-sti-gallia.9637679.html\" title=\"Ευλογιά των Πιθήκων: Πρώτο επιβεβαιωμένο κρούσμα και στη Γαλλία\">\n",
              "<img alt=\"Γιατροί σε εργαστήριο της Γαλλίας\" class=\" lazy \" data-src=\"https://www.news247.gr/img/2629/9637672/583000/w140/140/untitled_1.jpg\" height=\"84\" style=\"height:auto;\" title=\"Γιατροί σε εργαστήριο της Γαλλίας\" width=\"140\"/>\n",
              "</a>\n",
              "</figure>\n",
              "<h2 class=\"article__title bold\">\n",
              "<a href=\"https://www.news247.gr/kosmos/eylogia-ton-pithikon-proto-epivevaiomeno-kroysma-kai-sti-gallia.9637679.html\" title=\"Ευλογιά των Πιθήκων: Πρώτο επιβεβαιωμένο κρούσμα και στη Γαλλία\">Ευλογιά των Πιθήκων: Πρώτο επιβεβαιωμένο κρούσμα και στη Γαλλία</a>\n",
              "</h2>\n",
              "<div class=\"article__summary\">\n",
              "<a class=\"article__section article__tag_section\" href=\"https://www.news247.gr/eylogia-ton-pithikon\" title=\"Ευλογιά των Πιθήκων\">ΕΥΛΟΓΙΑ ΤΩΝ ΠΙΘΗΚΩΝ</a>\n",
              "<p class=\"article__leadtext\">Ακόμα μία χώρα στην οποία εντοπίστηκε το πρώτο κρούσμα της νέας νόσου. Παγκόσμια ανησυχία.</p>\n",
              "<span class=\"article__time\"><time datetime=\"2022-05-20 12:12\">Μαΐου 20 2022 12:12</time></span>\n",
              "</div>\n",
              "</article>"
            ]
          },
          "metadata": {},
          "execution_count": 4
        }
      ]
    },
    {
      "cell_type": "markdown",
      "source": [
        "**Εξήγηση του κώδικα**: `teaser_soups_list[0].find('article', {'class': 'teaser__article article article_left '})`\n",
        "\n",
        "Οι 5 html σελίδες των teaser articles που κατεβάσαμε είναι αποθηκευμένες στη λίστα soups_list.\n",
        "\n",
        "Με το `teaser_soups_list[0]` ζητάμε την πρώτη html (δηλαδή της σελίδας με page=1).\n",
        "\n",
        "Με το `find('article', {'class': 'teaser__article article article_left '})` ζητάμε την πρώτη εγγραφή με tag `<article>` και `class='teaser__article article article_left '` (δηλαδή το πρώτο teaser article).\n",
        "\n",
        "Εναλλακτικά, θα μπορούσαμε να ζητήσουμε όλες τις εγγραφές (με `find_all`) και μετά την πρώτη (με `[0]`). Δηλαδή, το ίδιο αποτέλεσμα, θα μπορούσαμε να το πάρουμε με την εντολή: \n",
        "\n",
        "`teaser_soups_list[0].find_all('article', {'class': 'teaser__article article article_left '})[0]`"
      ],
      "metadata": {
        "id": "O-ET44GqnApN"
      }
    },
    {
      "cell_type": "markdown",
      "source": [
        "Όπως βλέπουμε από το αποτέλεσμα της εντολής που τρέξαμε παραπάνω, τα δεδομένα που θέλουμε, βρίσκονται στα παρακάτω tags:\n",
        "\n",
        "* **Title**: `<h2> <a> 'title'`\n",
        "* **Url**: `<h2> <a> 'href'`\n",
        "* **Lead**: `<p> text`\n",
        "* **Section**: `<a> class='article__section article__tag_section' 'title'`\n",
        "* **Datetime**: `<time> 'datetime'`\n",
        "\n",
        "Ας τα δοκιμάσουμε."
      ],
      "metadata": {
        "id": "TLYbptv9l_xZ"
      }
    },
    {
      "cell_type": "code",
      "source": [
        "teaser_soups_list[0].find('article', {'class': 'teaser__article article article_left '}).find('h2').find('a')['title'] # Title"
      ],
      "metadata": {
        "colab": {
          "base_uri": "https://localhost:8080/",
          "height": 35
        },
        "id": "w144GNOv1DOv",
        "outputId": "fc91450b-c2f8-4d65-968a-a883644a2963"
      },
      "execution_count": null,
      "outputs": [
        {
          "output_type": "execute_result",
          "data": {
            "text/plain": [
              "'Ευλογιά των Πιθήκων: Πρώτο επιβεβαιωμένο κρούσμα και στη Γαλλία'"
            ],
            "application/vnd.google.colaboratory.intrinsic+json": {
              "type": "string"
            }
          },
          "metadata": {},
          "execution_count": 5
        }
      ]
    },
    {
      "cell_type": "code",
      "source": [
        "teaser_soups_list[0].find('article', {'class': 'teaser__article article article_left '}).find('h2').find('a')['href'] # Url"
      ],
      "metadata": {
        "colab": {
          "base_uri": "https://localhost:8080/",
          "height": 35
        },
        "id": "qr2OItdY2gPU",
        "outputId": "4e01a97e-6217-4db0-c447-b3c914dfb156"
      },
      "execution_count": null,
      "outputs": [
        {
          "output_type": "execute_result",
          "data": {
            "text/plain": [
              "'https://www.news247.gr/kosmos/eylogia-ton-pithikon-proto-epivevaiomeno-kroysma-kai-sti-gallia.9637679.html'"
            ],
            "application/vnd.google.colaboratory.intrinsic+json": {
              "type": "string"
            }
          },
          "metadata": {},
          "execution_count": 6
        }
      ]
    },
    {
      "cell_type": "code",
      "source": [
        "teaser_soups_list[0].find('article', {'class': 'teaser__article article article_left '}).find('p').text # Lead"
      ],
      "metadata": {
        "colab": {
          "base_uri": "https://localhost:8080/",
          "height": 35
        },
        "id": "zhhdM9rU_kI1",
        "outputId": "2f54b29a-e75a-4c7d-e760-944c892e5be9"
      },
      "execution_count": null,
      "outputs": [
        {
          "output_type": "execute_result",
          "data": {
            "text/plain": [
              "'Ακόμα μία χώρα στην οποία εντοπίστηκε το πρώτο κρούσμα της νέας νόσου. Παγκόσμια ανησυχία.'"
            ],
            "application/vnd.google.colaboratory.intrinsic+json": {
              "type": "string"
            }
          },
          "metadata": {},
          "execution_count": 7
        }
      ]
    },
    {
      "cell_type": "code",
      "source": [
        "teaser_soups_list[0].find('article', {'class': 'teaser__article article article_left '}).find('a', {'class': 'article__section article__tag_section'})['title'] # Section tag"
      ],
      "metadata": {
        "colab": {
          "base_uri": "https://localhost:8080/",
          "height": 35
        },
        "id": "4RVru0yk_v4h",
        "outputId": "d250bac9-4660-4bb2-880a-b309ea144cae"
      },
      "execution_count": null,
      "outputs": [
        {
          "output_type": "execute_result",
          "data": {
            "text/plain": [
              "'Ευλογιά των Πιθήκων'"
            ],
            "application/vnd.google.colaboratory.intrinsic+json": {
              "type": "string"
            }
          },
          "metadata": {},
          "execution_count": 8
        }
      ]
    },
    {
      "cell_type": "code",
      "source": [
        "teaser_soups_list[0].find('article', {'class': 'teaser__article article article_left '}).find('time')['datetime'] # Datetime"
      ],
      "metadata": {
        "colab": {
          "base_uri": "https://localhost:8080/",
          "height": 35
        },
        "id": "aFzqyLTtAHSJ",
        "outputId": "3486a9ba-3902-4852-f4fb-4b7dd58b770e"
      },
      "execution_count": null,
      "outputs": [
        {
          "output_type": "execute_result",
          "data": {
            "text/plain": [
              "'2022-05-20 12:12'"
            ],
            "application/vnd.google.colaboratory.intrinsic+json": {
              "type": "string"
            }
          },
          "metadata": {},
          "execution_count": 9
        }
      ]
    },
    {
      "cell_type": "markdown",
      "source": [
        "####4. Συλλογή των δεδομένων που θέλουμε από όλα τα teaser articles όλων των σελίδων που κατεβάσαμε από τις Ειδήσεις του news247.gr"
      ],
      "metadata": {
        "id": "t47Nt5j4uAF7"
      }
    },
    {
      "cell_type": "code",
      "source": [
        "# Μάζεμα των δεδομένων κάθε teaser άρθρου από όλα τα teaser άρθρα όλων των σελίδων που φέραμε από τις Ειδήσεις \n",
        "\n",
        "teaser_articles_list = [] # δημιουργία κενής λίστας για την αποθήκευση όλων των λεξικών με τα δεδομένα κάθε teaser άρθρου\n",
        "for teaser_soup in teaser_soups_list:\n",
        "  teaser_articles = teaser_soup.find_all('article', {'class': 'teaser__article article article_left '})\n",
        "  for teaser_article in teaser_articles:\n",
        "    teaser_article_dict = {} # δημιουργία κενού λεξικού για την αποθήκευση των δεδομένων κάθε άρθρου\n",
        "    h2_a = teaser_article.find('h2').find('a')\n",
        "    if h2_a:\n",
        "      teaser_article_dict['Title'] = h2_a['title']\n",
        "      teaser_article_dict['Url'] = h2_a['href']\n",
        "    lead = teaser_article.find('p')\n",
        "    if lead:\n",
        "      teaser_article_dict['Lead'] = lead.text\n",
        "    section = teaser_article.find('a', {'class': 'article__section article__tag_section'})\n",
        "    if section:\n",
        "      teaser_article_dict['Section'] = section['title']\n",
        "    datetime = teaser_article.find('time')\n",
        "    if datetime:\n",
        "      teaser_article_dict['Datetime'] = datetime['datetime']\n",
        "    teaser_articles_list.append(teaser_article_dict)\n",
        "\n",
        "# Δημιουργία του dataframe\n",
        "news247_latest_teaser_articles_df = pd.DataFrame(teaser_articles_list)\n",
        "news247_latest_teaser_articles_df"
      ],
      "metadata": {
        "id": "PhFX8xxPF2Xp",
        "colab": {
          "base_uri": "https://localhost:8080/",
          "height": 424
        },
        "outputId": "0b7655e4-dc64-418c-9066-2d5fe76ca684"
      },
      "execution_count": null,
      "outputs": [
        {
          "output_type": "execute_result",
          "data": {
            "text/plain": [
              "                                                 Title  \\\n",
              "0    Ευλογιά των Πιθήκων: Πρώτο επιβεβαιωμένο κρούσ...   \n",
              "1    Ο Ούλριχ Ράσε στην Επίδαυρο: Γιατί οι παραστάσ...   \n",
              "2    Δίκη Τοπαλούδη: Κανένα ελαφρυντικό για τους δο...   \n",
              "3    Θυμίζεις κάτι από Πρέβελη: Το άγνωστο φοινικόδ...   \n",
              "4    Ρέθυμνο: Επίθεση στο γραμματέα του Δικτύου Φοι...   \n",
              "..                                                 ...   \n",
              "195  Survivor Trailer: Χάος στην παραλία - Ποιος απ...   \n",
              "196  Τροχαίο ατύχημα με τρία αυτοκίνητα και τρεις τ...   \n",
              "197  Σκύδρα: Στο Ιπποκράτειο 7χρονος - Έπεσε επάνω ...   \n",
              "198  Τζορτζ Μπους: \"Αδικαιολόγητη και βάναυση η εισ...   \n",
              "199  Πόλεμος στην Ουκρανία: Συνεχίζεται το σφυροκόπ...   \n",
              "\n",
              "                                                   Url  \\\n",
              "0    https://www.news247.gr/kosmos/eylogia-ton-pith...   \n",
              "1    https://www.news247.gr/politismos/theatro/o-oy...   \n",
              "2    https://www.news247.gr/koinonia/diki-topaloydi...   \n",
              "3    https://www.news247.gr/taxidi/thymizeis-kati-a...   \n",
              "4    https://www.news247.gr/koinonia/rethymno-epith...   \n",
              "..                                                 ...   \n",
              "195  https://www.news247.gr/psixagogia/tileorasi/su...   \n",
              "196  https://www.news247.gr/koinonia/trochaio-atych...   \n",
              "197  https://www.news247.gr/koinonia/skydra-sto-ipp...   \n",
              "198  https://www.news247.gr/kosmos/gkafa-olkis-o-tz...   \n",
              "199  https://www.news247.gr/kosmos/oykrania-dekades...   \n",
              "\n",
              "                                                  Lead  \\\n",
              "0    Ακόμα μία χώρα στην οποία εντοπίστηκε το πρώτο...   \n",
              "1    Η σκηνή που θα στηθεί στις 22 και 23 Ιουλίου π...   \n",
              "2    Με ομόφωνη απόφαση, το Μικτό Ορκωτό Δικαστήριο...   \n",
              "3    Περιηγηθείτε σε ένα καταπράσινο φοινικόδασος, ...   \n",
              "4    Αγνωστοι εξαπέλυσαν επίθεση με αυγό στο γραμμα...   \n",
              "..                                                 ...   \n",
              "195  Τεράστια θα είναι η ένταση στο αποψινό επεισόδ...   \n",
              "196  Το περιστατικό συνέβη λίγο πριν τα μεσάνυχτα σ...   \n",
              "197  Σοβαρό ατύχημα σημειώθηκε στη Σκύδρα Πέλλας, ό...   \n",
              "198  Ο Τζορτζ Μπους έγινε αντικείμενο έντονου σχολι...   \n",
              "199  Πληροφορίες κάνουν λόγο για δέκα τουλάχιστον ν...   \n",
              "\n",
              "                           Section          Datetime  \n",
              "0              Ευλογιά των Πιθήκων  2022-05-20 12:12  \n",
              "1    Φεστιβάλ Αθηνών και Επιδαύρου  2022-05-20 11:50  \n",
              "2                  Ελένη Τοπαλούδη  2022-05-20 11:42  \n",
              "3                            drone  2022-05-20 11:40  \n",
              "4                     Πανεπιστήμια  2022-05-20 11:39  \n",
              "..                             ...               ...  \n",
              "195             Survivor Αποχώρηση  2022-05-19 08:52  \n",
              "196              Τροχαία Ατυχήματα  2022-05-19 08:40  \n",
              "197                    Θεσσαλονίκη  2022-05-19 08:34  \n",
              "198          Πόλεμος στην Ουκρανία  2022-05-19 08:22  \n",
              "199                       Ουκρανία  2022-05-19 07:52  \n",
              "\n",
              "[200 rows x 5 columns]"
            ],
            "text/html": [
              "\n",
              "  <div id=\"df-5500bfbc-b733-4e76-95a4-04621bb7ce2f\">\n",
              "    <div class=\"colab-df-container\">\n",
              "      <div>\n",
              "<style scoped>\n",
              "    .dataframe tbody tr th:only-of-type {\n",
              "        vertical-align: middle;\n",
              "    }\n",
              "\n",
              "    .dataframe tbody tr th {\n",
              "        vertical-align: top;\n",
              "    }\n",
              "\n",
              "    .dataframe thead th {\n",
              "        text-align: right;\n",
              "    }\n",
              "</style>\n",
              "<table border=\"1\" class=\"dataframe\">\n",
              "  <thead>\n",
              "    <tr style=\"text-align: right;\">\n",
              "      <th></th>\n",
              "      <th>Title</th>\n",
              "      <th>Url</th>\n",
              "      <th>Lead</th>\n",
              "      <th>Section</th>\n",
              "      <th>Datetime</th>\n",
              "    </tr>\n",
              "  </thead>\n",
              "  <tbody>\n",
              "    <tr>\n",
              "      <th>0</th>\n",
              "      <td>Ευλογιά των Πιθήκων: Πρώτο επιβεβαιωμένο κρούσ...</td>\n",
              "      <td>https://www.news247.gr/kosmos/eylogia-ton-pith...</td>\n",
              "      <td>Ακόμα μία χώρα στην οποία εντοπίστηκε το πρώτο...</td>\n",
              "      <td>Ευλογιά των Πιθήκων</td>\n",
              "      <td>2022-05-20 12:12</td>\n",
              "    </tr>\n",
              "    <tr>\n",
              "      <th>1</th>\n",
              "      <td>Ο Ούλριχ Ράσε στην Επίδαυρο: Γιατί οι παραστάσ...</td>\n",
              "      <td>https://www.news247.gr/politismos/theatro/o-oy...</td>\n",
              "      <td>Η σκηνή που θα στηθεί στις 22 και 23 Ιουλίου π...</td>\n",
              "      <td>Φεστιβάλ Αθηνών και Επιδαύρου</td>\n",
              "      <td>2022-05-20 11:50</td>\n",
              "    </tr>\n",
              "    <tr>\n",
              "      <th>2</th>\n",
              "      <td>Δίκη Τοπαλούδη: Κανένα ελαφρυντικό για τους δο...</td>\n",
              "      <td>https://www.news247.gr/koinonia/diki-topaloydi...</td>\n",
              "      <td>Με ομόφωνη απόφαση, το Μικτό Ορκωτό Δικαστήριο...</td>\n",
              "      <td>Ελένη Τοπαλούδη</td>\n",
              "      <td>2022-05-20 11:42</td>\n",
              "    </tr>\n",
              "    <tr>\n",
              "      <th>3</th>\n",
              "      <td>Θυμίζεις κάτι από Πρέβελη: Το άγνωστο φοινικόδ...</td>\n",
              "      <td>https://www.news247.gr/taxidi/thymizeis-kati-a...</td>\n",
              "      <td>Περιηγηθείτε σε ένα καταπράσινο φοινικόδασος, ...</td>\n",
              "      <td>drone</td>\n",
              "      <td>2022-05-20 11:40</td>\n",
              "    </tr>\n",
              "    <tr>\n",
              "      <th>4</th>\n",
              "      <td>Ρέθυμνο: Επίθεση στο γραμματέα του Δικτύου Φοι...</td>\n",
              "      <td>https://www.news247.gr/koinonia/rethymno-epith...</td>\n",
              "      <td>Αγνωστοι εξαπέλυσαν επίθεση με αυγό στο γραμμα...</td>\n",
              "      <td>Πανεπιστήμια</td>\n",
              "      <td>2022-05-20 11:39</td>\n",
              "    </tr>\n",
              "    <tr>\n",
              "      <th>...</th>\n",
              "      <td>...</td>\n",
              "      <td>...</td>\n",
              "      <td>...</td>\n",
              "      <td>...</td>\n",
              "      <td>...</td>\n",
              "    </tr>\n",
              "    <tr>\n",
              "      <th>195</th>\n",
              "      <td>Survivor Trailer: Χάος στην παραλία - Ποιος απ...</td>\n",
              "      <td>https://www.news247.gr/psixagogia/tileorasi/su...</td>\n",
              "      <td>Τεράστια θα είναι η ένταση στο αποψινό επεισόδ...</td>\n",
              "      <td>Survivor Αποχώρηση</td>\n",
              "      <td>2022-05-19 08:52</td>\n",
              "    </tr>\n",
              "    <tr>\n",
              "      <th>196</th>\n",
              "      <td>Τροχαίο ατύχημα με τρία αυτοκίνητα και τρεις τ...</td>\n",
              "      <td>https://www.news247.gr/koinonia/trochaio-atych...</td>\n",
              "      <td>Το περιστατικό συνέβη λίγο πριν τα μεσάνυχτα σ...</td>\n",
              "      <td>Τροχαία Ατυχήματα</td>\n",
              "      <td>2022-05-19 08:40</td>\n",
              "    </tr>\n",
              "    <tr>\n",
              "      <th>197</th>\n",
              "      <td>Σκύδρα: Στο Ιπποκράτειο 7χρονος - Έπεσε επάνω ...</td>\n",
              "      <td>https://www.news247.gr/koinonia/skydra-sto-ipp...</td>\n",
              "      <td>Σοβαρό ατύχημα σημειώθηκε στη Σκύδρα Πέλλας, ό...</td>\n",
              "      <td>Θεσσαλονίκη</td>\n",
              "      <td>2022-05-19 08:34</td>\n",
              "    </tr>\n",
              "    <tr>\n",
              "      <th>198</th>\n",
              "      <td>Τζορτζ Μπους: \"Αδικαιολόγητη και βάναυση η εισ...</td>\n",
              "      <td>https://www.news247.gr/kosmos/gkafa-olkis-o-tz...</td>\n",
              "      <td>Ο Τζορτζ Μπους έγινε αντικείμενο έντονου σχολι...</td>\n",
              "      <td>Πόλεμος στην Ουκρανία</td>\n",
              "      <td>2022-05-19 08:22</td>\n",
              "    </tr>\n",
              "    <tr>\n",
              "      <th>199</th>\n",
              "      <td>Πόλεμος στην Ουκρανία: Συνεχίζεται το σφυροκόπ...</td>\n",
              "      <td>https://www.news247.gr/kosmos/oykrania-dekades...</td>\n",
              "      <td>Πληροφορίες κάνουν λόγο για δέκα τουλάχιστον ν...</td>\n",
              "      <td>Ουκρανία</td>\n",
              "      <td>2022-05-19 07:52</td>\n",
              "    </tr>\n",
              "  </tbody>\n",
              "</table>\n",
              "<p>200 rows × 5 columns</p>\n",
              "</div>\n",
              "      <button class=\"colab-df-convert\" onclick=\"convertToInteractive('df-5500bfbc-b733-4e76-95a4-04621bb7ce2f')\"\n",
              "              title=\"Convert this dataframe to an interactive table.\"\n",
              "              style=\"display:none;\">\n",
              "        \n",
              "  <svg xmlns=\"http://www.w3.org/2000/svg\" height=\"24px\"viewBox=\"0 0 24 24\"\n",
              "       width=\"24px\">\n",
              "    <path d=\"M0 0h24v24H0V0z\" fill=\"none\"/>\n",
              "    <path d=\"M18.56 5.44l.94 2.06.94-2.06 2.06-.94-2.06-.94-.94-2.06-.94 2.06-2.06.94zm-11 1L8.5 8.5l.94-2.06 2.06-.94-2.06-.94L8.5 2.5l-.94 2.06-2.06.94zm10 10l.94 2.06.94-2.06 2.06-.94-2.06-.94-.94-2.06-.94 2.06-2.06.94z\"/><path d=\"M17.41 7.96l-1.37-1.37c-.4-.4-.92-.59-1.43-.59-.52 0-1.04.2-1.43.59L10.3 9.45l-7.72 7.72c-.78.78-.78 2.05 0 2.83L4 21.41c.39.39.9.59 1.41.59.51 0 1.02-.2 1.41-.59l7.78-7.78 2.81-2.81c.8-.78.8-2.07 0-2.86zM5.41 20L4 18.59l7.72-7.72 1.47 1.35L5.41 20z\"/>\n",
              "  </svg>\n",
              "      </button>\n",
              "      \n",
              "  <style>\n",
              "    .colab-df-container {\n",
              "      display:flex;\n",
              "      flex-wrap:wrap;\n",
              "      gap: 12px;\n",
              "    }\n",
              "\n",
              "    .colab-df-convert {\n",
              "      background-color: #E8F0FE;\n",
              "      border: none;\n",
              "      border-radius: 50%;\n",
              "      cursor: pointer;\n",
              "      display: none;\n",
              "      fill: #1967D2;\n",
              "      height: 32px;\n",
              "      padding: 0 0 0 0;\n",
              "      width: 32px;\n",
              "    }\n",
              "\n",
              "    .colab-df-convert:hover {\n",
              "      background-color: #E2EBFA;\n",
              "      box-shadow: 0px 1px 2px rgba(60, 64, 67, 0.3), 0px 1px 3px 1px rgba(60, 64, 67, 0.15);\n",
              "      fill: #174EA6;\n",
              "    }\n",
              "\n",
              "    [theme=dark] .colab-df-convert {\n",
              "      background-color: #3B4455;\n",
              "      fill: #D2E3FC;\n",
              "    }\n",
              "\n",
              "    [theme=dark] .colab-df-convert:hover {\n",
              "      background-color: #434B5C;\n",
              "      box-shadow: 0px 1px 3px 1px rgba(0, 0, 0, 0.15);\n",
              "      filter: drop-shadow(0px 1px 2px rgba(0, 0, 0, 0.3));\n",
              "      fill: #FFFFFF;\n",
              "    }\n",
              "  </style>\n",
              "\n",
              "      <script>\n",
              "        const buttonEl =\n",
              "          document.querySelector('#df-5500bfbc-b733-4e76-95a4-04621bb7ce2f button.colab-df-convert');\n",
              "        buttonEl.style.display =\n",
              "          google.colab.kernel.accessAllowed ? 'block' : 'none';\n",
              "\n",
              "        async function convertToInteractive(key) {\n",
              "          const element = document.querySelector('#df-5500bfbc-b733-4e76-95a4-04621bb7ce2f');\n",
              "          const dataTable =\n",
              "            await google.colab.kernel.invokeFunction('convertToInteractive',\n",
              "                                                     [key], {});\n",
              "          if (!dataTable) return;\n",
              "\n",
              "          const docLinkHtml = 'Like what you see? Visit the ' +\n",
              "            '<a target=\"_blank\" href=https://colab.research.google.com/notebooks/data_table.ipynb>data table notebook</a>'\n",
              "            + ' to learn more about interactive tables.';\n",
              "          element.innerHTML = '';\n",
              "          dataTable['output_type'] = 'display_data';\n",
              "          await google.colab.output.renderOutput(dataTable, element);\n",
              "          const docLink = document.createElement('div');\n",
              "          docLink.innerHTML = docLinkHtml;\n",
              "          element.appendChild(docLink);\n",
              "        }\n",
              "      </script>\n",
              "    </div>\n",
              "  </div>\n",
              "  "
            ]
          },
          "metadata": {},
          "execution_count": 10
        }
      ]
    },
    {
      "cell_type": "markdown",
      "source": [
        "####5. Πώς είναι δομημένο το περιεχόμενο της σελίδας του πλήρους άρθρου;\n",
        "(ώστε να αναζητήσω με τα κατάλληλα tags τα δεδομένα που θέλω για το κάθε άρθρο)\n"
      ],
      "metadata": {
        "id": "-ydGxCZQxNdA"
      }
    },
    {
      "cell_type": "markdown",
      "source": [
        "Τα Urls των σελίδων ολόκληρων των άρθρων βρίσκονται πλέον στο dataframe με τα teaser articles που έχουμε φτιάξει.\n",
        "\n",
        "Επομένως αν θέλουμε να κατεβάσουμε τη σελίδα του πρώτου άρθρου, θα πάρουμε το url της από το πρώτο row του dataframe από τη στήλη 'Url'."
      ],
      "metadata": {
        "id": "g4nxhOJwxjVA"
      }
    },
    {
      "cell_type": "code",
      "source": [
        "test_article_url = news247_latest_teaser_articles_df.iloc[[0]]['Url'].item() # με το item() παίρνω το string του Url\n",
        "\n",
        "test_response = requests.get(test_article_url)\n",
        "test_soup = BeautifulSoup(test_response.text, 'html.parser')"
      ],
      "metadata": {
        "id": "FS57B7ItybmZ"
      },
      "execution_count": null,
      "outputs": []
    },
    {
      "cell_type": "markdown",
      "source": [
        "Θέλω να δω ποιο είναι το url του πρώτου άρθρου που έχω κατεβάσει για να το ανοίξω στον browser και να το κάνω inspect."
      ],
      "metadata": {
        "id": "MxMtZD--zjei"
      }
    },
    {
      "cell_type": "code",
      "source": [
        "test_article_url"
      ],
      "metadata": {
        "colab": {
          "base_uri": "https://localhost:8080/",
          "height": 35
        },
        "id": "9suFkLk3z4IR",
        "outputId": "a54ad336-a320-4280-94a6-0b4fd5dbab3d"
      },
      "execution_count": null,
      "outputs": [
        {
          "output_type": "execute_result",
          "data": {
            "text/plain": [
              "'https://www.news247.gr/kosmos/eylogia-ton-pithikon-proto-epivevaiomeno-kroysma-kai-sti-gallia.9637679.html'"
            ],
            "application/vnd.google.colaboratory.intrinsic+json": {
              "type": "string"
            }
          },
          "metadata": {},
          "execution_count": 13
        }
      ]
    },
    {
      "cell_type": "markdown",
      "source": [
        "Ανοίγοντας τη σελίδα https://www.news247.gr/kosmos/eylogia-ton-pithikon-proto-epivevaiomeno-kroysma-kai-sti-gallia.9637679.html στον browser, κάνω inspect (δεξί κλικ στον τίτλο του άρθρου -> Inspect).\n",
        "\n",
        "Βλέπω ότι το περιεχόμενο ολόκληρου του box του άρθρου είναι μέσα σε ένα `<article> tag`, με `id=\"article-ifo\"`. Όμως μέσα στο `<article>` είναι και πάρα πολλά σκουπίδια που δεν τα θέλω.\n",
        "\n",
        "Το άρθρο καθεαυτό φαίνεται να είναι μέσα σε ένα `<div>` με `class=\"article-body \"`.\n",
        "\n",
        "Όμως το Section είναι έξω από αυτό το `<div>`, σ'ένα άλλο `<div>` με `class=\"article-head\"`.\n",
        "\n",
        "\n",
        "Θα δοκιμάσω να δω τι μου φέρνει το find με την επιλογή: `('div', {'class': 'article-body'})`"
      ],
      "metadata": {
        "id": "-BNKRscdzdnJ"
      }
    },
    {
      "cell_type": "code",
      "source": [
        "test_soup.find('div', {'class': 'article-body'})"
      ],
      "metadata": {
        "colab": {
          "base_uri": "https://localhost:8080/"
        },
        "id": "n1U05fyD4LBW",
        "outputId": "589ae5ff-ea0c-49da-d4ff-46cee204a9db"
      },
      "execution_count": null,
      "outputs": [
        {
          "output_type": "execute_result",
          "data": {
            "text/plain": [
              "<div class=\"article-body \">\n",
              "<div class=\"article-body__article-head-box\">\n",
              "<h1 class=\"article-body__article-headline\">\n",
              "\t\t\t\t\tΕυλογιά των Πιθήκων: Πρώτο επιβεβαιωμένο κρούσμα και στη Γαλλία</h1>\n",
              "</div>\n",
              "<figure class=\"article-body__picture\">\n",
              "<img alt=\"Γιατροί σε εργαστήριο της Γαλλίας\" height=\"381\" src=\"https://www.news247.gr/img/4769/9637672/583000/w660/660/untitled_1.jpg\" style=\"height:auto;\" title=\"Γιατροί σε εργαστήριο της Γαλλίας\" width=\"660\"/>\n",
              "<figcaption class=\"article-body__picture-descr\">\n",
              "                            Γιατροί σε εργαστήριο της Γαλλίας<span class=\"article-body__credit\">\n",
              "<i aria-hidden=\"true\" class=\"fa fa-camera\"></i>\n",
              "                                            AP PHOTO/JEAN-FRANCOIS BADIAS</span>\n",
              "</figcaption>\n",
              "</figure>\n",
              "<div class=\"sociall_container\">\n",
              "<!-- Go to www.addthis.com/dashboard to customize your tools -->\n",
              "<div class=\"addthis_inline_share_toolbox_cg60_ry40\"></div>\n",
              "</div>\n",
              "<div class=\"ad-widget ad-widget_custom \">\n",
              "<!--script src=\"//code.jquery.com/jquery-1.12.0.min.js\"></script-->\n",
              "<script id=\"wj-impact-d6c062d5-8c26-4d9b-ae44-12192cbc124c\">\n",
              "    var uiCode = 'WJ-13104';\n",
              "    var wj = document.createElement('script');\n",
              "    wj.type = 'text/javascript';\n",
              "    wj.async = true;\n",
              "    wj.src = '//call.thebutterfly.eu/Snippet/' + uiCode + '?_=' + Math.floor(Math.random() * 99999999999);\n",
              "    var embedder = document.getElementById('wj-impact-d6c062d5-8c26-4d9b-ae44-12192cbc124c');\n",
              "    embedder.parentNode.insertBefore(wj, embedder);\n",
              "</script></div>\n",
              "<h2 class=\"article-body__introtext\">Ακόμα μία χώρα στην οποία εντοπίστηκε το πρώτο κρούσμα της νέας νόσου. Παγκόσμια ανησυχία.</h2>\n",
              "<div class=\"ad-widget ad-widget_620x40 \">\n",
              "<!-- /4834629/news247.gr/ros-660x100a -->\n",
              "<div id=\"ros-660x100a\">\n",
              "</div></div>\n",
              "<div class=\"article-body__byline noeditor\">\n",
              "<a href=\"/\" style=\"font-size:13px;\">news247</a>\n",
              "<span class=\"article-body__date\">\n",
              "<time datetime=\"2022-05-20 12:12\"> 20 Μαΐου 2022 12:12</time>\n",
              "</span>\n",
              "</div>\n",
              "<div class=\"article-body__storyContent \">\n",
              "<div class=\"article-body__body\">\n",
              "<p>Ένα πρώτο επιβεβαιωμένο κρούσμα της<a href=\"https://www.news247.gr/eylogia-ton-pithikon\" rel=\"Follow\" target=\"_self\"> ευλογιάς των πιθήκων</a> εντοπίστηκε χθες, Πέμπτη, στην περιφέρεια Ιλ-ντε-Φρανς, ανακοίνωσε σήμερα η Γενική Διεύθυνση Υγείας της <a href=\"https://www.news247.gr/gallia\" rel=\"Follow\" target=\"_self\">Γαλλίας</a>.</p>\n",
              "<p>Πρόκειται για έναν άνδρα ηλικίας 29 ετών χωρίς προηγούμενο ταξιδιού σε χώρα όπου κυκλοφορεί ο ιός, διευκρίνισαν οι υγειονομικές αρχές.</p>\n",
              "<!-- /4834629/news247.gr/ros_inline_A -->\n",
              "<style>\n",
              "    .ros-inlineA_title::before { content: \"\"; width: 100%; height: 1px; background: #cfcfcf; display: block; top: 5px; position: relative; }\n",
              "    .ros-inlineA_title { margin: auto; }\n",
              "    .ros-inlineA_title .ad_label { width: 95px; font-family: Roboto Slab; font-size: 10px; font-weight: 400; line-height: 8px;color: #cfcfcf; position: relative; background: #fff; text-align: center; margin: 0 auto 5px; }\n",
              "\n",
              ".mobile main#main{\n",
              "overflow:unset;\n",
              "}\n",
              "div#ros-inlineA {\n",
              "    min-height: 400px;\n",
              "}\n",
              "div#ros-inlineA > *:not([id^=\"adman-\"]):not([class^=\"adman\"]) {\n",
              "    position: sticky!important;\n",
              "    top: 85px;\n",
              "}\n",
              "\n",
              "\n",
              "body.news [id^='adman-inpage-video-'] a,\n",
              "body.news [id^='adman-inpage-video-'] a:hover,\n",
              "body.news [id^='adman-inpage-video-'] .vast-blocker,\n",
              "body.news [id^='adman-inpage-video-'] .vast-blocker:hover{\n",
              "\tcolor:unset;\n",
              "\tbackground-color:unset;\n",
              "}\n",
              "</style>\n",
              "<div id=\"advertisment\" style=\"margin-top:20px; margin-bottom:20px;\">\n",
              "<div class=\"ros-inlineA_title\" style=\"display:none;\">\n",
              "<div class=\"ad_label\">\n",
              "    ADVERTISING \n",
              "  </div>\n",
              "</div>\n",
              "<div id=\"ros-inlineA\" style=\"margin-top:20px;border-bottom: 1px solid rgb(221, 221, 221); padding-bottom: 20px;text-align: center; \">\n",
              "</div>\n",
              "</div>\n",
              "<p>Αφότου θεωρήθηκε ότι μπορεί να είχε μολυνθεί, έλαβε ιατρική φροντίδα και, καθώς η κατάστασή του δεν είναι σοβαρή, έχει τεθεί σε απομόνωση στο σπίτι του.</p>\n",
              "<h2>Δεύτερο κρούσμα στο Βέλγιο</h2>\n",
              "<p>Δεύτερο κρούσμα ευλογιάς των πιθήκων καταγράφηκε στο Βέλγιο, σύμφωνα με τον ιολόγο Μαρκ Βαν Ρανστ.</p>\n",
              "<p>\"Δεύτερο κρούσμα διαγνώστηκε χθες (Πέμπτη) το βράδυ στο εργαστήριό μας στο Λουβέν σε δείγμα άνδρα από την περιφέρεια της Φλαμανδικής Μπραμπάντ\", ανέφερε ο Μαρκ Βαν Ρανστ. Το πρώτο κρούσμα είχε εντοπιστεί στην Αμβέρσα.</p>\n",
              "<p><i><b>Ακολουθήστε το <a href=\"https://news.google.com/publications/CAAiEPBbzilxLAOqHZhOPBpiQF8qFAgKIhDwW84pcSwDqh2YTjwaYkBf?oc=3&amp;ceid=GR:el\">News247.gr στο Google News </a>και μάθετε πρώτοι όλες τις <a href=\"https://www.news247.gr/\" rel=\"Follow\" target=\"_self\">ειδήσεις</a></b></i></p></div>\n",
              "</div>\n",
              "<section class=\"article-code__livechat\">\n",
              "</section>\n",
              "<div class=\"code-widget \">\n",
              "<script>\n",
              "/*$(\"document\").ready(function(){*/\n",
              "\n",
              "\n",
              "setTimeout(function(){\n",
              "\n",
              "if(document.querySelector(\"#introContainer\") !== null){\n",
              "\n",
              "document.querySelector(\"#introContainer\").style = \"float: none;clear: both;color: #bcbcbc;border-top: none;margin-top: 0;margin-bottom: 0;\";\n",
              "\n",
              "$(\"#introContainer\").html(\"\");\n",
              "\n",
              "//$(\"#introContainer\").append('<span style=\"position:relative;top:17px;display: table;width: 50%;\"><b>Η σελίδα ανανεώνεται αυτόματα </b><br/>όποτε υπάρχει νέα καταχώρηση </span><span style=\"font-weight: bold;float: right;position: relative;top:-5px;display: table;width: 50%;text-align: right;\">AUTO REFRESH <span class=\"auto_refresh\"></span></span>');\n",
              "\n",
              "$(\"#introContainer\").append('<div id=\"introContainer\" style=\"display: flex;width: 100%; justify-content: space-between; padding-top: 13px;\"><span style=\"position:relative; display: flex;width: 50%;letter-spacing: 0;\"><b>Η σελίδα ανανεώνεται αυτόματα </b></span><span style=\"font-weight: bold;float: right;position: relative;display: flex;width: 23%;text-align: right;\">AUTO REFRESH <span class=\"auto_refresh\"</span></span></div>');\n",
              "\n",
              "}// end of if\n",
              "\n",
              "},5500);\n",
              "\n",
              "\n",
              "/*});*/\n",
              "\n",
              "/*<img src=\"//news247.gr/24media-network/article3642697.ece/BINARY/original/auto-refresh4.gif\" style=\"position: relative;\">*/\n",
              "</script></div>\n",
              "<div class=\"article-body__tags\">\n",
              "<span class=\"article-body__relcontent\">ΠΕΡΙΣΣΟΤΕΡΑ: </span>\n",
              "<a href=\"https://www.news247.gr/eylogia-ton-pithikon\" title=\"Ευλογιά των Πιθήκων\">Ευλογιά των Πιθήκων</a>, <a href=\"https://www.news247.gr/gallia\" title=\"Γαλλία\">Γαλλία</a></div>\n",
              "<div class=\"ad-widget ad-widget_300x250 with-headder a_mob_100\">\n",
              "<!-- /4834629/news247.gr/ros-article-end -->\n",
              "<style>\n",
              "    .ros-article-end_title::before { content: \"\"; width: 100%; height: 1px; background: #cfcfcf; display: block; top: 5px; position: relative; }\n",
              "    .ros-article-end_title { margin: auto; }\n",
              "    .ros-article-end_title .ad_label { width: 95px; font-family: Roboto Slab;  font-size: 10px; font-weight: 400; line-height: 8px;color: #cfcfcf; position: relative; background: #fff; text-align: center; margin: 0 auto 5px; }\n",
              "</style>\n",
              "<div id=\"advertisment\" style=\"margin-top: 20px;\">\n",
              "<div class=\"ros-article-end_title\" style=\"display:none;\">\n",
              "<div class=\"ad_label\">\n",
              "           ADVERTISING\n",
              "        </div>\n",
              "</div>\n",
              "<div id=\"ros-article-end\" style=\"margin-top:20px;\">\n",
              "</div>\n",
              "</div></div>\n",
              "<!-- Go to www.addthis.com/dashboard to customize your tools -->\n",
              "<span style=\"position:relative;top: 46px;font-weight: normal;color: #215b87;font-size: 18px;width: 80px;\">SHARE:</span>\n",
              "<div class=\"addthis_sharing_toolbox\" style=\"padding: 10px 90px 5px; border-top: 1px solid #ddd; border-bottom: 1px solid #ddd;\"></div>\n",
              "<section class=\"newsletter-form\">\n",
              "<h4 class=\"newsletter-form__title\">Newsletter</h4>\n",
              "<p class=\"newsletter-form__prompt\">Όλες οι ειδήσεις που πρέπει να ξέρεις στο email σου</p>\n",
              "<a class=\"newsletter-form__button\" href=\"https://eepurl.com/bZri51\" rel=\"noopener nofollow external\" target=\"_blank\" title=\"Εγγραφείτε στο newsletter\">ΕΓΓΡΑΦΗ</a>\n",
              "</section><div class=\"ad-widget ad-widget_620x40 \">\n",
              "<!-- /4834629/news247.gr/ros_660x100b -->\n",
              "<div id=\"div-gpt-ad-1554390161408-0\">\n",
              "</div>\n",
              "</div>\n",
              "<div class=\"more-news-bestof \" id=\"three-col\">\n",
              "<h2 class=\"bestof-widget__title\">\n",
              "                    24Media Network</h2>\n",
              "<section class=\"rss-widget rss-widget_bestof \" data-gtm=\"LADYLIKE BON-6125297\">\n",
              "<div class=\"rss-widget__content\">\n",
              "<article class=\"rss-widget__article article\" data-position=\"\">\n",
              "<figure>\n",
              "<a class=\"article__image\" href=\"https://www.ladylike.gr/celebrities/i-roula-revi-fotografizei-gimno-ton-apostoli-totsika/?utm_source=News247&amp;utm_medium=BestofNetwork_article&amp;utm_campaign=24MediaWidget&amp;utm_term=Pos1\" rel=\"noopener external \" target=\"_blank\" title=\"Η Ρούλα Ρέβη φωτογραφίζει γυμνό τον Αποστόλη Τότσικα\">\n",
              "<img alt=\"Η Ρούλα Ρέβη φωτογραφίζει γυμνό τον Αποστόλη Τότσικα\" src=\"https://media.ladylike.gr/ldl-images/totsikas-revi-1.jpg\" title=\"Η Ρούλα Ρέβη φωτογραφίζει γυμνό τον Αποστόλη Τότσικα\">\n",
              "</img></a>\n",
              "</figure>\n",
              "<h2>\n",
              "<a href=\"https://www.ladylike.gr/celebrities/i-roula-revi-fotografizei-gimno-ton-apostoli-totsika/?utm_source=News247&amp;utm_medium=BestofNetwork_article&amp;utm_campaign=24MediaWidget&amp;utm_term=Pos1\" rel=\"noopener external \" target=\"_blank\" title=\"Η Ρούλα Ρέβη φωτογραφίζει γυμνό τον Αποστόλη Τότσικα\">Η Ρούλα Ρέβη φωτογραφίζει γυμνό τον Αποστόλη Τότσικα</a>\n",
              "</h2>\n",
              "<div class=\"rss-widget__summary\">\n",
              "<a class=\"publisher\" href=\"https://www.ladylike.gr/?utm_source=News247&amp;utm_medium=BestofNetwork_article&amp;utm_campaign=24MediaWidget&amp;utm_term=Pos1\" rel=\"noopener external \" target=\"_blank\" title=\"Ladylike\">\n",
              "                            LADYLIKE</a>\n",
              "</div>\n",
              "</article>\n",
              "</div>\n",
              "</section>\n",
              "<section class=\"rss-widget rss-widget_bestof \" data-gtm=\"ONEMAN BON-6125244\">\n",
              "<div class=\"rss-widget__content\">\n",
              "<article class=\"rss-widget__article article\" data-position=\"\">\n",
              "<figure>\n",
              "<a class=\"article__image\" href=\"https://www.oneman.gr/life/telika-poso-sex-kanoume-stin-epoxi-mas/?utm_source=News247&amp;utm_medium=BestofNetwork_article&amp;utm_campaign=24MediaWidget&amp;utm_term=Pos2\" rel=\"noopener external \" target=\"_blank\" title=\"Έρευνα: Ποιοι άνθρωποι κάνουν περισσότερο σεξ σήμερα\">\n",
              "<img alt=\"Έρευνα: Ποιοι άνθρωποι κάνουν περισσότερο σεξ σήμερα\" src=\"https://media.oneman.gr/onm-images/pexels-spencer-selover-428546-1-1.jpg\" title=\"Έρευνα: Ποιοι άνθρωποι κάνουν περισσότερο σεξ σήμερα\"/>\n",
              "</a>\n",
              "</figure>\n",
              "<h2>\n",
              "<a href=\"https://www.oneman.gr/life/telika-poso-sex-kanoume-stin-epoxi-mas/?utm_source=News247&amp;utm_medium=BestofNetwork_article&amp;utm_campaign=24MediaWidget&amp;utm_term=Pos2\" rel=\"noopener external \" target=\"_blank\" title=\"Έρευνα: Ποιοι άνθρωποι κάνουν περισσότερο σεξ σήμερα\">Έρευνα: Ποιοι άνθρωποι κάνουν περισσότερο σεξ σήμερα</a>\n",
              "</h2>\n",
              "<div class=\"rss-widget__summary\">\n",
              "<a class=\"publisher\" href=\"https://www.oneman.gr/?utm_source=News247&amp;utm_medium=BestofNetwork_article&amp;utm_campaign=24MediaWidget&amp;utm_term=Pos2\" rel=\"noopener external \" target=\"_blank\" title=\"Oneman\">\n",
              "                            ONEMAN</a>\n",
              "</div>\n",
              "</article>\n",
              "</div>\n",
              "</section>\n",
              "<section class=\"rss-widget rss-widget_bestof \" data-gtm=\"unsetid-9434077\">\n",
              "<div class=\"rss-widget__content\">\n",
              "<article class=\"rss-widget__article article\" data-position=\"\">\n",
              "<figure>\n",
              "<a class=\"article__image\" href=\"https://www.ow.gr/living/proti-fora-kataskinosi-osa-theloun-na-xeroun-oi-goneis/?utm_source=News247&amp;utm_medium=BestofNetwork_article&amp;utm_campaign=24MediaWidget&amp;utm_term=Pos3\" rel=\"noopener external nofollow\" target=\"_blank\" title=\"Πρώτη φορά κατασκήνωση: Όσα θέλουν να ξέρουν οι γονείς\">\n",
              "<img alt=\"Πρώτη φορά κατασκήνωση: Όσα θέλουν να ξέρουν οι γονείς\" src=\"https://media.ow.gr/ow-images/2022/05/iStock-877359832-450x300.jpg\" title=\"Πρώτη φορά κατασκήνωση: Όσα θέλουν να ξέρουν οι γονείς\"/>\n",
              "</a>\n",
              "</figure>\n",
              "<h2>\n",
              "<a href=\"https://www.ow.gr/living/proti-fora-kataskinosi-osa-theloun-na-xeroun-oi-goneis/?utm_source=News247&amp;utm_medium=BestofNetwork_article&amp;utm_campaign=24MediaWidget&amp;utm_term=Pos3\" rel=\"noopener external nofollow\" target=\"_blank\" title=\"Πρώτη φορά κατασκήνωση: Όσα θέλουν να ξέρουν οι γονείς\">Πρώτη φορά κατασκήνωση: Όσα θέλουν να ξέρουν οι γονείς</a>\n",
              "</h2>\n",
              "<div class=\"rss-widget__summary\">\n",
              "<a class=\"publisher\" href=\"https://www.ow.gr/?utm_source=News247&amp;utm_medium=BestofNetwork_article&amp;utm_campaign=24MediaWidget&amp;utm_term=Pos3\" rel=\"noopener external nofollow\" target=\"_blank\" title=\"OW\">\n",
              "                            OW</a>\n",
              "</div>\n",
              "</article>\n",
              "</div>\n",
              "</section>\n",
              "<section class=\"rss-widget rss-widget_bestof \" data-gtm=\"unsetid-6685789\">\n",
              "<div class=\"rss-widget__content\">\n",
              "<article class=\"rss-widget__article article\" data-position=\"\">\n",
              "<figure>\n",
              "<a class=\"article__image\" href=\"https://www.ow.gr/living/giati-xreiazomaste-tis-melisses/?utm_source=News247&amp;utm_medium=BestofNetwork_article&amp;utm_campaign=24MediaWidget&amp;utm_term=Pos3\" rel=\"noopener external nofollow\" target=\"_blank\" title=\"Γιατί χρειαζόμαστε τις μέλισσες;\">\n",
              "<img alt=\"Γιατί χρειαζόμαστε τις μέλισσες;\" src=\"https://media.ow.gr/ow-images/2022/01/giati-xreiazomaste-tis-melisses-450x300.jpg\" title=\"Γιατί χρειαζόμαστε τις μέλισσες;\"/>\n",
              "</a>\n",
              "</figure>\n",
              "<h2>\n",
              "<a href=\"https://www.ow.gr/living/giati-xreiazomaste-tis-melisses/?utm_source=News247&amp;utm_medium=BestofNetwork_article&amp;utm_campaign=24MediaWidget&amp;utm_term=Pos3\" rel=\"noopener external nofollow\" target=\"_blank\" title=\"Γιατί χρειαζόμαστε τις μέλισσες;\">Γιατί χρειαζόμαστε τις μέλισσες;</a>\n",
              "</h2>\n",
              "<div class=\"rss-widget__summary\">\n",
              "<a class=\"publisher\" href=\"https://www.ow.gr/?utm_source=News247&amp;utm_medium=BestofNetwork_article&amp;utm_campaign=24MediaWidget&amp;utm_term=Pos4\" rel=\"noopener external nofollow\" target=\"_blank\" title=\"OW\">\n",
              "                            OW</a>\n",
              "</div>\n",
              "</article>\n",
              "</div>\n",
              "</section>\n",
              "<section class=\"rss-widget rss-widget_bestof \" data-gtm=\"LADYLIKE BON-6125304\">\n",
              "<div class=\"rss-widget__content\">\n",
              "<article class=\"rss-widget__article article\" data-position=\"\">\n",
              "<figure>\n",
              "<a class=\"article__image\" href=\"https://www.ladylike.gr/epikairothta/vangelis-papathanasiou-o-elon-musk-ton-apoxairetise-me-saixpir/?utm_source=News247&amp;utm_medium=BestofNetwork_article&amp;utm_campaign=24MediaWidget&amp;utm_term=Pos5\" rel=\"noopener external \" target=\"_blank\" title=\"Βαγγέλης Παπαθανασίου: Ο Elon Musk τον αποχαιρέτησε με Σαίξπηρ\">\n",
              "<img alt=\"Βαγγέλης Παπαθανασίου: Ο Elon Musk τον αποχαιρέτησε με Σαίξπηρ\" src=\"https://media.ladylike.gr/ldl-images/vangelis-a.jpg\" title=\"Βαγγέλης Παπαθανασίου: Ο Elon Musk τον αποχαιρέτησε με Σαίξπηρ\"/>\n",
              "</a>\n",
              "</figure>\n",
              "<h2>\n",
              "<a href=\"https://www.ladylike.gr/epikairothta/vangelis-papathanasiou-o-elon-musk-ton-apoxairetise-me-saixpir/?utm_source=News247&amp;utm_medium=BestofNetwork_article&amp;utm_campaign=24MediaWidget&amp;utm_term=Pos5\" rel=\"noopener external \" target=\"_blank\" title=\"Βαγγέλης Παπαθανασίου: Ο Elon Musk τον αποχαιρέτησε με Σαίξπηρ\">Βαγγέλης Παπαθανασίου: Ο Elon Musk τον αποχαιρέτησε με Σαίξπηρ</a>\n",
              "</h2>\n",
              "<div class=\"rss-widget__summary\">\n",
              "<a class=\"publisher\" href=\"https://www.ladylike.gr/?utm_source=News247&amp;utm_medium=BestofNetwork_article&amp;utm_campaign=24MediaWidget&amp;utm_term=Pos5\" rel=\"noopener external \" target=\"_blank\" title=\"Ladylike\">\n",
              "                            LADYLIKE</a>\n",
              "</div>\n",
              "</article>\n",
              "</div>\n",
              "</section>\n",
              "<section class=\"rss-widget rss-widget_bestof \" data-gtm=\"unsetid-9491621\">\n",
              "<div class=\"rss-widget__content\">\n",
              "<article class=\"rss-widget__article article\" data-position=\"\">\n",
              "<figure>\n",
              "<a class=\"article__image\" href=\"https://www.ow.gr/omorfia/french-beauty-5-gallika-proionta-antigiransis-pou-mas-goitevoun/?utm_source=News247&amp;utm_medium=BestofNetwork_article&amp;utm_campaign=24MediaWidget&amp;utm_term=Pos8\" rel=\"noopener external nofollow\" target=\"_blank\" title=\"French beauty: 5 γαλλικά προϊόντα αντιγήρανσης που μας γοητεύουν\">\n",
              "<img alt=\"French beauty: 5 γαλλικά προϊόντα αντιγήρανσης που μας γοητεύουν\" src=\"https://media.ow.gr/ow-images/2022/05/french-beauty-450x300.jpg\" title=\"French beauty: 5 γαλλικά προϊόντα αντιγήρανσης που μας γοητεύουν\"/>\n",
              "</a>\n",
              "</figure>\n",
              "<h2>\n",
              "<a href=\"https://www.ow.gr/omorfia/french-beauty-5-gallika-proionta-antigiransis-pou-mas-goitevoun/?utm_source=News247&amp;utm_medium=BestofNetwork_article&amp;utm_campaign=24MediaWidget&amp;utm_term=Pos8\" rel=\"noopener external nofollow\" target=\"_blank\" title=\"French beauty: 5 γαλλικά προϊόντα αντιγήρανσης που μας γοητεύουν\">French beauty: 5 γαλλικά προϊόντα αντιγήρανσης που μας γοητεύουν</a>\n",
              "</h2>\n",
              "<div class=\"rss-widget__summary\">\n",
              "<a class=\"publisher\" href=\"https://www.ow.gr/?utm_source=News247&amp;utm_medium=BestofNetwork_article&amp;utm_campaign=24MediaWidget&amp;utm_term=Pos8\" rel=\"noopener external nofollow\" target=\"_blank\" title=\"OW\">\n",
              "                            OW</a>\n",
              "</div>\n",
              "</article>\n",
              "</div>\n",
              "</section>\n",
              "<section class=\"rss-widget rss-widget_bestof \" data-gtm=\"Oneman BON 2-6361335\">\n",
              "<div class=\"rss-widget__content\">\n",
              "<article class=\"rss-widget__article article\" data-position=\"\">\n",
              "<figure>\n",
              "<a class=\"article__image\" href=\"https://www.oneman.gr/entertainment/survivor-me-posa-xrimata-efige-apo-to-paixnidi-o-takis-karagkounias/?utm_source=News247&amp;utm_medium=BestofNetwork_article&amp;utm_campaign=24MediaWidget&amp;utm_term=Pos7\" rel=\"noopener external \" target=\"_blank\" title=\"Survivor: Με πόσα χρήματα έφυγε από το παιχνίδι ο Τάκης Καραγκούνιας\">\n",
              "<img alt=\"Survivor: Με πόσα χρήματα έφυγε από το παιχνίδι ο Τάκης Καραγκούνιας\" src=\"https://media.oneman.gr/onm-images/139.jpg\" title=\"Survivor: Με πόσα χρήματα έφυγε από το παιχνίδι ο Τάκης Καραγκούνιας\"/>\n",
              "</a>\n",
              "</figure>\n",
              "<h2>\n",
              "<a href=\"https://www.oneman.gr/entertainment/survivor-me-posa-xrimata-efige-apo-to-paixnidi-o-takis-karagkounias/?utm_source=News247&amp;utm_medium=BestofNetwork_article&amp;utm_campaign=24MediaWidget&amp;utm_term=Pos7\" rel=\"noopener external \" target=\"_blank\" title=\"Survivor: Με πόσα χρήματα έφυγε από το παιχνίδι ο Τάκης Καραγκούνιας\">Survivor: Με πόσα χρήματα έφυγε από το παιχνίδι ο Τάκης Καραγκούνιας</a>\n",
              "</h2>\n",
              "<div class=\"rss-widget__summary\">\n",
              "<a class=\"publisher\" href=\"https://www.oneman.gr/?utm_source=News247&amp;utm_medium=BestofNetwork_article&amp;utm_campaign=24MediaWidget&amp;utm_term=Pos7\" rel=\"noopener external \" target=\"_blank\" title=\"Oneman\">\n",
              "                            ONEMAN</a>\n",
              "</div>\n",
              "</article>\n",
              "</div>\n",
              "</section>\n",
              "<section class=\"rss-widget rss-widget_bestof \" data-gtm=\"unsetid-9434080\">\n",
              "<div class=\"rss-widget__content\">\n",
              "<article class=\"rss-widget__article article\" data-position=\"\">\n",
              "<figure>\n",
              "<a class=\"article__image\" href=\"https://www.ow.gr/empnefsi/3-rooms-i-pio-fun-parastasi-xorou-sti-liriki/?utm_source=News247&amp;utm_medium=BestofNetwork_article&amp;utm_campaign=24MediaWidget&amp;utm_term=Pos8\" rel=\"noopener external nofollow\" target=\"_blank\" title=\"«3 Rooms»: Η πιο fun παράσταση χορού στη Λυρική\">\n",
              "<img alt=\"«3 Rooms»: Η πιο fun παράσταση χορού στη Λυρική\" src=\"https://media.ow.gr/ow-images/2022/05/GNO_3-Rooms-PETITE-MORT-photo-Daisy-Komen-450x300.jpg\" title=\"«3 Rooms»: Η πιο fun παράσταση χορού στη Λυρική\"/>\n",
              "</a>\n",
              "</figure>\n",
              "<h2>\n",
              "<a href=\"https://www.ow.gr/empnefsi/3-rooms-i-pio-fun-parastasi-xorou-sti-liriki/?utm_source=News247&amp;utm_medium=BestofNetwork_article&amp;utm_campaign=24MediaWidget&amp;utm_term=Pos8\" rel=\"noopener external nofollow\" target=\"_blank\" title=\"«3 Rooms»: Η πιο fun παράσταση χορού στη Λυρική\">«3 Rooms»: Η πιο fun παράσταση χορού στη Λυρική</a>\n",
              "</h2>\n",
              "<div class=\"rss-widget__summary\">\n",
              "<a class=\"publisher\" href=\"https://www.ow.gr/?utm_source=News247&amp;utm_medium=BestofNetwork_article&amp;utm_campaign=24MediaWidget&amp;utm_term=Pos8\" rel=\"noopener external nofollow\" target=\"_blank\" title=\"OW\">\n",
              "                            OW</a>\n",
              "</div>\n",
              "</article>\n",
              "</div>\n",
              "</section>\n",
              "<section class=\"rss-widget rss-widget_bestof \" data-gtm=\"unsetid-6125296\">\n",
              "<div class=\"rss-widget__content\">\n",
              "<article class=\"rss-widget__article article\" data-position=\"\">\n",
              "<figure>\n",
              "<a class=\"article__image\" href=\"https://www.ladylike.gr/life/tv-recap-i-viki-kagia-ta-eipe-exo-apo-ta-dontia-gia-tin-elena-xristopoulou-kai-i-ioanna-maleskou-ekane-tin-apoliti-diapsefsi/?utm_source=News247&amp;utm_medium=BestofNetwork_article&amp;utm_campaign=24MediaWidget&amp;utm_term=Pos9\" rel=\"noopener external \" target=\"_blank\" title=\"Η Βίκυ Καγιά τα είπε έξω από τα δόντια για την Έλενα Χριστοπούλου\">\n",
              "<img alt=\"Η Βίκυ Καγιά τα είπε έξω από τα δόντια για την Έλενα Χριστοπούλου\" src=\"https://media.ladylike.gr/ldl-images/TV_Recap_Article_19.5.jpg\" title=\"Η Βίκυ Καγιά τα είπε έξω από τα δόντια για την Έλενα Χριστοπούλου\"/>\n",
              "</a>\n",
              "</figure>\n",
              "<h2>\n",
              "<a href=\"https://www.ladylike.gr/life/tv-recap-i-viki-kagia-ta-eipe-exo-apo-ta-dontia-gia-tin-elena-xristopoulou-kai-i-ioanna-maleskou-ekane-tin-apoliti-diapsefsi/?utm_source=News247&amp;utm_medium=BestofNetwork_article&amp;utm_campaign=24MediaWidget&amp;utm_term=Pos9\" rel=\"noopener external \" target=\"_blank\" title=\"Η Βίκυ Καγιά τα είπε έξω από τα δόντια για την Έλενα Χριστοπούλου\">Η Βίκυ Καγιά τα είπε έξω από τα δόντια για την Έλενα Χριστοπούλου</a>\n",
              "</h2>\n",
              "<div class=\"rss-widget__summary\">\n",
              "<a class=\"publisher\" href=\"https://www.ladylike.gr/?utm_source=News247&amp;utm_medium=BestofNetwork_article&amp;utm_campaign=24MediaWidget&amp;utm_term=Pos9\" rel=\"noopener external \" target=\"_blank\" title=\"Ladylike\">\n",
              "                            LADYLIKE</a>\n",
              "</div>\n",
              "</article>\n",
              "</div>\n",
              "</section>\n",
              "<section class=\"rss-widget rss-widget_bestof \" data-gtm=\"Ladylike BON 4-7469038\">\n",
              "<div class=\"rss-widget__content\">\n",
              "<article class=\"rss-widget__article article\" data-position=\"\">\n",
              "<figure>\n",
              "<a class=\"article__image\" href=\"https://www.ladylike.gr/celebrities/giannis-fertis-i-sizigos-tou-diapsevdei-oti-pasxei-apo-altsxaimer/?utm_source=News247&amp;utm_medium=BestofNetwork_article&amp;utm_campaign=24MediaWidget&amp;utm_term=Pos11\" rel=\"noopener external \" target=\"_blank\" title=\"Γιάννης Φέρτης: Η σύζυγός του διαψεύδει ότι πάσχει από Αλτσχάιμερ\">\n",
              "<img alt=\"Γιάννης Φέρτης: Η σύζυγός του διαψεύδει ότι πάσχει από Αλτσχάιμερ\" src=\"https://media.ladylike.gr/ldl-images/fertis-a.jpg\" title=\"Γιάννης Φέρτης: Η σύζυγός του διαψεύδει ότι πάσχει από Αλτσχάιμερ\"/>\n",
              "</a>\n",
              "</figure>\n",
              "<h2>\n",
              "<a href=\"https://www.ladylike.gr/celebrities/giannis-fertis-i-sizigos-tou-diapsevdei-oti-pasxei-apo-altsxaimer/?utm_source=News247&amp;utm_medium=BestofNetwork_article&amp;utm_campaign=24MediaWidget&amp;utm_term=Pos11\" rel=\"noopener external \" target=\"_blank\" title=\"Γιάννης Φέρτης: Η σύζυγός του διαψεύδει ότι πάσχει από Αλτσχάιμερ\">Γιάννης Φέρτης: Η σύζυγός του διαψεύδει ότι πάσχει από Αλτσχάιμερ</a>\n",
              "</h2>\n",
              "<div class=\"rss-widget__summary\">\n",
              "<a class=\"publisher\" href=\"https://www.ladylike.gr/?utm_source=News247&amp;utm_medium=BestofNetwork_article&amp;utm_campaign=24MediaWidget&amp;utm_term=Pos10\" rel=\"noopener external \" target=\"_blank\" title=\"Ladylike\">\n",
              "                            LADYLIKE</a>\n",
              "</div>\n",
              "</article>\n",
              "</div>\n",
              "</section>\n",
              "<div class=\"rss-widget rss-widget_bestof \" data-gtm=\"unsetid-6125294\">\n",
              "<div class=\"rss-widget__content\">\n",
              "<article class=\"rss-widget__article article\" data-position=\"1\">\n",
              "<figure>\n",
              "<a class=\"article__image\" href=\"https://www.ladylike.gr/style/pos-na-ftiaxeis-mia-sustainable-anoixiatiki-ntoulapa-mesa-se-6-vimata/?utm_source=News247&amp;utm_medium=BestofNetwork_article&amp;utm_campaign=24MediaWidget&amp;utm_term=Pos11\" rel=\"\" target=\"_blank\" title=\"Πώς να φτιάξεις μια sustainable, ανοιξιάτικη ντουλάπα σε 6 βήματα\">\n",
              "<img alt=\"Πώς να φτιάξεις μια sustainable, ανοιξιάτικη ντουλάπα σε 6 βήματα\" src=\"https://www.contra.gr/img/app/9636243/846000/w460/460/sss.jpg\" title=\"Πώς να φτιάξεις μια sustainable, ανοιξιάτικη ντουλάπα σε 6 βήματα\"/>\n",
              "</a>\n",
              "</figure>\n",
              "<h2>\n",
              "<a href=\"https://www.ladylike.gr/style/pos-na-ftiaxeis-mia-sustainable-anoixiatiki-ntoulapa-mesa-se-6-vimata/?utm_source=News247&amp;utm_medium=BestofNetwork_article&amp;utm_campaign=24MediaWidget&amp;utm_term=Pos11\" rel=\"\" target=\"_blank\" title=\"Πώς να φτιάξεις μια sustainable, ανοιξιάτικη ντουλάπα σε 6 βήματα\">Πώς να φτιάξεις μια sustainable, ανοιξιάτικη ντουλάπα σε 6 βήματα</a>\n",
              "</h2>\n",
              "<div class=\"rss-widget__summary\">\n",
              "<a class=\"publisher\" href=\"javascript:void(0);\" rel=\"nofollow\" target=\"_blank\" title=\"NATIVE BY CUSTOM.\">\n",
              "                            BRAND EXPERIENCE</a>\n",
              "</div>\n",
              "</article>\n",
              "</div>\n",
              "</div>\n",
              "<section class=\"rss-widget rss-widget_bestof \" data-gtm=\"Sport24 BON 1-6125301\">\n",
              "<div class=\"rss-widget__content\">\n",
              "<article class=\"rss-widget__article article\" data-position=\"\">\n",
              "<figure>\n",
              "<a class=\"article__image\" href=\"https://www.sport24.gr/basket/final-four-olympiakos-ochi-o-vezenkov-den-mporoyse-na-paixei-kalyteri-amyna-ston-mitsits.9637112.html?utm_source=News247&amp;utm_medium=BestofNetwork_article&amp;utm_campaign=24MediaWidget&amp;utm_term=Pos12\" rel=\"noopener external \" target=\"_blank\" title=\"Final Four, Ολυμπιακός: Όχι, ο Βεζένκοβ δεν μπορούσε να παίξει καλύτερη άμυνα στον Μίτσιτς\">\n",
              "<img alt=\"Final Four, Ολυμπιακός: Όχι, ο Βεζένκοβ δεν μπορούσε να παίξει καλύτερη άμυνα στον Μίτσιτς\" src=\"https://www.sport24.gr/img/app/9637415/512000/w220advertorial/220/micic_vezenkov.jpg\" title=\"Final Four, Ολυμπιακός: Όχι, ο Βεζένκοβ δεν μπορούσε να παίξει καλύτερη άμυνα στον Μίτσιτς\"/>\n",
              "</a>\n",
              "</figure>\n",
              "<h2>\n",
              "<a href=\"https://www.sport24.gr/basket/final-four-olympiakos-ochi-o-vezenkov-den-mporoyse-na-paixei-kalyteri-amyna-ston-mitsits.9637112.html?utm_source=News247&amp;utm_medium=BestofNetwork_article&amp;utm_campaign=24MediaWidget&amp;utm_term=Pos12\" rel=\"noopener external \" target=\"_blank\" title=\"Final Four, Ολυμπιακός: Όχι, ο Βεζένκοβ δεν μπορούσε να παίξει καλύτερη άμυνα στον Μίτσιτς\">Final Four, Ολυμπιακός: Όχι, ο Βεζένκοβ δεν μπορούσε να παίξει καλύτερη άμυνα στον Μίτσιτς</a>\n",
              "</h2>\n",
              "<div class=\"rss-widget__summary\">\n",
              "<a class=\"publisher\" href=\"https://www.sport24.gr/?utm_source=News247&amp;utm_medium=BestofNetwork_article&amp;utm_campaign=24MediaWidget&amp;utm_term=Pos12\" rel=\"noopener external \" target=\"_blank\" title=\"Sport 24\">\n",
              "                            SPORT 24</a>\n",
              "</div>\n",
              "</article>\n",
              "</div>\n",
              "</section>\n",
              "<section class=\"rss-widget rss-widget_bestof \" data-gtm=\"Sport24 BON 2-6595414\">\n",
              "<div class=\"rss-widget__content\">\n",
              "<article class=\"rss-widget__article article\" data-position=\"\">\n",
              "<figure>\n",
              "<a class=\"article__image\" href=\"https://www.sport24.gr/opinions/giannis-fileris/o-olympiakos-xanagine-moda-sto-mpasket-ki-as-ton-skotose-o-mitsits.9637222.html?utm_source=News247&amp;utm_medium=BestofNetwork_article&amp;utm_campaign=24MediaWidget&amp;utm_term=Pos13\" rel=\"noopener external \" target=\"_blank\" title='Ο Ολυμπιακός ξανάγινε μόδα στο μπάσκετ κι ας τον \"σκότωσε\" ο Μίτσιτς'>\n",
              "<img alt='Ο Ολυμπιακός ξανάγινε μόδα στο μπάσκετ κι ας τον \"σκότωσε\" ο Μίτσιτς' src=\"https://www.sport24.gr/img/app/9637366/494000/w220advertorial/220/mckissick.jpg\" title='Ο Ολυμπιακός ξανάγινε μόδα στο μπάσκετ κι ας τον \"σκότωσε\" ο Μίτσιτς'/>\n",
              "</a>\n",
              "</figure>\n",
              "<h2>\n",
              "<a href=\"https://www.sport24.gr/opinions/giannis-fileris/o-olympiakos-xanagine-moda-sto-mpasket-ki-as-ton-skotose-o-mitsits.9637222.html?utm_source=News247&amp;utm_medium=BestofNetwork_article&amp;utm_campaign=24MediaWidget&amp;utm_term=Pos13\" rel=\"noopener external \" target=\"_blank\" title='Ο Ολυμπιακός ξανάγινε μόδα στο μπάσκετ κι ας τον \"σκότωσε\" ο Μίτσιτς'>Ο Ολυμπιακός ξανάγινε μόδα στο μπάσκετ κι ας τον \"σκότωσε\" ο Μίτσιτς</a>\n",
              "</h2>\n",
              "<div class=\"rss-widget__summary\">\n",
              "<a class=\"publisher\" href=\"https://www.sport24.gr/?utm_source=News247&amp;utm_medium=BestofNetwork_article&amp;utm_campaign=24MediaWidget&amp;utm_term=Pos13\" rel=\"noopener external \" target=\"_blank\" title=\"Sport 24\">\n",
              "                            SPORT 24</a>\n",
              "</div>\n",
              "</article>\n",
              "</div>\n",
              "</section>\n",
              "<section class=\"rss-widget rss-widget_bestof \" data-gtm=\"unsetid-9434085\">\n",
              "<div class=\"rss-widget__content\">\n",
              "<article class=\"rss-widget__article article\" data-position=\"\">\n",
              "<figure>\n",
              "<a class=\"article__image\" href=\"https://www.ow.gr/diatrofi/xortastiki-kria-salata-me-kritharaki-kai-tono-alonnisou/?utm_source=News247&amp;utm_medium=BestofNetwork_article&amp;utm_campaign=24MediaWidget&amp;utm_term=Pos14\" rel=\"noopener external nofollow\" target=\"_blank\" title=\"Χορταστική κρύα σαλάτα με κριθαράκι και τόνο Αλοννήσου\">\n",
              "<img alt=\"Χορταστική κρύα σαλάτα με κριθαράκι και τόνο Αλοννήσου\" src=\"https://media.ow.gr/ow-images/2022/05/orzo-salad-1-450x300.jpg\" title=\"Χορταστική κρύα σαλάτα με κριθαράκι και τόνο Αλοννήσου\"/>\n",
              "</a>\n",
              "</figure>\n",
              "<h2>\n",
              "<a href=\"https://www.ow.gr/diatrofi/xortastiki-kria-salata-me-kritharaki-kai-tono-alonnisou/?utm_source=News247&amp;utm_medium=BestofNetwork_article&amp;utm_campaign=24MediaWidget&amp;utm_term=Pos14\" rel=\"noopener external nofollow\" target=\"_blank\" title=\"Χορταστική κρύα σαλάτα με κριθαράκι και τόνο Αλοννήσου\">Χορταστική κρύα σαλάτα με κριθαράκι και τόνο Αλοννήσου</a>\n",
              "</h2>\n",
              "<div class=\"rss-widget__summary\">\n",
              "<a class=\"publisher\" href=\"https://www.ow.gr/?utm_source=News247&amp;utm_medium=BestofNetwork_article&amp;utm_campaign=24MediaWidget&amp;utm_term=Pos14\" rel=\"noopener external nofollow\" target=\"_blank\" title=\"OW\">\n",
              "                            OW</a>\n",
              "</div>\n",
              "</article>\n",
              "</div>\n",
              "</section>\n",
              "<div class=\"rss-widget rss-widget_bestof \" data-gtm=\"unsetid-6125295\">\n",
              "<div class=\"rss-widget__content\">\n",
              "<article class=\"rss-widget__article article\" data-position=\"1\">\n",
              "<figure>\n",
              "<a class=\"article__image\" href=\"https://www.fortunegreece.com/photo-gallery/i-eteries-me-ta-megalitera-esoda-ston-kosmo/?utm_source=News247&amp;utm_medium=BestofNetwork_article&amp;utm_campaign=24MediaWidget&amp;utm_term=Pos15\" rel=\"noopener nofollow external\" target=\"_blank\" title=\"Οι εταιρείες με τα μεγαλύτερα έσοδα στον κόσμο\">\n",
              "<img alt=\"Οι εταιρείες με τα μεγαλύτερα έσοδα στον κόσμο\" src=\"https://www.contra.gr/img/app/9636277/880000/w460/460/fernandes-hongkong210807_npbqw.jpg\" title=\"Οι εταιρείες με τα μεγαλύτερα έσοδα στον κόσμο\"/>\n",
              "</a>\n",
              "</figure>\n",
              "<h2>\n",
              "<a href=\"https://www.fortunegreece.com/photo-gallery/i-eteries-me-ta-megalitera-esoda-ston-kosmo/?utm_source=News247&amp;utm_medium=BestofNetwork_article&amp;utm_campaign=24MediaWidget&amp;utm_term=Pos15\" rel=\"noopener nofollow external\" target=\"_blank\" title=\"Οι εταιρείες με τα μεγαλύτερα έσοδα στον κόσμο\">Οι εταιρείες με τα μεγαλύτερα έσοδα στον κόσμο</a>\n",
              "</h2>\n",
              "<div class=\"rss-widget__summary\">\n",
              "<a class=\"publisher\" href=\"javascript:void(0);\" rel=\"noopener nofollow external\" target=\"_blank\" title=\"FORTUNE\">\n",
              "\t\t\t\t    FORTUNE</a>\n",
              "</div>\n",
              "</article>\n",
              "</div>\n",
              "</div>\n",
              "</div>\n",
              "</div>"
            ]
          },
          "metadata": {},
          "execution_count": 15
        }
      ]
    },
    {
      "cell_type": "markdown",
      "source": [
        "Αυτή η επιλογή περιέχει το άρθρο αλλά και πολλά σκουπίδια. Πάντως μέσα σ' αυτό το div υπάρχει στο `<h1>` ο Τίτλος και στο `<h2>` το Lead."
      ],
      "metadata": {
        "id": "_Ispkzpw5lht"
      }
    },
    {
      "cell_type": "code",
      "source": [
        "# Title\n",
        "test_soup.find('div', {'class': 'article-body '}).find('h1').text "
      ],
      "metadata": {
        "colab": {
          "base_uri": "https://localhost:8080/",
          "height": 35
        },
        "id": "MmMtWzdY9C8Y",
        "outputId": "67195516-fb00-445f-89f2-aaac2ac946ea"
      },
      "execution_count": null,
      "outputs": [
        {
          "output_type": "execute_result",
          "data": {
            "text/plain": [
              "'\\r\\n\\t\\t\\t\\t\\tΕυλογιά των Πιθήκων: Πρώτο επιβεβαιωμένο κρούσμα και στη Γαλλία'"
            ],
            "application/vnd.google.colaboratory.intrinsic+json": {
              "type": "string"
            }
          },
          "metadata": {},
          "execution_count": 16
        }
      ]
    },
    {
      "cell_type": "markdown",
      "source": [
        "Βλέπω ότι ο Τίτλος έχει splitlines και tabs (\\r, \\n, \\t), τα οποία μπορώ να τα αφαιρώ."
      ],
      "metadata": {
        "id": "2tmxYBUh9Q6Z"
      }
    },
    {
      "cell_type": "code",
      "source": [
        "\"\".join(test_soup.find('div', {'class': 'article-body '}).find('h1').text.splitlines()).replace('\\t', '')"
      ],
      "metadata": {
        "colab": {
          "base_uri": "https://localhost:8080/",
          "height": 35
        },
        "id": "FTslR11J9wBC",
        "outputId": "528939a5-2762-4aea-cbf0-aed04815cef0"
      },
      "execution_count": null,
      "outputs": [
        {
          "output_type": "execute_result",
          "data": {
            "text/plain": [
              "'Ευλογιά των Πιθήκων: Πρώτο επιβεβαιωμένο κρούσμα και στη Γαλλία'"
            ],
            "application/vnd.google.colaboratory.intrinsic+json": {
              "type": "string"
            }
          },
          "metadata": {},
          "execution_count": 17
        }
      ]
    },
    {
      "cell_type": "code",
      "source": [
        "# Lead\n",
        "test_soup.find('div', {'class': 'article-body '}).find('h2').text "
      ],
      "metadata": {
        "colab": {
          "base_uri": "https://localhost:8080/",
          "height": 35
        },
        "id": "vCcme4PO-QxC",
        "outputId": "4cd60ebb-1378-4af5-9abc-ce666b59a4a8"
      },
      "execution_count": null,
      "outputs": [
        {
          "output_type": "execute_result",
          "data": {
            "text/plain": [
              "'Ακόμα μία χώρα στην οποία εντοπίστηκε το πρώτο κρούσμα της νέας νόσου. Παγκόσμια ανησυχία.'"
            ],
            "application/vnd.google.colaboratory.intrinsic+json": {
              "type": "string"
            }
          },
          "metadata": {},
          "execution_count": 18
        }
      ]
    },
    {
      "cell_type": "markdown",
      "source": [
        "Ψάχνοντας και δοκιμάζοντας με τον ίδιο τρόπο βρίσκω σε ποια tags είναι και τα υπόλοιπα στοιχεία του άρθρου που θέλω."
      ],
      "metadata": {
        "id": "cdhtzKoO-iUM"
      }
    },
    {
      "cell_type": "code",
      "source": [
        "# Section tag\n",
        "test_soup.find('div', {'class': 'article-head'}).find('a')['title']"
      ],
      "metadata": {
        "id": "heikzvehdrAo",
        "colab": {
          "base_uri": "https://localhost:8080/",
          "height": 35
        },
        "outputId": "b9c7fa7e-1473-4c52-b637-9bc818e16b19"
      },
      "execution_count": null,
      "outputs": [
        {
          "output_type": "execute_result",
          "data": {
            "text/plain": [
              "'Κόσμος'"
            ],
            "application/vnd.google.colaboratory.intrinsic+json": {
              "type": "string"
            }
          },
          "metadata": {},
          "execution_count": 19
        }
      ]
    },
    {
      "cell_type": "code",
      "source": [
        "# Picture alt text\n",
        "test_soup.find('figure', {'class': 'article-body__picture'}).find('img')['alt'] "
      ],
      "metadata": {
        "id": "-o-Oci-rekB1",
        "colab": {
          "base_uri": "https://localhost:8080/",
          "height": 35
        },
        "outputId": "3b9e4c4f-cdc2-4fcd-e7d3-31f969c3460f"
      },
      "execution_count": null,
      "outputs": [
        {
          "output_type": "execute_result",
          "data": {
            "text/plain": [
              "'Γιατροί σε εργαστήριο της Γαλλίας'"
            ],
            "application/vnd.google.colaboratory.intrinsic+json": {
              "type": "string"
            }
          },
          "metadata": {},
          "execution_count": 20
        }
      ]
    },
    {
      "cell_type": "code",
      "source": [
        "test_soup.find('figure', {'class': 'article-body__picture'}).find('img')['src'] # Picture url"
      ],
      "metadata": {
        "id": "8y4xbQMPf94B",
        "colab": {
          "base_uri": "https://localhost:8080/",
          "height": 35
        },
        "outputId": "e88f8464-bc71-4808-ce9c-77d3382033a1"
      },
      "execution_count": null,
      "outputs": [
        {
          "output_type": "execute_result",
          "data": {
            "text/plain": [
              "'https://www.news247.gr/img/4769/9637672/583000/w660/660/untitled_1.jpg'"
            ],
            "application/vnd.google.colaboratory.intrinsic+json": {
              "type": "string"
            }
          },
          "metadata": {},
          "execution_count": 21
        }
      ]
    },
    {
      "cell_type": "code",
      "source": [
        "# Editor\n",
        "test_soup.find('div', {'class': 'article-body__byline noeditor'}).find('a').text "
      ],
      "metadata": {
        "id": "9R4fC-s1hIH1",
        "colab": {
          "base_uri": "https://localhost:8080/",
          "height": 35
        },
        "outputId": "0fb53af2-140b-4ce9-be61-65666a1dd7a6"
      },
      "execution_count": null,
      "outputs": [
        {
          "output_type": "execute_result",
          "data": {
            "text/plain": [
              "'news247'"
            ],
            "application/vnd.google.colaboratory.intrinsic+json": {
              "type": "string"
            }
          },
          "metadata": {},
          "execution_count": 22
        }
      ]
    },
    {
      "cell_type": "code",
      "source": [
        "# Date\n",
        "test_soup.find('span', {'class': 'article-body__date'}).find('time')['datetime'] "
      ],
      "metadata": {
        "colab": {
          "base_uri": "https://localhost:8080/",
          "height": 35
        },
        "id": "C8UZKjaDh9IO",
        "outputId": "38d71c8a-018e-4d46-99df-8dc896e796c3"
      },
      "execution_count": null,
      "outputs": [
        {
          "output_type": "execute_result",
          "data": {
            "text/plain": [
              "'2022-05-20 12:12'"
            ],
            "application/vnd.google.colaboratory.intrinsic+json": {
              "type": "string"
            }
          },
          "metadata": {},
          "execution_count": 23
        }
      ]
    },
    {
      "cell_type": "markdown",
      "source": [
        "Πρόβλημα με το body (σώμα) του άρθρου."
      ],
      "metadata": {
        "id": "mmCM6M4RC1px"
      }
    },
    {
      "cell_type": "code",
      "source": [
        "# Paragraphs\n",
        "test_soup.find('div', {'class': 'article-body__body'}).find_all('p')"
      ],
      "metadata": {
        "id": "MPggv7hBioaa",
        "colab": {
          "base_uri": "https://localhost:8080/"
        },
        "outputId": "8e2324fa-bcbe-4808-d91d-0745f83cffb3"
      },
      "execution_count": null,
      "outputs": [
        {
          "output_type": "execute_result",
          "data": {
            "text/plain": [
              "[<p>Ένα πρώτο επιβεβαιωμένο κρούσμα της<a href=\"https://www.news247.gr/eylogia-ton-pithikon\" rel=\"Follow\" target=\"_self\"> ευλογιάς των πιθήκων</a> εντοπίστηκε χθες, Πέμπτη, στην περιφέρεια Ιλ-ντε-Φρανς, ανακοίνωσε σήμερα η Γενική Διεύθυνση Υγείας της <a href=\"https://www.news247.gr/gallia\" rel=\"Follow\" target=\"_self\">Γαλλίας</a>.</p>,\n",
              " <p>Πρόκειται για έναν άνδρα ηλικίας 29 ετών χωρίς προηγούμενο ταξιδιού σε χώρα όπου κυκλοφορεί ο ιός, διευκρίνισαν οι υγειονομικές αρχές.</p>,\n",
              " <p>Αφότου θεωρήθηκε ότι μπορεί να είχε μολυνθεί, έλαβε ιατρική φροντίδα και, καθώς η κατάστασή του δεν είναι σοβαρή, έχει τεθεί σε απομόνωση στο σπίτι του.</p>,\n",
              " <p>Δεύτερο κρούσμα ευλογιάς των πιθήκων καταγράφηκε στο Βέλγιο, σύμφωνα με τον ιολόγο Μαρκ Βαν Ρανστ.</p>,\n",
              " <p>\"Δεύτερο κρούσμα διαγνώστηκε χθες (Πέμπτη) το βράδυ στο εργαστήριό μας στο Λουβέν σε δείγμα άνδρα από την περιφέρεια της Φλαμανδικής Μπραμπάντ\", ανέφερε ο Μαρκ Βαν Ρανστ. Το πρώτο κρούσμα είχε εντοπιστεί στην Αμβέρσα.</p>,\n",
              " <p><i><b>Ακολουθήστε το <a href=\"https://news.google.com/publications/CAAiEPBbzilxLAOqHZhOPBpiQF8qFAgKIhDwW84pcSwDqh2YTjwaYkBf?oc=3&amp;ceid=GR:el\">News247.gr στο Google News </a>και μάθετε πρώτοι όλες τις <a href=\"https://www.news247.gr/\" rel=\"Follow\" target=\"_self\">ειδήσεις</a></b></i></p>]"
            ]
          },
          "metadata": {},
          "execution_count": 27
        }
      ]
    },
    {
      "cell_type": "markdown",
      "source": [
        "**Παρατήρηση**:\n",
        "\n",
        "Όπως φαίνεται στο άρθρο στον browser (https://www.news247.gr/kosmos/eylogia-ton-pithikon-proto-epivevaiomeno-kroysma-kai-sti-gallia.9637679.html), ανάμεσα στις παραγράφους, υπάρχει κι ένας υπότιτλος (`<h2>`). Αν τον πάρω μόνο του δεν θα τον έχω μέσα στη ροή του κειμένου.\n",
        "\n",
        "Mπορώ όμως με το find_all, να ζητήσω ταυτόχρονα τα `<p>` και τα `<h2>`."
      ],
      "metadata": {
        "id": "pf6q4P5CApmQ"
      }
    },
    {
      "cell_type": "code",
      "source": [
        "test_soup.find('div', {'class': 'article-body__body'}).find_all(['p', 'h2'])"
      ],
      "metadata": {
        "colab": {
          "base_uri": "https://localhost:8080/"
        },
        "id": "HEW51ryvCzMg",
        "outputId": "fc2dbb7c-e94f-41e7-db0d-38593d54354c"
      },
      "execution_count": null,
      "outputs": [
        {
          "output_type": "execute_result",
          "data": {
            "text/plain": [
              "[<p>Ένα πρώτο επιβεβαιωμένο κρούσμα της<a href=\"https://www.news247.gr/eylogia-ton-pithikon\" rel=\"Follow\" target=\"_self\"> ευλογιάς των πιθήκων</a> εντοπίστηκε χθες, Πέμπτη, στην περιφέρεια Ιλ-ντε-Φρανς, ανακοίνωσε σήμερα η Γενική Διεύθυνση Υγείας της <a href=\"https://www.news247.gr/gallia\" rel=\"Follow\" target=\"_self\">Γαλλίας</a>.</p>,\n",
              " <p>Πρόκειται για έναν άνδρα ηλικίας 29 ετών χωρίς προηγούμενο ταξιδιού σε χώρα όπου κυκλοφορεί ο ιός, διευκρίνισαν οι υγειονομικές αρχές.</p>,\n",
              " <p>Αφότου θεωρήθηκε ότι μπορεί να είχε μολυνθεί, έλαβε ιατρική φροντίδα και, καθώς η κατάστασή του δεν είναι σοβαρή, έχει τεθεί σε απομόνωση στο σπίτι του.</p>,\n",
              " <h2>Δεύτερο κρούσμα στο Βέλγιο</h2>,\n",
              " <p>Δεύτερο κρούσμα ευλογιάς των πιθήκων καταγράφηκε στο Βέλγιο, σύμφωνα με τον ιολόγο Μαρκ Βαν Ρανστ.</p>,\n",
              " <p>\"Δεύτερο κρούσμα διαγνώστηκε χθες (Πέμπτη) το βράδυ στο εργαστήριό μας στο Λουβέν σε δείγμα άνδρα από την περιφέρεια της Φλαμανδικής Μπραμπάντ\", ανέφερε ο Μαρκ Βαν Ρανστ. Το πρώτο κρούσμα είχε εντοπιστεί στην Αμβέρσα.</p>,\n",
              " <p><i><b>Ακολουθήστε το <a href=\"https://news.google.com/publications/CAAiEPBbzilxLAOqHZhOPBpiQF8qFAgKIhDwW84pcSwDqh2YTjwaYkBf?oc=3&amp;ceid=GR:el\">News247.gr στο Google News </a>και μάθετε πρώτοι όλες τις <a href=\"https://www.news247.gr/\" rel=\"Follow\" target=\"_self\">ειδήσεις</a></b></i></p>]"
            ]
          },
          "metadata": {},
          "execution_count": 33
        }
      ]
    },
    {
      "cell_type": "markdown",
      "source": [
        "Με το find_all παίρνω μια λίστα με όλες τις παραγράφους και τους υπότιτλους. Αφού εγώ θέλω όλο το body σαν ένα string, μπορώ να συνενώσω όλα τα στοιχεία.\n",
        "\n",
        "Πρώτα όμως πρέπει να πάρω μόνο το text.\n",
        "\n",
        "Επίσης, παρατηρώ ότι το τελευταίο p είναι άσχετο με το άρθρο και επιβεβαιώνω επισκοπώντας και άλλες σελίδες άρθρων στον browser ότι αυτό ισχύει για όλα τα άρθρα. Άρα μπορώ να πετάω το τελευταίο `<p>`."
      ],
      "metadata": {
        "id": "9MpLnJPLEr0F"
      }
    },
    {
      "cell_type": "code",
      "source": [
        "# Μάζεμα του text όλων των p και h2 σε μία λίστα\n",
        "test_body = []\n",
        "for p in test_soup.find('div', {'class': 'article-body__storyContent '}).find_all('p'):\n",
        "  test_p_text = p.text\n",
        "  test_body.append(test_p_text)\n",
        "test_body[:-1]"
      ],
      "metadata": {
        "colab": {
          "base_uri": "https://localhost:8080/"
        },
        "id": "LrTP0-xQFKUN",
        "outputId": "0574be6d-dde9-4399-cde1-627dec32938f"
      },
      "execution_count": null,
      "outputs": [
        {
          "output_type": "execute_result",
          "data": {
            "text/plain": [
              "['Ένα πρώτο επιβεβαιωμένο κρούσμα της ευλογιάς των πιθήκων εντοπίστηκε χθες, Πέμπτη, στην περιφέρεια Ιλ-ντε-Φρανς, ανακοίνωσε σήμερα η Γενική Διεύθυνση Υγείας της Γαλλίας.',\n",
              " 'Πρόκειται για έναν άνδρα ηλικίας 29 ετών χωρίς προηγούμενο ταξιδιού σε χώρα όπου κυκλοφορεί ο ιός, διευκρίνισαν οι υγειονομικές αρχές.',\n",
              " 'Αφότου θεωρήθηκε ότι μπορεί να είχε μολυνθεί, έλαβε ιατρική φροντίδα και, καθώς η κατάστασή του δεν είναι σοβαρή, έχει τεθεί σε απομόνωση στο σπίτι του.',\n",
              " 'Δεύτερο κρούσμα ευλογιάς των πιθήκων καταγράφηκε στο Βέλγιο, σύμφωνα με τον ιολόγο Μαρκ Βαν Ρανστ.',\n",
              " '\"Δεύτερο κρούσμα διαγνώστηκε χθες (Πέμπτη) το βράδυ στο εργαστήριό μας στο Λουβέν σε δείγμα άνδρα από την περιφέρεια της Φλαμανδικής Μπραμπάντ\", ανέφερε ο Μαρκ Βαν Ρανστ. Το πρώτο κρούσμα είχε εντοπιστεί στην Αμβέρσα.']"
            ]
          },
          "metadata": {},
          "execution_count": 36
        }
      ]
    },
    {
      "cell_type": "code",
      "source": [
        "# Συνένωση των μεμονωμένων στοιχείων του κειμένου σε ένα string και μετατροπή του τυχόν διπλού κενού που μπορεί να δημιουργείται σε κάποιες περιπτώσεις\n",
        "test_body_text = ' '.join(test_body[:-1]).replace(\"  \", \" \")\n",
        "test_body_text"
      ],
      "metadata": {
        "colab": {
          "base_uri": "https://localhost:8080/",
          "height": 105
        },
        "id": "MyqOi_HYGqZC",
        "outputId": "fe093f3d-f24c-45f4-916d-1103a5ffb4dc"
      },
      "execution_count": null,
      "outputs": [
        {
          "output_type": "execute_result",
          "data": {
            "text/plain": [
              "'Ένα πρώτο επιβεβαιωμένο κρούσμα της ευλογιάς των πιθήκων εντοπίστηκε χθες, Πέμπτη, στην περιφέρεια Ιλ-ντε-Φρανς, ανακοίνωσε σήμερα η Γενική Διεύθυνση Υγείας της Γαλλίας. Πρόκειται για έναν άνδρα ηλικίας 29 ετών χωρίς προηγούμενο ταξιδιού σε χώρα όπου κυκλοφορεί ο ιός, διευκρίνισαν οι υγειονομικές αρχές. Αφότου θεωρήθηκε ότι μπορεί να είχε μολυνθεί, έλαβε ιατρική φροντίδα και, καθώς η κατάστασή του δεν είναι σοβαρή, έχει τεθεί σε απομόνωση στο σπίτι του. Δεύτερο κρούσμα ευλογιάς των πιθήκων καταγράφηκε στο Βέλγιο, σύμφωνα με τον ιολόγο Μαρκ Βαν Ρανστ. \"Δεύτερο κρούσμα διαγνώστηκε χθες (Πέμπτη) το βράδυ στο εργαστήριό μας στο Λουβέν σε δείγμα άνδρα από την περιφέρεια της Φλαμανδικής Μπραμπάντ\", ανέφερε ο Μαρκ Βαν Ρανστ. Το πρώτο κρούσμα είχε εντοπιστεί στην Αμβέρσα.'"
            ],
            "application/vnd.google.colaboratory.intrinsic+json": {
              "type": "string"
            }
          },
          "metadata": {},
          "execution_count": 38
        }
      ]
    },
    {
      "cell_type": "markdown",
      "source": [
        "####6. Κατέβασμα των html όλων των σελίδων των ολόκληρων άρθρων\n"
      ],
      "metadata": {
        "id": "eTXDR1CZxZxf"
      }
    },
    {
      "cell_type": "markdown",
      "source": [
        "Όπως είπαμε παραπάνω, τα urls των άρθρων που θέλουμε να κατεβάσουμε βρίσκονται στη στήλη 'Url' του dataframe news247_latest_teaser_articles_df"
      ],
      "metadata": {
        "id": "ypiQ5dY3JFis"
      }
    },
    {
      "cell_type": "code",
      "source": [
        "# Κάνω πρώτα μια δοκιμή με τα πρώτα 5  urls\n",
        "full_soups_list = [] # δημιουργία κενής λίστας για την αποθήκευση όλων των html των ολόκληρων άρθρων\n",
        "nbr = 0 # βάζω αρίθμηση για να παρακολουθώ το scraping\n",
        "\n",
        "for article_url in news247_latest_teaser_articles_df['Url'][:5]: \n",
        "  nbr += 1 \n",
        "  full_response = requests.get(article_url) \n",
        "  full_soup = BeautifulSoup(full_response.text, 'html.parser')\n",
        "  full_soups_list.append(full_soup)\n",
        "  time.sleep(2)\n",
        "  print(f'Scraping article {nbr}')"
      ],
      "metadata": {
        "colab": {
          "base_uri": "https://localhost:8080/"
        },
        "id": "l4Mw-246IYuW",
        "outputId": "64a0449d-95f1-44a6-cd8c-63ce98cb5ec6"
      },
      "execution_count": null,
      "outputs": [
        {
          "output_type": "stream",
          "name": "stdout",
          "text": [
            "Scraping article 1\n",
            "Scraping article 2\n",
            "Scraping article 3\n",
            "Scraping article 4\n",
            "Scraping article 5\n"
          ]
        }
      ]
    },
    {
      "cell_type": "markdown",
      "source": [
        "Εφόσον δουλεύει, μπορώ να τα κατεβάσω όλα"
      ],
      "metadata": {
        "id": "5dMEW2HvLMfO"
      }
    },
    {
      "cell_type": "code",
      "source": [
        "full_soups_list = [] \n",
        "nbr = 0 \n",
        "\n",
        "for article_url in news247_latest_teaser_articles_df['Url']: \n",
        "  nbr += 1 \n",
        "  full_response = requests.get(article_url) \n",
        "  full_soup = BeautifulSoup(full_response.text, 'html.parser')\n",
        "  full_soups_list.append(full_soup)\n",
        "  time.sleep(2)\n",
        "  print(f'Scraping article {nbr}')"
      ],
      "metadata": {
        "colab": {
          "base_uri": "https://localhost:8080/"
        },
        "id": "9Kqi63GcLvsR",
        "outputId": "1877afcb-e67b-4bdf-ae06-2de7007a242f"
      },
      "execution_count": null,
      "outputs": [
        {
          "output_type": "stream",
          "name": "stdout",
          "text": [
            "Scraping article 1\n",
            "Scraping article 2\n",
            "Scraping article 3\n",
            "Scraping article 4\n",
            "Scraping article 5\n",
            "Scraping article 6\n",
            "Scraping article 7\n",
            "Scraping article 8\n",
            "Scraping article 9\n",
            "Scraping article 10\n",
            "Scraping article 11\n",
            "Scraping article 12\n",
            "Scraping article 13\n",
            "Scraping article 14\n",
            "Scraping article 15\n",
            "Scraping article 16\n",
            "Scraping article 17\n",
            "Scraping article 18\n",
            "Scraping article 19\n",
            "Scraping article 20\n",
            "Scraping article 21\n",
            "Scraping article 22\n",
            "Scraping article 23\n",
            "Scraping article 24\n",
            "Scraping article 25\n",
            "Scraping article 26\n",
            "Scraping article 27\n",
            "Scraping article 28\n",
            "Scraping article 29\n",
            "Scraping article 30\n",
            "Scraping article 31\n",
            "Scraping article 32\n",
            "Scraping article 33\n",
            "Scraping article 34\n",
            "Scraping article 35\n",
            "Scraping article 36\n",
            "Scraping article 37\n",
            "Scraping article 38\n",
            "Scraping article 39\n",
            "Scraping article 40\n",
            "Scraping article 41\n",
            "Scraping article 42\n",
            "Scraping article 43\n",
            "Scraping article 44\n",
            "Scraping article 45\n",
            "Scraping article 46\n",
            "Scraping article 47\n",
            "Scraping article 48\n",
            "Scraping article 49\n",
            "Scraping article 50\n",
            "Scraping article 51\n",
            "Scraping article 52\n",
            "Scraping article 53\n",
            "Scraping article 54\n",
            "Scraping article 55\n",
            "Scraping article 56\n",
            "Scraping article 57\n",
            "Scraping article 58\n",
            "Scraping article 59\n",
            "Scraping article 60\n",
            "Scraping article 61\n",
            "Scraping article 62\n",
            "Scraping article 63\n",
            "Scraping article 64\n",
            "Scraping article 65\n",
            "Scraping article 66\n",
            "Scraping article 67\n",
            "Scraping article 68\n",
            "Scraping article 69\n",
            "Scraping article 70\n",
            "Scraping article 71\n",
            "Scraping article 72\n",
            "Scraping article 73\n",
            "Scraping article 74\n",
            "Scraping article 75\n",
            "Scraping article 76\n",
            "Scraping article 77\n",
            "Scraping article 78\n",
            "Scraping article 79\n",
            "Scraping article 80\n",
            "Scraping article 81\n",
            "Scraping article 82\n",
            "Scraping article 83\n",
            "Scraping article 84\n",
            "Scraping article 85\n",
            "Scraping article 86\n",
            "Scraping article 87\n",
            "Scraping article 88\n",
            "Scraping article 89\n",
            "Scraping article 90\n",
            "Scraping article 91\n",
            "Scraping article 92\n",
            "Scraping article 93\n",
            "Scraping article 94\n",
            "Scraping article 95\n",
            "Scraping article 96\n",
            "Scraping article 97\n",
            "Scraping article 98\n",
            "Scraping article 99\n",
            "Scraping article 100\n",
            "Scraping article 101\n",
            "Scraping article 102\n",
            "Scraping article 103\n",
            "Scraping article 104\n",
            "Scraping article 105\n",
            "Scraping article 106\n",
            "Scraping article 107\n",
            "Scraping article 108\n",
            "Scraping article 109\n",
            "Scraping article 110\n",
            "Scraping article 111\n",
            "Scraping article 112\n",
            "Scraping article 113\n",
            "Scraping article 114\n",
            "Scraping article 115\n",
            "Scraping article 116\n",
            "Scraping article 117\n",
            "Scraping article 118\n",
            "Scraping article 119\n",
            "Scraping article 120\n",
            "Scraping article 121\n",
            "Scraping article 122\n",
            "Scraping article 123\n",
            "Scraping article 124\n",
            "Scraping article 125\n",
            "Scraping article 126\n",
            "Scraping article 127\n",
            "Scraping article 128\n",
            "Scraping article 129\n",
            "Scraping article 130\n",
            "Scraping article 131\n",
            "Scraping article 132\n",
            "Scraping article 133\n",
            "Scraping article 134\n",
            "Scraping article 135\n",
            "Scraping article 136\n",
            "Scraping article 137\n",
            "Scraping article 138\n",
            "Scraping article 139\n",
            "Scraping article 140\n",
            "Scraping article 141\n",
            "Scraping article 142\n",
            "Scraping article 143\n",
            "Scraping article 144\n",
            "Scraping article 145\n",
            "Scraping article 146\n",
            "Scraping article 147\n",
            "Scraping article 148\n",
            "Scraping article 149\n",
            "Scraping article 150\n",
            "Scraping article 151\n",
            "Scraping article 152\n",
            "Scraping article 153\n",
            "Scraping article 154\n",
            "Scraping article 155\n",
            "Scraping article 156\n",
            "Scraping article 157\n",
            "Scraping article 158\n",
            "Scraping article 159\n",
            "Scraping article 160\n",
            "Scraping article 161\n",
            "Scraping article 162\n",
            "Scraping article 163\n",
            "Scraping article 164\n",
            "Scraping article 165\n",
            "Scraping article 166\n",
            "Scraping article 167\n",
            "Scraping article 168\n",
            "Scraping article 169\n",
            "Scraping article 170\n",
            "Scraping article 171\n",
            "Scraping article 172\n",
            "Scraping article 173\n",
            "Scraping article 174\n",
            "Scraping article 175\n",
            "Scraping article 176\n",
            "Scraping article 177\n",
            "Scraping article 178\n",
            "Scraping article 179\n",
            "Scraping article 180\n",
            "Scraping article 181\n",
            "Scraping article 182\n",
            "Scraping article 183\n",
            "Scraping article 184\n",
            "Scraping article 185\n",
            "Scraping article 186\n",
            "Scraping article 187\n",
            "Scraping article 188\n",
            "Scraping article 189\n",
            "Scraping article 190\n",
            "Scraping article 191\n",
            "Scraping article 192\n",
            "Scraping article 193\n",
            "Scraping article 194\n",
            "Scraping article 195\n",
            "Scraping article 196\n",
            "Scraping article 197\n",
            "Scraping article 198\n",
            "Scraping article 199\n",
            "Scraping article 200\n"
          ]
        }
      ]
    },
    {
      "cell_type": "markdown",
      "source": [
        "####Συλλογή όλων των δεδομένων των άρθρων (Τίτλος, εικόνα [alt και src], section, lead, body και author)"
      ],
      "metadata": {
        "id": "dZRGR_V8ILUG"
      }
    },
    {
      "cell_type": "markdown",
      "source": [
        "**Title**\n",
        "\n",
        "test_soup.find('div', {'class': 'article-body '}).find('h1').text \n",
        "\n",
        "\"\".join(test_soup.find('div', {'class': 'article-body '}).find('h1').text.splitlines()).replace('\\t', '')\n",
        "\n",
        "**Lead**\n",
        "\n",
        "test_soup.find('div', {'class': 'article-body '}).find('h2').text \n",
        "\n",
        "**Section tag**\n",
        "\n",
        "test_soup.find('div', {'class': 'article-head'}).find('a')['title']\n",
        "\n",
        "**Picture alt text**\n",
        "\n",
        "test_soup.find('figure', {'class': 'article-body__picture'}).find('img')['alt']\n",
        "\n",
        "**Picture url**\n",
        "\n",
        "test_soup.find('figure', {'class': 'article-body__picture'}).find('img')['src']\n",
        "\n",
        "**Editor**\n",
        "\n",
        "test_soup.find('div', {'class': 'article-body__byline noeditor'}).find('a').text \n",
        "\n",
        "**Date**\n",
        "test_soup.find('span', {'class': 'article-body__date'}).find('time')['datetime'] \n",
        "\n"
      ],
      "metadata": {
        "id": "thDvOWV-NCo-"
      }
    },
    {
      "cell_type": "code",
      "source": [
        "# Μάζεμα των δεδομένων του άρθρου\n",
        "full_articles_list = []\n",
        "nbr = 0 # Δημιουργώ αρίθμηση ώστε παραπέμποντας στο index του news247_latest_teaser_articles_df, να φέρνω και το αντίστοιχο url του άρθρου\n",
        "for soup in full_soups_list:\n",
        "  print(f\"working on article {news247_latest_teaser_articles_df.iloc[[int(nbr)]]['Url'].item()}\") # τυπώνω το url του άρθρου για να το επισκοπήσω αν τυχόν βαρέσει ο κώδικας\n",
        "  full_article_dict = {} # δημιουργία κενού λεξικού για την αποθήκευση των δεδομένων κάθε ιστορίας-άρθρου\n",
        "  title = soup.find('div', {'class': 'article-body '}).find('h1') # Title\n",
        "  if title:\n",
        "    full_article_dict['Title'] = \"\".join(title.text.splitlines()).replace('\\t', '')\n",
        "  full_article_dict['Article url'] = news247_latest_teaser_articles_df.iloc[[int(nbr)]]['Url'].item() # το Url του άρθρου\n",
        "  section = soup.find('div', {'class': 'article-head'}).find('a') # Section\n",
        "  if section:\n",
        "    full_article_dict['Section'] = section['title']\n",
        "  image = soup.find('figure', {'class': 'article-body__picture'}) # Image\n",
        "  if image:\n",
        "    full_article_dict['Image alt text'] = image.find('img')['alt'] \n",
        "    full_article_dict['Image url'] = image.find('img')['src']\n",
        "  lead = soup.find('div', {'class': 'article-body '}).find('h2') # Lead\n",
        "  if lead:\n",
        "    full_article_dict['Lead'] = \"\".join(lead.text.splitlines())\n",
        "  editor = soup.find('div', {'class': 'article-body__byline noeditor'}).find('a') # Editor\n",
        "  if editor:\n",
        "    full_article_dict['Editor'] = editor.text\n",
        "  time = soup.find('span', {'class': 'article-body__date'}) # Date\n",
        "  if time:\n",
        "    full_article_dict['Datetime'] = time.find('time')['datetime']\n",
        "  body = []\n",
        "  for p in soup.find('div', {'class': 'article-body__storyContent '}).find_all('p'): # Body\n",
        "    p_text = p.text\n",
        "    if p_text:\n",
        "      body.append(p_text)\n",
        "      body_text = ' '.join(body[:-1]).replace(\"  \", \" \")\n",
        "      body_text = \"\".join(body_text.splitlines())\n",
        "      full_article_dict['Body'] = body_text\n",
        "  full_articles_list.append(full_article_dict)\n",
        "  nbr += 1"
      ],
      "metadata": {
        "colab": {
          "base_uri": "https://localhost:8080/",
          "height": 270
        },
        "id": "0lbAJMagRVuj",
        "outputId": "f900d279-0fa7-489e-fcb5-dac1c7276006"
      },
      "execution_count": null,
      "outputs": [
        {
          "output_type": "stream",
          "name": "stdout",
          "text": [
            "working on article https://www.news247.gr/kosmos/eylogia-ton-pithikon-proto-epivevaiomeno-kroysma-kai-sti-gallia.9637679.html\n",
            "working on article https://www.news247.gr/politismos/theatro/o-oylrich-rase-stin-epidayro-giati-oi-parastaseis-toy-thymizoyn-laiko-proskynima-se-techno-club.9637610.html\n"
          ]
        },
        {
          "output_type": "error",
          "ename": "AttributeError",
          "evalue": "ignored",
          "traceback": [
            "\u001b[0;31m---------------------------------------------------------------------------\u001b[0m",
            "\u001b[0;31mAttributeError\u001b[0m                            Traceback (most recent call last)",
            "\u001b[0;32m<ipython-input-44-796758901c1c>\u001b[0m in \u001b[0;36m<module>\u001b[0;34m()\u001b[0m\n\u001b[1;32m     19\u001b[0m   \u001b[0;32mif\u001b[0m \u001b[0mlead\u001b[0m\u001b[0;34m:\u001b[0m\u001b[0;34m\u001b[0m\u001b[0;34m\u001b[0m\u001b[0m\n\u001b[1;32m     20\u001b[0m     \u001b[0mfull_article_dict\u001b[0m\u001b[0;34m[\u001b[0m\u001b[0;34m'Lead'\u001b[0m\u001b[0;34m]\u001b[0m \u001b[0;34m=\u001b[0m \u001b[0;34m\"\"\u001b[0m\u001b[0;34m.\u001b[0m\u001b[0mjoin\u001b[0m\u001b[0;34m(\u001b[0m\u001b[0mlead\u001b[0m\u001b[0;34m.\u001b[0m\u001b[0mtext\u001b[0m\u001b[0;34m.\u001b[0m\u001b[0msplitlines\u001b[0m\u001b[0;34m(\u001b[0m\u001b[0;34m)\u001b[0m\u001b[0;34m)\u001b[0m\u001b[0;34m\u001b[0m\u001b[0;34m\u001b[0m\u001b[0m\n\u001b[0;32m---> 21\u001b[0;31m   \u001b[0meditor\u001b[0m \u001b[0;34m=\u001b[0m \u001b[0msoup\u001b[0m\u001b[0;34m.\u001b[0m\u001b[0mfind\u001b[0m\u001b[0;34m(\u001b[0m\u001b[0;34m'div'\u001b[0m\u001b[0;34m,\u001b[0m \u001b[0;34m{\u001b[0m\u001b[0;34m'class'\u001b[0m\u001b[0;34m:\u001b[0m \u001b[0;34m'article-body__byline noeditor'\u001b[0m\u001b[0;34m}\u001b[0m\u001b[0;34m)\u001b[0m\u001b[0;34m.\u001b[0m\u001b[0mfind\u001b[0m\u001b[0;34m(\u001b[0m\u001b[0;34m'a'\u001b[0m\u001b[0;34m)\u001b[0m \u001b[0;31m# Editor\u001b[0m\u001b[0;34m\u001b[0m\u001b[0;34m\u001b[0m\u001b[0m\n\u001b[0m\u001b[1;32m     22\u001b[0m   \u001b[0;32mif\u001b[0m \u001b[0meditor\u001b[0m\u001b[0;34m:\u001b[0m\u001b[0;34m\u001b[0m\u001b[0;34m\u001b[0m\u001b[0m\n\u001b[1;32m     23\u001b[0m     \u001b[0mfull_article_dict\u001b[0m\u001b[0;34m[\u001b[0m\u001b[0;34m'Editor'\u001b[0m\u001b[0;34m]\u001b[0m \u001b[0;34m=\u001b[0m \u001b[0meditor\u001b[0m\u001b[0;34m.\u001b[0m\u001b[0mtext\u001b[0m\u001b[0;34m\u001b[0m\u001b[0;34m\u001b[0m\u001b[0m\n",
            "\u001b[0;31mAttributeError\u001b[0m: 'NoneType' object has no attribute 'find'"
          ]
        }
      ]
    },
    {
      "cell_type": "markdown",
      "source": [
        "Ο κώδικας χτυπάει στον Editor, στο 2ο άρθρο. Ανοίγω το url στον browser και βλέπω ότι εδώ υπάρχει το όνομα του αρθρογράφου (αντί για το σύνηθες news247), το οποίο έχει άλλο class. \n",
        "\n",
        "Επιπλέον, σκέφτομαι ότι το news247 σαν όνομα Editor, δεν το χρειάζομαι.\n",
        "\n",
        "Επομένως, διορθώνω τον κώδικα καταγράφοντας μόνο τον Author αν υπάρχει και ξαναδοκιμάζω."
      ],
      "metadata": {
        "id": "Bega37BgRs8s"
      }
    },
    {
      "cell_type": "code",
      "source": [
        "# Μάζεμα των δεδομένων του άρθρου\n",
        "full_articles_list = []\n",
        "nbr = 0 # Δημιουργώ αρίθμηση ώστε παραπέμποντας στο index του news247_latest_teaser_articles_df, να φέρνω και το αντίστοιχο url του άρθρου\n",
        "for soup in full_soups_list:\n",
        "  print(f\"working on article {news247_latest_teaser_articles_df.iloc[[int(nbr)]]['Url'].item()}\")\n",
        "  full_article_dict = {} # δημιουργία κενού λεξικού για την αποθήκευση των δεδομένων κάθε ιστορίας-άρθρου\n",
        "  title = soup.find('div', {'class': 'article-body '}).find('h1') # Title\n",
        "  if title:\n",
        "    full_article_dict['Title'] = \"\".join(title.text.splitlines()).replace('\\t', '')\n",
        "  full_article_dict['Article url'] = news247_latest_teaser_articles_df.iloc[[int(nbr)]]['Url'].item() # το Url του άρθρου\n",
        "  section = soup.find('div', {'class': 'article-head'}).find('a') # Section\n",
        "  if section:\n",
        "    full_article_dict['Section'] = section['title']\n",
        "  image = soup.find('figure', {'class': 'article-body__picture'}) # Image\n",
        "  if image:\n",
        "    full_article_dict['Image alt text'] = image.find('img')['alt'] \n",
        "    full_article_dict['Image url'] = image.find('img')['src']\n",
        "  lead = soup.find('div', {'class': 'article-body '}).find('h2') # Lead\n",
        "  if lead:\n",
        "    full_article_dict['Lead'] = \"\".join(lead.text.splitlines())\n",
        "  author = soup.find('div', {'class': 'article-body__author-name'}) # Author\n",
        "  if author:\n",
        "    full_article_dict['Author'] = \"\".join(author.text.splitlines())\n",
        "  time = soup.find('span', {'class': 'article-body__date'}) # Date\n",
        "  if time:\n",
        "    full_article_dict['Datetime'] = time.find('time')['datetime']\n",
        "  body = []\n",
        "  for p in soup.find('div', {'class': 'article-body__storyContent '}).find_all('p'): # Body\n",
        "    p_text = p.text\n",
        "    if p_text:\n",
        "      body.append(p_text)\n",
        "      body_text = ' '.join(body[:-1]).replace(\"  \", \" \")\n",
        "      body_text = \"\".join(body_text.splitlines())\n",
        "      full_article_dict['Body'] = body_text\n",
        "  full_articles_list.append(full_article_dict)\n",
        "  nbr += 1"
      ],
      "metadata": {
        "id": "7hhzgZLZUNbL"
      },
      "execution_count": null,
      "outputs": []
    },
    {
      "cell_type": "markdown",
      "source": [
        "Όλα φαίνεται ότι πήγαν καλά, οπότε φτιάχνω το dataframe από το full_articles_list και το επισκοπώ"
      ],
      "metadata": {
        "id": "jbf0Szr9WhOh"
      }
    },
    {
      "cell_type": "code",
      "source": [
        "# Δημιουργία του dataframe\n",
        "news247_latest_full_articles_df = pd.DataFrame(full_articles_list)\n",
        "news247_latest_full_articles_df"
      ],
      "metadata": {
        "colab": {
          "base_uri": "https://localhost:8080/",
          "height": 988
        },
        "id": "Jy6h1z5GWgNQ",
        "outputId": "58cb202d-736d-48e1-de13-76b70c6b04b9"
      },
      "execution_count": null,
      "outputs": [
        {
          "output_type": "execute_result",
          "data": {
            "text/plain": [
              "                                                 Title  \\\n",
              "0    Ευλογιά των Πιθήκων: Πρώτο επιβεβαιωμένο κρούσ...   \n",
              "1    Ο Ούλριχ Ράσε στην Επίδαυρο: Γιατί οι παραστάσ...   \n",
              "2    Δίκη Τοπαλούδη: Κανένα ελαφρυντικό για τους δο...   \n",
              "3    Θυμίζεις κάτι από Πρέβελη: Το άγνωστο φοινικόδ...   \n",
              "4    Ρέθυμνο: Επίθεση στο γραμματέα του Δικτύου Φοι...   \n",
              "..                                                 ...   \n",
              "195  Survivor Trailer: Χάος στην παραλία - Ποιος απ...   \n",
              "196  Τροχαίο ατύχημα με τρία αυτοκίνητα και τρεις τ...   \n",
              "197  Σκύδρα: Στο Ιπποκράτειο 7χρονος - Έπεσε επάνω ...   \n",
              "198  Τζορτζ Μπους: \"Αδικαιολόγητη και βάναυση η εισ...   \n",
              "199  Πόλεμος στην Ουκρανία: Συνεχίζεται το σφυροκόπ...   \n",
              "\n",
              "                                           Article url    Section  \\\n",
              "0    https://www.news247.gr/kosmos/eylogia-ton-pith...     Κόσμος   \n",
              "1    https://www.news247.gr/politismos/theatro/o-oy...     Θέατρο   \n",
              "2    https://www.news247.gr/koinonia/diki-topaloydi...   Κοινωνία   \n",
              "3    https://www.news247.gr/taxidi/thymizeis-kati-a...     Ταξίδι   \n",
              "4    https://www.news247.gr/koinonia/rethymno-epith...   Κοινωνία   \n",
              "..                                                 ...        ...   \n",
              "195  https://www.news247.gr/psixagogia/tileorasi/su...  Τηλεόραση   \n",
              "196  https://www.news247.gr/koinonia/trochaio-atych...   Κοινωνία   \n",
              "197  https://www.news247.gr/koinonia/skydra-sto-ipp...   Κοινωνία   \n",
              "198  https://www.news247.gr/kosmos/gkafa-olkis-o-tz...     Κόσμος   \n",
              "199  https://www.news247.gr/kosmos/oykrania-dekades...     Κόσμος   \n",
              "\n",
              "                                        Image alt text  \\\n",
              "0                    Γιατροί σε εργαστήριο της Γαλλίας   \n",
              "1                   Ο Γερμανός σκηνοθέτης, Ούλριχ Ράσε   \n",
              "2    Οι δύο κατηγορούμενοι για τη δολοφονία και το ...   \n",
              "3                  Το άγνωστο φοινικόδασος της Αττικής   \n",
              "4    Ρέθυμνο: Επίθεση στο γραμματέα του Δικτύου Φοι...   \n",
              "..                                                 ...   \n",
              "195  Στιγμιότυπο από το Συμβούλιο του Νησιού του Su...   \n",
              "196                                Ασθενοφόρο του ΕΚΑΒ   \n",
              "197             Το Ιπποκράτειο Νοσοκομείο Θεσσαλονίκης   \n",
              "198                             Ο Τζορτζ Ουόκερ Μπους    \n",
              "199             Ουκρανοί στρατιώτες ανάμεσα σε ερείπια   \n",
              "\n",
              "                                             Image url  \\\n",
              "0    https://www.news247.gr/img/4769/9637672/583000...   \n",
              "1    https://www.news247.gr/img/752/9637612/600000/...   \n",
              "2    https://www.news247.gr/img/36/9637565/787000/w...   \n",
              "3    https://www.news247.gr/img/6760/9637609/291000...   \n",
              "4    https://www.news247.gr/img/9061/9637620/890000...   \n",
              "..                                                 ...   \n",
              "195  https://www.news247.gr/img/6139/9635912/679000...   \n",
              "196  https://www.news247.gr/img/9585/9629015/814000...   \n",
              "197  https://www.news247.gr/img/6906/9558439/146000...   \n",
              "198  https://www.news247.gr/img/9619/9635890/302000...   \n",
              "199  https://www.news247.gr/img/4212/9599694/262000...   \n",
              "\n",
              "                                                  Lead          Datetime  \\\n",
              "0    Ακόμα μία χώρα στην οποία εντοπίστηκε το πρώτο...  2022-05-20 12:12   \n",
              "1    Η σκηνή που θα στηθεί στις 22 και 23 Ιουλίου π...               NaN   \n",
              "2    Με ομόφωνη απόφαση, το Μικτό Ορκωτό Δικαστήριο...               NaN   \n",
              "3    Περιηγηθείτε σε ένα καταπράσινο φοινικόδασος, ...  2022-05-20 11:40   \n",
              "4    Αγνωστοι εξαπέλυσαν επίθεση με αυγό στο γραμμα...  2022-05-20 11:39   \n",
              "..                                                 ...               ...   \n",
              "195  Τεράστια θα είναι η ένταση στο αποψινό επεισόδ...  2022-05-19 08:52   \n",
              "196  Το περιστατικό συνέβη λίγο πριν τα μεσάνυχτα σ...               NaN   \n",
              "197  Σοβαρό ατύχημα σημειώθηκε στη Σκύδρα Πέλλας, ό...  2022-05-19 08:34   \n",
              "198  Ο Τζορτζ Μπους έγινε αντικείμενο έντονου σχολι...  2022-05-19 08:22   \n",
              "199  Πληροφορίες κάνουν λόγο για δέκα τουλάχιστον ν...  2022-05-19 07:52   \n",
              "\n",
              "                                                  Body  \\\n",
              "0    Ένα πρώτο επιβεβαιωμένο κρούσμα της ευλογιάς τ...   \n",
              "1    Πολυαναμενόμενη η παράσταση του καταξιωμένου Γ...   \n",
              "2    Την απόρριψη όλων των ελαφρυντικών περιστάσεων...   \n",
              "3    Αν έχετε επισκεφτεί το φοινικόδασος στην μαγευ...   \n",
              "4    Η ένταση που επικρατεί στο χώρο του Πανεπιστημ...   \n",
              "..                                                 ...   \n",
              "195  Γεμάτο εντάσεις αναμένεται να είναι το νέο επε...   \n",
              "196  Τροχαίο ατύχημα σημειώθηκε λίγο πριν τα μεσάνυ...   \n",
              "197  Στο Ιπποκράτειο Νοσοκομείο της Θεσσαλονίκης νο...   \n",
              "198  Κατά τη διάρκειας ομιλίας του στο Ντάλας, ο πρ...   \n",
              "199  Τουλάχιστον δέκα ουκρανοί άμαχοι, ανάμεσά τους...   \n",
              "\n",
              "                                        Author  \n",
              "0                                          NaN  \n",
              "1                            Γεωργία Οικονόμου  \n",
              "2                                          NaN  \n",
              "3                                          NaN  \n",
              "4                                          NaN  \n",
              "..                                         ...  \n",
              "195                                        NaN  \n",
              "196                                        NaN  \n",
              "197                                        NaN  \n",
              "198                                        NaN  \n",
              "199                                        NaN  \n",
              "\n",
              "[200 rows x 9 columns]"
            ],
            "text/html": [
              "\n",
              "  <div id=\"df-077e5a91-7d2b-4224-bc7f-f1911b7f2790\">\n",
              "    <div class=\"colab-df-container\">\n",
              "      <div>\n",
              "<style scoped>\n",
              "    .dataframe tbody tr th:only-of-type {\n",
              "        vertical-align: middle;\n",
              "    }\n",
              "\n",
              "    .dataframe tbody tr th {\n",
              "        vertical-align: top;\n",
              "    }\n",
              "\n",
              "    .dataframe thead th {\n",
              "        text-align: right;\n",
              "    }\n",
              "</style>\n",
              "<table border=\"1\" class=\"dataframe\">\n",
              "  <thead>\n",
              "    <tr style=\"text-align: right;\">\n",
              "      <th></th>\n",
              "      <th>Title</th>\n",
              "      <th>Article url</th>\n",
              "      <th>Section</th>\n",
              "      <th>Image alt text</th>\n",
              "      <th>Image url</th>\n",
              "      <th>Lead</th>\n",
              "      <th>Datetime</th>\n",
              "      <th>Body</th>\n",
              "      <th>Author</th>\n",
              "    </tr>\n",
              "  </thead>\n",
              "  <tbody>\n",
              "    <tr>\n",
              "      <th>0</th>\n",
              "      <td>Ευλογιά των Πιθήκων: Πρώτο επιβεβαιωμένο κρούσ...</td>\n",
              "      <td>https://www.news247.gr/kosmos/eylogia-ton-pith...</td>\n",
              "      <td>Κόσμος</td>\n",
              "      <td>Γιατροί σε εργαστήριο της Γαλλίας</td>\n",
              "      <td>https://www.news247.gr/img/4769/9637672/583000...</td>\n",
              "      <td>Ακόμα μία χώρα στην οποία εντοπίστηκε το πρώτο...</td>\n",
              "      <td>2022-05-20 12:12</td>\n",
              "      <td>Ένα πρώτο επιβεβαιωμένο κρούσμα της ευλογιάς τ...</td>\n",
              "      <td>NaN</td>\n",
              "    </tr>\n",
              "    <tr>\n",
              "      <th>1</th>\n",
              "      <td>Ο Ούλριχ Ράσε στην Επίδαυρο: Γιατί οι παραστάσ...</td>\n",
              "      <td>https://www.news247.gr/politismos/theatro/o-oy...</td>\n",
              "      <td>Θέατρο</td>\n",
              "      <td>Ο Γερμανός σκηνοθέτης, Ούλριχ Ράσε</td>\n",
              "      <td>https://www.news247.gr/img/752/9637612/600000/...</td>\n",
              "      <td>Η σκηνή που θα στηθεί στις 22 και 23 Ιουλίου π...</td>\n",
              "      <td>NaN</td>\n",
              "      <td>Πολυαναμενόμενη η παράσταση του καταξιωμένου Γ...</td>\n",
              "      <td>Γεωργία Οικονόμου</td>\n",
              "    </tr>\n",
              "    <tr>\n",
              "      <th>2</th>\n",
              "      <td>Δίκη Τοπαλούδη: Κανένα ελαφρυντικό για τους δο...</td>\n",
              "      <td>https://www.news247.gr/koinonia/diki-topaloydi...</td>\n",
              "      <td>Κοινωνία</td>\n",
              "      <td>Οι δύο κατηγορούμενοι για τη δολοφονία και το ...</td>\n",
              "      <td>https://www.news247.gr/img/36/9637565/787000/w...</td>\n",
              "      <td>Με ομόφωνη απόφαση, το Μικτό Ορκωτό Δικαστήριο...</td>\n",
              "      <td>NaN</td>\n",
              "      <td>Την απόρριψη όλων των ελαφρυντικών περιστάσεων...</td>\n",
              "      <td>NaN</td>\n",
              "    </tr>\n",
              "    <tr>\n",
              "      <th>3</th>\n",
              "      <td>Θυμίζεις κάτι από Πρέβελη: Το άγνωστο φοινικόδ...</td>\n",
              "      <td>https://www.news247.gr/taxidi/thymizeis-kati-a...</td>\n",
              "      <td>Ταξίδι</td>\n",
              "      <td>Το άγνωστο φοινικόδασος της Αττικής</td>\n",
              "      <td>https://www.news247.gr/img/6760/9637609/291000...</td>\n",
              "      <td>Περιηγηθείτε σε ένα καταπράσινο φοινικόδασος, ...</td>\n",
              "      <td>2022-05-20 11:40</td>\n",
              "      <td>Αν έχετε επισκεφτεί το φοινικόδασος στην μαγευ...</td>\n",
              "      <td>NaN</td>\n",
              "    </tr>\n",
              "    <tr>\n",
              "      <th>4</th>\n",
              "      <td>Ρέθυμνο: Επίθεση στο γραμματέα του Δικτύου Φοι...</td>\n",
              "      <td>https://www.news247.gr/koinonia/rethymno-epith...</td>\n",
              "      <td>Κοινωνία</td>\n",
              "      <td>Ρέθυμνο: Επίθεση στο γραμματέα του Δικτύου Φοι...</td>\n",
              "      <td>https://www.news247.gr/img/9061/9637620/890000...</td>\n",
              "      <td>Αγνωστοι εξαπέλυσαν επίθεση με αυγό στο γραμμα...</td>\n",
              "      <td>2022-05-20 11:39</td>\n",
              "      <td>Η ένταση που επικρατεί στο χώρο του Πανεπιστημ...</td>\n",
              "      <td>NaN</td>\n",
              "    </tr>\n",
              "    <tr>\n",
              "      <th>...</th>\n",
              "      <td>...</td>\n",
              "      <td>...</td>\n",
              "      <td>...</td>\n",
              "      <td>...</td>\n",
              "      <td>...</td>\n",
              "      <td>...</td>\n",
              "      <td>...</td>\n",
              "      <td>...</td>\n",
              "      <td>...</td>\n",
              "    </tr>\n",
              "    <tr>\n",
              "      <th>195</th>\n",
              "      <td>Survivor Trailer: Χάος στην παραλία - Ποιος απ...</td>\n",
              "      <td>https://www.news247.gr/psixagogia/tileorasi/su...</td>\n",
              "      <td>Τηλεόραση</td>\n",
              "      <td>Στιγμιότυπο από το Συμβούλιο του Νησιού του Su...</td>\n",
              "      <td>https://www.news247.gr/img/6139/9635912/679000...</td>\n",
              "      <td>Τεράστια θα είναι η ένταση στο αποψινό επεισόδ...</td>\n",
              "      <td>2022-05-19 08:52</td>\n",
              "      <td>Γεμάτο εντάσεις αναμένεται να είναι το νέο επε...</td>\n",
              "      <td>NaN</td>\n",
              "    </tr>\n",
              "    <tr>\n",
              "      <th>196</th>\n",
              "      <td>Τροχαίο ατύχημα με τρία αυτοκίνητα και τρεις τ...</td>\n",
              "      <td>https://www.news247.gr/koinonia/trochaio-atych...</td>\n",
              "      <td>Κοινωνία</td>\n",
              "      <td>Ασθενοφόρο του ΕΚΑΒ</td>\n",
              "      <td>https://www.news247.gr/img/9585/9629015/814000...</td>\n",
              "      <td>Το περιστατικό συνέβη λίγο πριν τα μεσάνυχτα σ...</td>\n",
              "      <td>NaN</td>\n",
              "      <td>Τροχαίο ατύχημα σημειώθηκε λίγο πριν τα μεσάνυ...</td>\n",
              "      <td>NaN</td>\n",
              "    </tr>\n",
              "    <tr>\n",
              "      <th>197</th>\n",
              "      <td>Σκύδρα: Στο Ιπποκράτειο 7χρονος - Έπεσε επάνω ...</td>\n",
              "      <td>https://www.news247.gr/koinonia/skydra-sto-ipp...</td>\n",
              "      <td>Κοινωνία</td>\n",
              "      <td>Το Ιπποκράτειο Νοσοκομείο Θεσσαλονίκης</td>\n",
              "      <td>https://www.news247.gr/img/6906/9558439/146000...</td>\n",
              "      <td>Σοβαρό ατύχημα σημειώθηκε στη Σκύδρα Πέλλας, ό...</td>\n",
              "      <td>2022-05-19 08:34</td>\n",
              "      <td>Στο Ιπποκράτειο Νοσοκομείο της Θεσσαλονίκης νο...</td>\n",
              "      <td>NaN</td>\n",
              "    </tr>\n",
              "    <tr>\n",
              "      <th>198</th>\n",
              "      <td>Τζορτζ Μπους: \"Αδικαιολόγητη και βάναυση η εισ...</td>\n",
              "      <td>https://www.news247.gr/kosmos/gkafa-olkis-o-tz...</td>\n",
              "      <td>Κόσμος</td>\n",
              "      <td>Ο Τζορτζ Ουόκερ Μπους</td>\n",
              "      <td>https://www.news247.gr/img/9619/9635890/302000...</td>\n",
              "      <td>Ο Τζορτζ Μπους έγινε αντικείμενο έντονου σχολι...</td>\n",
              "      <td>2022-05-19 08:22</td>\n",
              "      <td>Κατά τη διάρκειας ομιλίας του στο Ντάλας, ο πρ...</td>\n",
              "      <td>NaN</td>\n",
              "    </tr>\n",
              "    <tr>\n",
              "      <th>199</th>\n",
              "      <td>Πόλεμος στην Ουκρανία: Συνεχίζεται το σφυροκόπ...</td>\n",
              "      <td>https://www.news247.gr/kosmos/oykrania-dekades...</td>\n",
              "      <td>Κόσμος</td>\n",
              "      <td>Ουκρανοί στρατιώτες ανάμεσα σε ερείπια</td>\n",
              "      <td>https://www.news247.gr/img/4212/9599694/262000...</td>\n",
              "      <td>Πληροφορίες κάνουν λόγο για δέκα τουλάχιστον ν...</td>\n",
              "      <td>2022-05-19 07:52</td>\n",
              "      <td>Τουλάχιστον δέκα ουκρανοί άμαχοι, ανάμεσά τους...</td>\n",
              "      <td>NaN</td>\n",
              "    </tr>\n",
              "  </tbody>\n",
              "</table>\n",
              "<p>200 rows × 9 columns</p>\n",
              "</div>\n",
              "      <button class=\"colab-df-convert\" onclick=\"convertToInteractive('df-077e5a91-7d2b-4224-bc7f-f1911b7f2790')\"\n",
              "              title=\"Convert this dataframe to an interactive table.\"\n",
              "              style=\"display:none;\">\n",
              "        \n",
              "  <svg xmlns=\"http://www.w3.org/2000/svg\" height=\"24px\"viewBox=\"0 0 24 24\"\n",
              "       width=\"24px\">\n",
              "    <path d=\"M0 0h24v24H0V0z\" fill=\"none\"/>\n",
              "    <path d=\"M18.56 5.44l.94 2.06.94-2.06 2.06-.94-2.06-.94-.94-2.06-.94 2.06-2.06.94zm-11 1L8.5 8.5l.94-2.06 2.06-.94-2.06-.94L8.5 2.5l-.94 2.06-2.06.94zm10 10l.94 2.06.94-2.06 2.06-.94-2.06-.94-.94-2.06-.94 2.06-2.06.94z\"/><path d=\"M17.41 7.96l-1.37-1.37c-.4-.4-.92-.59-1.43-.59-.52 0-1.04.2-1.43.59L10.3 9.45l-7.72 7.72c-.78.78-.78 2.05 0 2.83L4 21.41c.39.39.9.59 1.41.59.51 0 1.02-.2 1.41-.59l7.78-7.78 2.81-2.81c.8-.78.8-2.07 0-2.86zM5.41 20L4 18.59l7.72-7.72 1.47 1.35L5.41 20z\"/>\n",
              "  </svg>\n",
              "      </button>\n",
              "      \n",
              "  <style>\n",
              "    .colab-df-container {\n",
              "      display:flex;\n",
              "      flex-wrap:wrap;\n",
              "      gap: 12px;\n",
              "    }\n",
              "\n",
              "    .colab-df-convert {\n",
              "      background-color: #E8F0FE;\n",
              "      border: none;\n",
              "      border-radius: 50%;\n",
              "      cursor: pointer;\n",
              "      display: none;\n",
              "      fill: #1967D2;\n",
              "      height: 32px;\n",
              "      padding: 0 0 0 0;\n",
              "      width: 32px;\n",
              "    }\n",
              "\n",
              "    .colab-df-convert:hover {\n",
              "      background-color: #E2EBFA;\n",
              "      box-shadow: 0px 1px 2px rgba(60, 64, 67, 0.3), 0px 1px 3px 1px rgba(60, 64, 67, 0.15);\n",
              "      fill: #174EA6;\n",
              "    }\n",
              "\n",
              "    [theme=dark] .colab-df-convert {\n",
              "      background-color: #3B4455;\n",
              "      fill: #D2E3FC;\n",
              "    }\n",
              "\n",
              "    [theme=dark] .colab-df-convert:hover {\n",
              "      background-color: #434B5C;\n",
              "      box-shadow: 0px 1px 3px 1px rgba(0, 0, 0, 0.15);\n",
              "      filter: drop-shadow(0px 1px 2px rgba(0, 0, 0, 0.3));\n",
              "      fill: #FFFFFF;\n",
              "    }\n",
              "  </style>\n",
              "\n",
              "      <script>\n",
              "        const buttonEl =\n",
              "          document.querySelector('#df-077e5a91-7d2b-4224-bc7f-f1911b7f2790 button.colab-df-convert');\n",
              "        buttonEl.style.display =\n",
              "          google.colab.kernel.accessAllowed ? 'block' : 'none';\n",
              "\n",
              "        async function convertToInteractive(key) {\n",
              "          const element = document.querySelector('#df-077e5a91-7d2b-4224-bc7f-f1911b7f2790');\n",
              "          const dataTable =\n",
              "            await google.colab.kernel.invokeFunction('convertToInteractive',\n",
              "                                                     [key], {});\n",
              "          if (!dataTable) return;\n",
              "\n",
              "          const docLinkHtml = 'Like what you see? Visit the ' +\n",
              "            '<a target=\"_blank\" href=https://colab.research.google.com/notebooks/data_table.ipynb>data table notebook</a>'\n",
              "            + ' to learn more about interactive tables.';\n",
              "          element.innerHTML = '';\n",
              "          dataTable['output_type'] = 'display_data';\n",
              "          await google.colab.output.renderOutput(dataTable, element);\n",
              "          const docLink = document.createElement('div');\n",
              "          docLink.innerHTML = docLinkHtml;\n",
              "          element.appendChild(docLink);\n",
              "        }\n",
              "      </script>\n",
              "    </div>\n",
              "  </div>\n",
              "  "
            ]
          },
          "metadata": {},
          "execution_count": 46
        }
      ]
    },
    {
      "cell_type": "markdown",
      "source": [
        "####Επισκόπηση για τυχόν αστοχίες και Fine tuning"
      ],
      "metadata": {
        "id": "35BXWvCDgTDF"
      }
    },
    {
      "cell_type": "markdown",
      "source": [
        "Βλέπω ότι κάποια άρθρα δεν έχουν Datetime. Ανοίγω το url του πρώτου στον browser."
      ],
      "metadata": {
        "id": "IX3v4wgdW9JC"
      }
    },
    {
      "cell_type": "code",
      "source": [
        "print(news247_latest_teaser_articles_df.iloc[[1]]['Url'].item())"
      ],
      "metadata": {
        "colab": {
          "base_uri": "https://localhost:8080/"
        },
        "id": "N6uWa0zwXPyy",
        "outputId": "db7c60a9-1b65-4a97-cacd-de649d25d5ef"
      },
      "execution_count": null,
      "outputs": [
        {
          "output_type": "stream",
          "name": "stdout",
          "text": [
            "https://www.news247.gr/politismos/theatro/o-oylrich-rase-stin-epidayro-giati-oi-parastaseis-toy-thymizoyn-laiko-proskynima-se-techno-club.9637610.html\n"
          ]
        }
      ]
    },
    {
      "cell_type": "markdown",
      "source": [
        "Mε Inspect στην ημερομηνία βλέπω ότι όταν υπάρχει όνομα Author, η ημερομηνία δεν είναι σε span αλλά σε div. Συμπληρώνω τον κώδικα και ξαναδοκιμάζω"
      ],
      "metadata": {
        "id": "B1kDytqtXpQ-"
      }
    },
    {
      "cell_type": "code",
      "source": [
        "# Μάζεμα των δεδομένων του άρθρου\n",
        "full_articles_list = []\n",
        "nbr = 0 # Δημιουργώ αρίθμηση ώστε παραπέμποντας στο index του news247_latest_teaser_articles_df, να φέρνω και το αντίστοιχο url του άρθρου\n",
        "for soup in full_soups_list:\n",
        "  print(f\"working on article {news247_latest_teaser_articles_df.iloc[[int(nbr)]]['Url'].item()}\")\n",
        "  full_article_dict = {} # δημιουργία κενού λεξικού για την αποθήκευση των δεδομένων κάθε ιστορίας-άρθρου\n",
        "  title = soup.find('div', {'class': 'article-body '}).find('h1') # Title\n",
        "  if title:\n",
        "    full_article_dict['Title'] = \"\".join(title.text.splitlines()).replace('\\t', '')\n",
        "  full_article_dict['Article url'] = news247_latest_teaser_articles_df.iloc[[int(nbr)]]['Url'].item() # το Url του άρθρου\n",
        "  section = soup.find('div', {'class': 'article-head'}).find('a') # Section\n",
        "  if section:\n",
        "    full_article_dict['Section'] = section['title']\n",
        "  image = soup.find('figure', {'class': 'article-body__picture'}) # Image\n",
        "  if image:\n",
        "    full_article_dict['Image alt text'] = image.find('img')['alt'] \n",
        "    full_article_dict['Image url'] = image.find('img')['src']\n",
        "  lead = soup.find('div', {'class': 'article-body '}).find('h2') # Lead\n",
        "  if lead:\n",
        "    full_article_dict['Lead'] = \"\".join(lead.text.splitlines())\n",
        "  author = soup.find('div', {'class': 'article-body__author-name'}) # Author\n",
        "  if author:\n",
        "    full_article_dict['Author'] = \"\".join(author.text.splitlines())\n",
        "  time = soup.find('span', {'class': 'article-body__date'}) # Date\n",
        "  if time:\n",
        "    full_article_dict['Datetime'] = time.find('time')['datetime']\n",
        "  time = soup.find('div', {'class': 'article-body__date'}) # Date\n",
        "  if time:\n",
        "    full_article_dict['Datetime'] = time.find('time')['datetime']\n",
        "  body = []\n",
        "  for p in soup.find('div', {'class': 'article-body__storyContent '}).find_all('p'): # Body\n",
        "    p_text = p.text\n",
        "    if p_text:\n",
        "      body.append(p_text)\n",
        "      body_text = ' '.join(body[:-1]).replace(\"  \", \" \")\n",
        "      body_text = \"\".join(body_text.splitlines())\n",
        "      full_article_dict['Body'] = body_text\n",
        "  full_articles_list.append(full_article_dict)\n",
        "  nbr += 1"
      ],
      "metadata": {
        "id": "wTyM_xX8nY3y"
      },
      "execution_count": null,
      "outputs": []
    },
    {
      "cell_type": "code",
      "source": [
        "# Δημιουργία του dataframe\n",
        "news247_latest_full_articles_df = pd.DataFrame(full_articles_list)\n",
        "news247_latest_full_articles_df"
      ],
      "metadata": {
        "colab": {
          "base_uri": "https://localhost:8080/",
          "height": 988
        },
        "id": "ICWjXUkDGUEZ",
        "outputId": "8ce98e56-c300-4ec9-ea57-a506ac32c256"
      },
      "execution_count": null,
      "outputs": [
        {
          "output_type": "execute_result",
          "data": {
            "text/plain": [
              "                                                 Title  \\\n",
              "0    Ευλογιά των Πιθήκων: Πρώτο επιβεβαιωμένο κρούσ...   \n",
              "1    Ο Ούλριχ Ράσε στην Επίδαυρο: Γιατί οι παραστάσ...   \n",
              "2    Δίκη Τοπαλούδη: Κανένα ελαφρυντικό για τους δο...   \n",
              "3    Θυμίζεις κάτι από Πρέβελη: Το άγνωστο φοινικόδ...   \n",
              "4    Ρέθυμνο: Επίθεση στο γραμματέα του Δικτύου Φοι...   \n",
              "..                                                 ...   \n",
              "195  Survivor Trailer: Χάος στην παραλία - Ποιος απ...   \n",
              "196  Τροχαίο ατύχημα με τρία αυτοκίνητα και τρεις τ...   \n",
              "197  Σκύδρα: Στο Ιπποκράτειο 7χρονος - Έπεσε επάνω ...   \n",
              "198  Τζορτζ Μπους: \"Αδικαιολόγητη και βάναυση η εισ...   \n",
              "199  Πόλεμος στην Ουκρανία: Συνεχίζεται το σφυροκόπ...   \n",
              "\n",
              "                                           Article url    Section  \\\n",
              "0    https://www.news247.gr/kosmos/eylogia-ton-pith...     Κόσμος   \n",
              "1    https://www.news247.gr/politismos/theatro/o-oy...     Θέατρο   \n",
              "2    https://www.news247.gr/koinonia/diki-topaloydi...   Κοινωνία   \n",
              "3    https://www.news247.gr/taxidi/thymizeis-kati-a...     Ταξίδι   \n",
              "4    https://www.news247.gr/koinonia/rethymno-epith...   Κοινωνία   \n",
              "..                                                 ...        ...   \n",
              "195  https://www.news247.gr/psixagogia/tileorasi/su...  Τηλεόραση   \n",
              "196  https://www.news247.gr/koinonia/trochaio-atych...   Κοινωνία   \n",
              "197  https://www.news247.gr/koinonia/skydra-sto-ipp...   Κοινωνία   \n",
              "198  https://www.news247.gr/kosmos/gkafa-olkis-o-tz...     Κόσμος   \n",
              "199  https://www.news247.gr/kosmos/oykrania-dekades...     Κόσμος   \n",
              "\n",
              "                                        Image alt text  \\\n",
              "0                    Γιατροί σε εργαστήριο της Γαλλίας   \n",
              "1                   Ο Γερμανός σκηνοθέτης, Ούλριχ Ράσε   \n",
              "2    Οι δύο κατηγορούμενοι για τη δολοφονία και το ...   \n",
              "3                  Το άγνωστο φοινικόδασος της Αττικής   \n",
              "4    Ρέθυμνο: Επίθεση στο γραμματέα του Δικτύου Φοι...   \n",
              "..                                                 ...   \n",
              "195  Στιγμιότυπο από το Συμβούλιο του Νησιού του Su...   \n",
              "196                                Ασθενοφόρο του ΕΚΑΒ   \n",
              "197             Το Ιπποκράτειο Νοσοκομείο Θεσσαλονίκης   \n",
              "198                             Ο Τζορτζ Ουόκερ Μπους    \n",
              "199             Ουκρανοί στρατιώτες ανάμεσα σε ερείπια   \n",
              "\n",
              "                                             Image url  \\\n",
              "0    https://www.news247.gr/img/4769/9637672/583000...   \n",
              "1    https://www.news247.gr/img/752/9637612/600000/...   \n",
              "2    https://www.news247.gr/img/36/9637565/787000/w...   \n",
              "3    https://www.news247.gr/img/6760/9637609/291000...   \n",
              "4    https://www.news247.gr/img/9061/9637620/890000...   \n",
              "..                                                 ...   \n",
              "195  https://www.news247.gr/img/6139/9635912/679000...   \n",
              "196  https://www.news247.gr/img/9585/9629015/814000...   \n",
              "197  https://www.news247.gr/img/6906/9558439/146000...   \n",
              "198  https://www.news247.gr/img/9619/9635890/302000...   \n",
              "199  https://www.news247.gr/img/4212/9599694/262000...   \n",
              "\n",
              "                                                  Lead          Datetime  \\\n",
              "0    Ακόμα μία χώρα στην οποία εντοπίστηκε το πρώτο...  2022-05-20 12:12   \n",
              "1    Η σκηνή που θα στηθεί στις 22 και 23 Ιουλίου π...  2022-05-20 11:50   \n",
              "2    Με ομόφωνη απόφαση, το Μικτό Ορκωτό Δικαστήριο...  2022-05-20 11:42   \n",
              "3    Περιηγηθείτε σε ένα καταπράσινο φοινικόδασος, ...  2022-05-20 11:40   \n",
              "4    Αγνωστοι εξαπέλυσαν επίθεση με αυγό στο γραμμα...  2022-05-20 11:39   \n",
              "..                                                 ...               ...   \n",
              "195  Τεράστια θα είναι η ένταση στο αποψινό επεισόδ...  2022-05-19 08:52   \n",
              "196  Το περιστατικό συνέβη λίγο πριν τα μεσάνυχτα σ...  2022-05-19 08:40   \n",
              "197  Σοβαρό ατύχημα σημειώθηκε στη Σκύδρα Πέλλας, ό...  2022-05-19 08:34   \n",
              "198  Ο Τζορτζ Μπους έγινε αντικείμενο έντονου σχολι...  2022-05-19 08:22   \n",
              "199  Πληροφορίες κάνουν λόγο για δέκα τουλάχιστον ν...  2022-05-19 07:52   \n",
              "\n",
              "                                                  Body  \\\n",
              "0    Ένα πρώτο επιβεβαιωμένο κρούσμα της ευλογιάς τ...   \n",
              "1    Πολυαναμενόμενη η παράσταση του καταξιωμένου Γ...   \n",
              "2    Την απόρριψη όλων των ελαφρυντικών περιστάσεων...   \n",
              "3    Αν έχετε επισκεφτεί το φοινικόδασος στην μαγευ...   \n",
              "4    Η ένταση που επικρατεί στο χώρο του Πανεπιστημ...   \n",
              "..                                                 ...   \n",
              "195  Γεμάτο εντάσεις αναμένεται να είναι το νέο επε...   \n",
              "196  Τροχαίο ατύχημα σημειώθηκε λίγο πριν τα μεσάνυ...   \n",
              "197  Στο Ιπποκράτειο Νοσοκομείο της Θεσσαλονίκης νο...   \n",
              "198  Κατά τη διάρκειας ομιλίας του στο Ντάλας, ο πρ...   \n",
              "199  Τουλάχιστον δέκα ουκρανοί άμαχοι, ανάμεσά τους...   \n",
              "\n",
              "                                        Author  \n",
              "0                                          NaN  \n",
              "1                            Γεωργία Οικονόμου  \n",
              "2                                          NaN  \n",
              "3                                          NaN  \n",
              "4                                          NaN  \n",
              "..                                         ...  \n",
              "195                                        NaN  \n",
              "196                                        NaN  \n",
              "197                                        NaN  \n",
              "198                                        NaN  \n",
              "199                                        NaN  \n",
              "\n",
              "[200 rows x 9 columns]"
            ],
            "text/html": [
              "\n",
              "  <div id=\"df-48452f0f-8403-44f6-91bb-d16a8f27567b\">\n",
              "    <div class=\"colab-df-container\">\n",
              "      <div>\n",
              "<style scoped>\n",
              "    .dataframe tbody tr th:only-of-type {\n",
              "        vertical-align: middle;\n",
              "    }\n",
              "\n",
              "    .dataframe tbody tr th {\n",
              "        vertical-align: top;\n",
              "    }\n",
              "\n",
              "    .dataframe thead th {\n",
              "        text-align: right;\n",
              "    }\n",
              "</style>\n",
              "<table border=\"1\" class=\"dataframe\">\n",
              "  <thead>\n",
              "    <tr style=\"text-align: right;\">\n",
              "      <th></th>\n",
              "      <th>Title</th>\n",
              "      <th>Article url</th>\n",
              "      <th>Section</th>\n",
              "      <th>Image alt text</th>\n",
              "      <th>Image url</th>\n",
              "      <th>Lead</th>\n",
              "      <th>Datetime</th>\n",
              "      <th>Body</th>\n",
              "      <th>Author</th>\n",
              "    </tr>\n",
              "  </thead>\n",
              "  <tbody>\n",
              "    <tr>\n",
              "      <th>0</th>\n",
              "      <td>Ευλογιά των Πιθήκων: Πρώτο επιβεβαιωμένο κρούσ...</td>\n",
              "      <td>https://www.news247.gr/kosmos/eylogia-ton-pith...</td>\n",
              "      <td>Κόσμος</td>\n",
              "      <td>Γιατροί σε εργαστήριο της Γαλλίας</td>\n",
              "      <td>https://www.news247.gr/img/4769/9637672/583000...</td>\n",
              "      <td>Ακόμα μία χώρα στην οποία εντοπίστηκε το πρώτο...</td>\n",
              "      <td>2022-05-20 12:12</td>\n",
              "      <td>Ένα πρώτο επιβεβαιωμένο κρούσμα της ευλογιάς τ...</td>\n",
              "      <td>NaN</td>\n",
              "    </tr>\n",
              "    <tr>\n",
              "      <th>1</th>\n",
              "      <td>Ο Ούλριχ Ράσε στην Επίδαυρο: Γιατί οι παραστάσ...</td>\n",
              "      <td>https://www.news247.gr/politismos/theatro/o-oy...</td>\n",
              "      <td>Θέατρο</td>\n",
              "      <td>Ο Γερμανός σκηνοθέτης, Ούλριχ Ράσε</td>\n",
              "      <td>https://www.news247.gr/img/752/9637612/600000/...</td>\n",
              "      <td>Η σκηνή που θα στηθεί στις 22 και 23 Ιουλίου π...</td>\n",
              "      <td>2022-05-20 11:50</td>\n",
              "      <td>Πολυαναμενόμενη η παράσταση του καταξιωμένου Γ...</td>\n",
              "      <td>Γεωργία Οικονόμου</td>\n",
              "    </tr>\n",
              "    <tr>\n",
              "      <th>2</th>\n",
              "      <td>Δίκη Τοπαλούδη: Κανένα ελαφρυντικό για τους δο...</td>\n",
              "      <td>https://www.news247.gr/koinonia/diki-topaloydi...</td>\n",
              "      <td>Κοινωνία</td>\n",
              "      <td>Οι δύο κατηγορούμενοι για τη δολοφονία και το ...</td>\n",
              "      <td>https://www.news247.gr/img/36/9637565/787000/w...</td>\n",
              "      <td>Με ομόφωνη απόφαση, το Μικτό Ορκωτό Δικαστήριο...</td>\n",
              "      <td>2022-05-20 11:42</td>\n",
              "      <td>Την απόρριψη όλων των ελαφρυντικών περιστάσεων...</td>\n",
              "      <td>NaN</td>\n",
              "    </tr>\n",
              "    <tr>\n",
              "      <th>3</th>\n",
              "      <td>Θυμίζεις κάτι από Πρέβελη: Το άγνωστο φοινικόδ...</td>\n",
              "      <td>https://www.news247.gr/taxidi/thymizeis-kati-a...</td>\n",
              "      <td>Ταξίδι</td>\n",
              "      <td>Το άγνωστο φοινικόδασος της Αττικής</td>\n",
              "      <td>https://www.news247.gr/img/6760/9637609/291000...</td>\n",
              "      <td>Περιηγηθείτε σε ένα καταπράσινο φοινικόδασος, ...</td>\n",
              "      <td>2022-05-20 11:40</td>\n",
              "      <td>Αν έχετε επισκεφτεί το φοινικόδασος στην μαγευ...</td>\n",
              "      <td>NaN</td>\n",
              "    </tr>\n",
              "    <tr>\n",
              "      <th>4</th>\n",
              "      <td>Ρέθυμνο: Επίθεση στο γραμματέα του Δικτύου Φοι...</td>\n",
              "      <td>https://www.news247.gr/koinonia/rethymno-epith...</td>\n",
              "      <td>Κοινωνία</td>\n",
              "      <td>Ρέθυμνο: Επίθεση στο γραμματέα του Δικτύου Φοι...</td>\n",
              "      <td>https://www.news247.gr/img/9061/9637620/890000...</td>\n",
              "      <td>Αγνωστοι εξαπέλυσαν επίθεση με αυγό στο γραμμα...</td>\n",
              "      <td>2022-05-20 11:39</td>\n",
              "      <td>Η ένταση που επικρατεί στο χώρο του Πανεπιστημ...</td>\n",
              "      <td>NaN</td>\n",
              "    </tr>\n",
              "    <tr>\n",
              "      <th>...</th>\n",
              "      <td>...</td>\n",
              "      <td>...</td>\n",
              "      <td>...</td>\n",
              "      <td>...</td>\n",
              "      <td>...</td>\n",
              "      <td>...</td>\n",
              "      <td>...</td>\n",
              "      <td>...</td>\n",
              "      <td>...</td>\n",
              "    </tr>\n",
              "    <tr>\n",
              "      <th>195</th>\n",
              "      <td>Survivor Trailer: Χάος στην παραλία - Ποιος απ...</td>\n",
              "      <td>https://www.news247.gr/psixagogia/tileorasi/su...</td>\n",
              "      <td>Τηλεόραση</td>\n",
              "      <td>Στιγμιότυπο από το Συμβούλιο του Νησιού του Su...</td>\n",
              "      <td>https://www.news247.gr/img/6139/9635912/679000...</td>\n",
              "      <td>Τεράστια θα είναι η ένταση στο αποψινό επεισόδ...</td>\n",
              "      <td>2022-05-19 08:52</td>\n",
              "      <td>Γεμάτο εντάσεις αναμένεται να είναι το νέο επε...</td>\n",
              "      <td>NaN</td>\n",
              "    </tr>\n",
              "    <tr>\n",
              "      <th>196</th>\n",
              "      <td>Τροχαίο ατύχημα με τρία αυτοκίνητα και τρεις τ...</td>\n",
              "      <td>https://www.news247.gr/koinonia/trochaio-atych...</td>\n",
              "      <td>Κοινωνία</td>\n",
              "      <td>Ασθενοφόρο του ΕΚΑΒ</td>\n",
              "      <td>https://www.news247.gr/img/9585/9629015/814000...</td>\n",
              "      <td>Το περιστατικό συνέβη λίγο πριν τα μεσάνυχτα σ...</td>\n",
              "      <td>2022-05-19 08:40</td>\n",
              "      <td>Τροχαίο ατύχημα σημειώθηκε λίγο πριν τα μεσάνυ...</td>\n",
              "      <td>NaN</td>\n",
              "    </tr>\n",
              "    <tr>\n",
              "      <th>197</th>\n",
              "      <td>Σκύδρα: Στο Ιπποκράτειο 7χρονος - Έπεσε επάνω ...</td>\n",
              "      <td>https://www.news247.gr/koinonia/skydra-sto-ipp...</td>\n",
              "      <td>Κοινωνία</td>\n",
              "      <td>Το Ιπποκράτειο Νοσοκομείο Θεσσαλονίκης</td>\n",
              "      <td>https://www.news247.gr/img/6906/9558439/146000...</td>\n",
              "      <td>Σοβαρό ατύχημα σημειώθηκε στη Σκύδρα Πέλλας, ό...</td>\n",
              "      <td>2022-05-19 08:34</td>\n",
              "      <td>Στο Ιπποκράτειο Νοσοκομείο της Θεσσαλονίκης νο...</td>\n",
              "      <td>NaN</td>\n",
              "    </tr>\n",
              "    <tr>\n",
              "      <th>198</th>\n",
              "      <td>Τζορτζ Μπους: \"Αδικαιολόγητη και βάναυση η εισ...</td>\n",
              "      <td>https://www.news247.gr/kosmos/gkafa-olkis-o-tz...</td>\n",
              "      <td>Κόσμος</td>\n",
              "      <td>Ο Τζορτζ Ουόκερ Μπους</td>\n",
              "      <td>https://www.news247.gr/img/9619/9635890/302000...</td>\n",
              "      <td>Ο Τζορτζ Μπους έγινε αντικείμενο έντονου σχολι...</td>\n",
              "      <td>2022-05-19 08:22</td>\n",
              "      <td>Κατά τη διάρκειας ομιλίας του στο Ντάλας, ο πρ...</td>\n",
              "      <td>NaN</td>\n",
              "    </tr>\n",
              "    <tr>\n",
              "      <th>199</th>\n",
              "      <td>Πόλεμος στην Ουκρανία: Συνεχίζεται το σφυροκόπ...</td>\n",
              "      <td>https://www.news247.gr/kosmos/oykrania-dekades...</td>\n",
              "      <td>Κόσμος</td>\n",
              "      <td>Ουκρανοί στρατιώτες ανάμεσα σε ερείπια</td>\n",
              "      <td>https://www.news247.gr/img/4212/9599694/262000...</td>\n",
              "      <td>Πληροφορίες κάνουν λόγο για δέκα τουλάχιστον ν...</td>\n",
              "      <td>2022-05-19 07:52</td>\n",
              "      <td>Τουλάχιστον δέκα ουκρανοί άμαχοι, ανάμεσά τους...</td>\n",
              "      <td>NaN</td>\n",
              "    </tr>\n",
              "  </tbody>\n",
              "</table>\n",
              "<p>200 rows × 9 columns</p>\n",
              "</div>\n",
              "      <button class=\"colab-df-convert\" onclick=\"convertToInteractive('df-48452f0f-8403-44f6-91bb-d16a8f27567b')\"\n",
              "              title=\"Convert this dataframe to an interactive table.\"\n",
              "              style=\"display:none;\">\n",
              "        \n",
              "  <svg xmlns=\"http://www.w3.org/2000/svg\" height=\"24px\"viewBox=\"0 0 24 24\"\n",
              "       width=\"24px\">\n",
              "    <path d=\"M0 0h24v24H0V0z\" fill=\"none\"/>\n",
              "    <path d=\"M18.56 5.44l.94 2.06.94-2.06 2.06-.94-2.06-.94-.94-2.06-.94 2.06-2.06.94zm-11 1L8.5 8.5l.94-2.06 2.06-.94-2.06-.94L8.5 2.5l-.94 2.06-2.06.94zm10 10l.94 2.06.94-2.06 2.06-.94-2.06-.94-.94-2.06-.94 2.06-2.06.94z\"/><path d=\"M17.41 7.96l-1.37-1.37c-.4-.4-.92-.59-1.43-.59-.52 0-1.04.2-1.43.59L10.3 9.45l-7.72 7.72c-.78.78-.78 2.05 0 2.83L4 21.41c.39.39.9.59 1.41.59.51 0 1.02-.2 1.41-.59l7.78-7.78 2.81-2.81c.8-.78.8-2.07 0-2.86zM5.41 20L4 18.59l7.72-7.72 1.47 1.35L5.41 20z\"/>\n",
              "  </svg>\n",
              "      </button>\n",
              "      \n",
              "  <style>\n",
              "    .colab-df-container {\n",
              "      display:flex;\n",
              "      flex-wrap:wrap;\n",
              "      gap: 12px;\n",
              "    }\n",
              "\n",
              "    .colab-df-convert {\n",
              "      background-color: #E8F0FE;\n",
              "      border: none;\n",
              "      border-radius: 50%;\n",
              "      cursor: pointer;\n",
              "      display: none;\n",
              "      fill: #1967D2;\n",
              "      height: 32px;\n",
              "      padding: 0 0 0 0;\n",
              "      width: 32px;\n",
              "    }\n",
              "\n",
              "    .colab-df-convert:hover {\n",
              "      background-color: #E2EBFA;\n",
              "      box-shadow: 0px 1px 2px rgba(60, 64, 67, 0.3), 0px 1px 3px 1px rgba(60, 64, 67, 0.15);\n",
              "      fill: #174EA6;\n",
              "    }\n",
              "\n",
              "    [theme=dark] .colab-df-convert {\n",
              "      background-color: #3B4455;\n",
              "      fill: #D2E3FC;\n",
              "    }\n",
              "\n",
              "    [theme=dark] .colab-df-convert:hover {\n",
              "      background-color: #434B5C;\n",
              "      box-shadow: 0px 1px 3px 1px rgba(0, 0, 0, 0.15);\n",
              "      filter: drop-shadow(0px 1px 2px rgba(0, 0, 0, 0.3));\n",
              "      fill: #FFFFFF;\n",
              "    }\n",
              "  </style>\n",
              "\n",
              "      <script>\n",
              "        const buttonEl =\n",
              "          document.querySelector('#df-48452f0f-8403-44f6-91bb-d16a8f27567b button.colab-df-convert');\n",
              "        buttonEl.style.display =\n",
              "          google.colab.kernel.accessAllowed ? 'block' : 'none';\n",
              "\n",
              "        async function convertToInteractive(key) {\n",
              "          const element = document.querySelector('#df-48452f0f-8403-44f6-91bb-d16a8f27567b');\n",
              "          const dataTable =\n",
              "            await google.colab.kernel.invokeFunction('convertToInteractive',\n",
              "                                                     [key], {});\n",
              "          if (!dataTable) return;\n",
              "\n",
              "          const docLinkHtml = 'Like what you see? Visit the ' +\n",
              "            '<a target=\"_blank\" href=https://colab.research.google.com/notebooks/data_table.ipynb>data table notebook</a>'\n",
              "            + ' to learn more about interactive tables.';\n",
              "          element.innerHTML = '';\n",
              "          dataTable['output_type'] = 'display_data';\n",
              "          await google.colab.output.renderOutput(dataTable, element);\n",
              "          const docLink = document.createElement('div');\n",
              "          docLink.innerHTML = docLinkHtml;\n",
              "          element.appendChild(docLink);\n",
              "        }\n",
              "      </script>\n",
              "    </div>\n",
              "  </div>\n",
              "  "
            ]
          },
          "metadata": {},
          "execution_count": 50
        }
      ]
    },
    {
      "cell_type": "markdown",
      "source": [
        "Τώρα υπάρχει και το Datetime εκεί που έλειπε. Για ασφάλεια, θα τσεκάρω και άλλο ένα άρθρο που δεν είχε Datetime, αλλά δεν είχε και Author."
      ],
      "metadata": {
        "id": "fJTizgxjYQKl"
      }
    },
    {
      "cell_type": "code",
      "source": [
        "print(news247_latest_teaser_articles_df.iloc[[2]]['Url'].item())"
      ],
      "metadata": {
        "colab": {
          "base_uri": "https://localhost:8080/"
        },
        "id": "s2BdwhRkYs5n",
        "outputId": "6f2a86d0-2886-4af1-86de-b80648de5005"
      },
      "execution_count": null,
      "outputs": [
        {
          "output_type": "stream",
          "name": "stdout",
          "text": [
            "https://www.news247.gr/koinonia/diki-topaloydi-kanena-elafryntiko-gia-toys-dolofonoys-kai-viastes-tis-elenis.9637568.html\n"
          ]
        }
      ]
    },
    {
      "cell_type": "markdown",
      "source": [
        "Βλέπω ότι έχει Author, που όμως είναι σε `<a>` tag που είναι μέσα σε ένα `<div>` με `class=\"article-body__byline\"`. Διορθώνω τον κώδικα για να πιάνει και αυτό τον Author και ξαναδοκιμάζω."
      ],
      "metadata": {
        "id": "L-m1XOE2cvrY"
      }
    },
    {
      "cell_type": "code",
      "source": [
        "# Μάζεμα των δεδομένων του άρθρου\n",
        "full_articles_list = []\n",
        "nbr = 0 # Δημιουργώ αρίθμηση ώστε παραπέμποντας στο index του news247_latest_teaser_articles_df, να φέρνω και το αντίστοιχο url του άρθρου\n",
        "for soup in full_soups_list:\n",
        "  print(f\"working on article {news247_latest_teaser_articles_df.iloc[[int(nbr)]]['Url'].item()}\")\n",
        "  full_article_dict = {} # δημιουργία κενού λεξικού για την αποθήκευση των δεδομένων κάθε ιστορίας-άρθρου\n",
        "  title = soup.find('div', {'class': 'article-body '}).find('h1') # Title\n",
        "  if title:\n",
        "    full_article_dict['Title'] = \"\".join(title.text.splitlines()).replace('\\t', '')\n",
        "  full_article_dict['Article url'] = news247_latest_teaser_articles_df.iloc[[int(nbr)]]['Url'].item() # το Url του άρθρου\n",
        "  section = soup.find('div', {'class': 'article-head'}).find('a') # Section\n",
        "  if section:\n",
        "    full_article_dict['Section'] = section['title']\n",
        "  image = soup.find('figure', {'class': 'article-body__picture'}) # Image\n",
        "  if image:\n",
        "    full_article_dict['Image alt text'] = image.find('img')['alt'] \n",
        "    full_article_dict['Image url'] = image.find('img')['src']\n",
        "  lead = soup.find('div', {'class': 'article-body '}).find('h2') # Lead\n",
        "  if lead:\n",
        "    full_article_dict['Lead'] = \"\".join(lead.text.splitlines())\n",
        "  author = soup.find('div', {'class': 'article-body__author-name'}) # Author\n",
        "  if author:\n",
        "    full_article_dict['Author'] = \"\".join(author.text.splitlines())\n",
        "  else:\n",
        "    author = soup.find('div', {'class': 'article-body__byline'}).find('a') # Author\n",
        "    if author:\n",
        "      full_article_dict['Author'] = \"\".join(author.text.splitlines())\n",
        "  time = soup.find('span', {'class': 'article-body__date'}) # Date\n",
        "  if time:\n",
        "    full_article_dict['Datetime'] = time.find('time')['datetime']\n",
        "  time = soup.find('div', {'class': 'article-body__date'}) # Date\n",
        "  if time:\n",
        "    full_article_dict['Datetime'] = time.find('time')['datetime']\n",
        "  body = []\n",
        "  for p in soup.find('div', {'class': 'article-body__storyContent '}).find_all('p'): # Body\n",
        "    p_text = p.text\n",
        "    if p_text:\n",
        "      body.append(p_text)\n",
        "      body_text = ' '.join(body[:-1]).replace(\"  \", \" \")\n",
        "      body_text = \"\".join(body_text.splitlines())\n",
        "      full_article_dict['Body'] = body_text\n",
        "  full_articles_list.append(full_article_dict)\n",
        "  nbr += 1"
      ],
      "metadata": {
        "id": "onshI4hNdQfA"
      },
      "execution_count": null,
      "outputs": []
    },
    {
      "cell_type": "code",
      "source": [
        "# Δημιουργία του dataframe\n",
        "news247_latest_full_articles_df = pd.DataFrame(full_articles_list)\n",
        "news247_latest_full_articles_df"
      ],
      "metadata": {
        "colab": {
          "base_uri": "https://localhost:8080/",
          "height": 988
        },
        "outputId": "4b785f5a-5d77-4314-b8b8-208f8ea8af8c",
        "id": "eMADq7qwdQfA"
      },
      "execution_count": null,
      "outputs": [
        {
          "output_type": "execute_result",
          "data": {
            "text/plain": [
              "                                                 Title  \\\n",
              "0    Ευλογιά των Πιθήκων: Πρώτο επιβεβαιωμένο κρούσ...   \n",
              "1    Ο Ούλριχ Ράσε στην Επίδαυρο: Γιατί οι παραστάσ...   \n",
              "2    Δίκη Τοπαλούδη: Κανένα ελαφρυντικό για τους δο...   \n",
              "3    Θυμίζεις κάτι από Πρέβελη: Το άγνωστο φοινικόδ...   \n",
              "4    Ρέθυμνο: Επίθεση στο γραμματέα του Δικτύου Φοι...   \n",
              "..                                                 ...   \n",
              "195  Survivor Trailer: Χάος στην παραλία - Ποιος απ...   \n",
              "196  Τροχαίο ατύχημα με τρία αυτοκίνητα και τρεις τ...   \n",
              "197  Σκύδρα: Στο Ιπποκράτειο 7χρονος - Έπεσε επάνω ...   \n",
              "198  Τζορτζ Μπους: \"Αδικαιολόγητη και βάναυση η εισ...   \n",
              "199  Πόλεμος στην Ουκρανία: Συνεχίζεται το σφυροκόπ...   \n",
              "\n",
              "                                           Article url    Section  \\\n",
              "0    https://www.news247.gr/kosmos/eylogia-ton-pith...     Κόσμος   \n",
              "1    https://www.news247.gr/politismos/theatro/o-oy...     Θέατρο   \n",
              "2    https://www.news247.gr/koinonia/diki-topaloydi...   Κοινωνία   \n",
              "3    https://www.news247.gr/taxidi/thymizeis-kati-a...     Ταξίδι   \n",
              "4    https://www.news247.gr/koinonia/rethymno-epith...   Κοινωνία   \n",
              "..                                                 ...        ...   \n",
              "195  https://www.news247.gr/psixagogia/tileorasi/su...  Τηλεόραση   \n",
              "196  https://www.news247.gr/koinonia/trochaio-atych...   Κοινωνία   \n",
              "197  https://www.news247.gr/koinonia/skydra-sto-ipp...   Κοινωνία   \n",
              "198  https://www.news247.gr/kosmos/gkafa-olkis-o-tz...     Κόσμος   \n",
              "199  https://www.news247.gr/kosmos/oykrania-dekades...     Κόσμος   \n",
              "\n",
              "                                        Image alt text  \\\n",
              "0                    Γιατροί σε εργαστήριο της Γαλλίας   \n",
              "1                   Ο Γερμανός σκηνοθέτης, Ούλριχ Ράσε   \n",
              "2    Οι δύο κατηγορούμενοι για τη δολοφονία και το ...   \n",
              "3                  Το άγνωστο φοινικόδασος της Αττικής   \n",
              "4    Ρέθυμνο: Επίθεση στο γραμματέα του Δικτύου Φοι...   \n",
              "..                                                 ...   \n",
              "195  Στιγμιότυπο από το Συμβούλιο του Νησιού του Su...   \n",
              "196                                Ασθενοφόρο του ΕΚΑΒ   \n",
              "197             Το Ιπποκράτειο Νοσοκομείο Θεσσαλονίκης   \n",
              "198                             Ο Τζορτζ Ουόκερ Μπους    \n",
              "199             Ουκρανοί στρατιώτες ανάμεσα σε ερείπια   \n",
              "\n",
              "                                             Image url  \\\n",
              "0    https://www.news247.gr/img/4769/9637672/583000...   \n",
              "1    https://www.news247.gr/img/752/9637612/600000/...   \n",
              "2    https://www.news247.gr/img/36/9637565/787000/w...   \n",
              "3    https://www.news247.gr/img/6760/9637609/291000...   \n",
              "4    https://www.news247.gr/img/9061/9637620/890000...   \n",
              "..                                                 ...   \n",
              "195  https://www.news247.gr/img/6139/9635912/679000...   \n",
              "196  https://www.news247.gr/img/9585/9629015/814000...   \n",
              "197  https://www.news247.gr/img/6906/9558439/146000...   \n",
              "198  https://www.news247.gr/img/9619/9635890/302000...   \n",
              "199  https://www.news247.gr/img/4212/9599694/262000...   \n",
              "\n",
              "                                                  Lead  \\\n",
              "0    Ακόμα μία χώρα στην οποία εντοπίστηκε το πρώτο...   \n",
              "1    Η σκηνή που θα στηθεί στις 22 και 23 Ιουλίου π...   \n",
              "2    Με ομόφωνη απόφαση, το Μικτό Ορκωτό Δικαστήριο...   \n",
              "3    Περιηγηθείτε σε ένα καταπράσινο φοινικόδασος, ...   \n",
              "4    Αγνωστοι εξαπέλυσαν επίθεση με αυγό στο γραμμα...   \n",
              "..                                                 ...   \n",
              "195  Τεράστια θα είναι η ένταση στο αποψινό επεισόδ...   \n",
              "196  Το περιστατικό συνέβη λίγο πριν τα μεσάνυχτα σ...   \n",
              "197  Σοβαρό ατύχημα σημειώθηκε στη Σκύδρα Πέλλας, ό...   \n",
              "198  Ο Τζορτζ Μπους έγινε αντικείμενο έντονου σχολι...   \n",
              "199  Πληροφορίες κάνουν λόγο για δέκα τουλάχιστον ν...   \n",
              "\n",
              "                                        Author          Datetime  \\\n",
              "0                                      news247  2022-05-20 12:12   \n",
              "1                            Γεωργία Οικονόμου  2022-05-20 11:50   \n",
              "2                                Αντωνία Ξυνού  2022-05-20 11:42   \n",
              "3                                      news247  2022-05-20 11:40   \n",
              "4                                      news247  2022-05-20 11:39   \n",
              "..                                         ...               ...   \n",
              "195                                    news247  2022-05-19 08:52   \n",
              "196                       Θοδωρής Παναγιωτίδης  2022-05-19 08:40   \n",
              "197                                    news247  2022-05-19 08:34   \n",
              "198                                    news247  2022-05-19 08:22   \n",
              "199                                    news247  2022-05-19 07:52   \n",
              "\n",
              "                                                  Body  \n",
              "0    Ένα πρώτο επιβεβαιωμένο κρούσμα της ευλογιάς τ...  \n",
              "1    Πολυαναμενόμενη η παράσταση του καταξιωμένου Γ...  \n",
              "2    Την απόρριψη όλων των ελαφρυντικών περιστάσεων...  \n",
              "3    Αν έχετε επισκεφτεί το φοινικόδασος στην μαγευ...  \n",
              "4    Η ένταση που επικρατεί στο χώρο του Πανεπιστημ...  \n",
              "..                                                 ...  \n",
              "195  Γεμάτο εντάσεις αναμένεται να είναι το νέο επε...  \n",
              "196  Τροχαίο ατύχημα σημειώθηκε λίγο πριν τα μεσάνυ...  \n",
              "197  Στο Ιπποκράτειο Νοσοκομείο της Θεσσαλονίκης νο...  \n",
              "198  Κατά τη διάρκειας ομιλίας του στο Ντάλας, ο πρ...  \n",
              "199  Τουλάχιστον δέκα ουκρανοί άμαχοι, ανάμεσά τους...  \n",
              "\n",
              "[200 rows x 9 columns]"
            ],
            "text/html": [
              "\n",
              "  <div id=\"df-17fd734f-951a-416e-8764-0e1e7ba0b86f\">\n",
              "    <div class=\"colab-df-container\">\n",
              "      <div>\n",
              "<style scoped>\n",
              "    .dataframe tbody tr th:only-of-type {\n",
              "        vertical-align: middle;\n",
              "    }\n",
              "\n",
              "    .dataframe tbody tr th {\n",
              "        vertical-align: top;\n",
              "    }\n",
              "\n",
              "    .dataframe thead th {\n",
              "        text-align: right;\n",
              "    }\n",
              "</style>\n",
              "<table border=\"1\" class=\"dataframe\">\n",
              "  <thead>\n",
              "    <tr style=\"text-align: right;\">\n",
              "      <th></th>\n",
              "      <th>Title</th>\n",
              "      <th>Article url</th>\n",
              "      <th>Section</th>\n",
              "      <th>Image alt text</th>\n",
              "      <th>Image url</th>\n",
              "      <th>Lead</th>\n",
              "      <th>Author</th>\n",
              "      <th>Datetime</th>\n",
              "      <th>Body</th>\n",
              "    </tr>\n",
              "  </thead>\n",
              "  <tbody>\n",
              "    <tr>\n",
              "      <th>0</th>\n",
              "      <td>Ευλογιά των Πιθήκων: Πρώτο επιβεβαιωμένο κρούσ...</td>\n",
              "      <td>https://www.news247.gr/kosmos/eylogia-ton-pith...</td>\n",
              "      <td>Κόσμος</td>\n",
              "      <td>Γιατροί σε εργαστήριο της Γαλλίας</td>\n",
              "      <td>https://www.news247.gr/img/4769/9637672/583000...</td>\n",
              "      <td>Ακόμα μία χώρα στην οποία εντοπίστηκε το πρώτο...</td>\n",
              "      <td>news247</td>\n",
              "      <td>2022-05-20 12:12</td>\n",
              "      <td>Ένα πρώτο επιβεβαιωμένο κρούσμα της ευλογιάς τ...</td>\n",
              "    </tr>\n",
              "    <tr>\n",
              "      <th>1</th>\n",
              "      <td>Ο Ούλριχ Ράσε στην Επίδαυρο: Γιατί οι παραστάσ...</td>\n",
              "      <td>https://www.news247.gr/politismos/theatro/o-oy...</td>\n",
              "      <td>Θέατρο</td>\n",
              "      <td>Ο Γερμανός σκηνοθέτης, Ούλριχ Ράσε</td>\n",
              "      <td>https://www.news247.gr/img/752/9637612/600000/...</td>\n",
              "      <td>Η σκηνή που θα στηθεί στις 22 και 23 Ιουλίου π...</td>\n",
              "      <td>Γεωργία Οικονόμου</td>\n",
              "      <td>2022-05-20 11:50</td>\n",
              "      <td>Πολυαναμενόμενη η παράσταση του καταξιωμένου Γ...</td>\n",
              "    </tr>\n",
              "    <tr>\n",
              "      <th>2</th>\n",
              "      <td>Δίκη Τοπαλούδη: Κανένα ελαφρυντικό για τους δο...</td>\n",
              "      <td>https://www.news247.gr/koinonia/diki-topaloydi...</td>\n",
              "      <td>Κοινωνία</td>\n",
              "      <td>Οι δύο κατηγορούμενοι για τη δολοφονία και το ...</td>\n",
              "      <td>https://www.news247.gr/img/36/9637565/787000/w...</td>\n",
              "      <td>Με ομόφωνη απόφαση, το Μικτό Ορκωτό Δικαστήριο...</td>\n",
              "      <td>Αντωνία Ξυνού</td>\n",
              "      <td>2022-05-20 11:42</td>\n",
              "      <td>Την απόρριψη όλων των ελαφρυντικών περιστάσεων...</td>\n",
              "    </tr>\n",
              "    <tr>\n",
              "      <th>3</th>\n",
              "      <td>Θυμίζεις κάτι από Πρέβελη: Το άγνωστο φοινικόδ...</td>\n",
              "      <td>https://www.news247.gr/taxidi/thymizeis-kati-a...</td>\n",
              "      <td>Ταξίδι</td>\n",
              "      <td>Το άγνωστο φοινικόδασος της Αττικής</td>\n",
              "      <td>https://www.news247.gr/img/6760/9637609/291000...</td>\n",
              "      <td>Περιηγηθείτε σε ένα καταπράσινο φοινικόδασος, ...</td>\n",
              "      <td>news247</td>\n",
              "      <td>2022-05-20 11:40</td>\n",
              "      <td>Αν έχετε επισκεφτεί το φοινικόδασος στην μαγευ...</td>\n",
              "    </tr>\n",
              "    <tr>\n",
              "      <th>4</th>\n",
              "      <td>Ρέθυμνο: Επίθεση στο γραμματέα του Δικτύου Φοι...</td>\n",
              "      <td>https://www.news247.gr/koinonia/rethymno-epith...</td>\n",
              "      <td>Κοινωνία</td>\n",
              "      <td>Ρέθυμνο: Επίθεση στο γραμματέα του Δικτύου Φοι...</td>\n",
              "      <td>https://www.news247.gr/img/9061/9637620/890000...</td>\n",
              "      <td>Αγνωστοι εξαπέλυσαν επίθεση με αυγό στο γραμμα...</td>\n",
              "      <td>news247</td>\n",
              "      <td>2022-05-20 11:39</td>\n",
              "      <td>Η ένταση που επικρατεί στο χώρο του Πανεπιστημ...</td>\n",
              "    </tr>\n",
              "    <tr>\n",
              "      <th>...</th>\n",
              "      <td>...</td>\n",
              "      <td>...</td>\n",
              "      <td>...</td>\n",
              "      <td>...</td>\n",
              "      <td>...</td>\n",
              "      <td>...</td>\n",
              "      <td>...</td>\n",
              "      <td>...</td>\n",
              "      <td>...</td>\n",
              "    </tr>\n",
              "    <tr>\n",
              "      <th>195</th>\n",
              "      <td>Survivor Trailer: Χάος στην παραλία - Ποιος απ...</td>\n",
              "      <td>https://www.news247.gr/psixagogia/tileorasi/su...</td>\n",
              "      <td>Τηλεόραση</td>\n",
              "      <td>Στιγμιότυπο από το Συμβούλιο του Νησιού του Su...</td>\n",
              "      <td>https://www.news247.gr/img/6139/9635912/679000...</td>\n",
              "      <td>Τεράστια θα είναι η ένταση στο αποψινό επεισόδ...</td>\n",
              "      <td>news247</td>\n",
              "      <td>2022-05-19 08:52</td>\n",
              "      <td>Γεμάτο εντάσεις αναμένεται να είναι το νέο επε...</td>\n",
              "    </tr>\n",
              "    <tr>\n",
              "      <th>196</th>\n",
              "      <td>Τροχαίο ατύχημα με τρία αυτοκίνητα και τρεις τ...</td>\n",
              "      <td>https://www.news247.gr/koinonia/trochaio-atych...</td>\n",
              "      <td>Κοινωνία</td>\n",
              "      <td>Ασθενοφόρο του ΕΚΑΒ</td>\n",
              "      <td>https://www.news247.gr/img/9585/9629015/814000...</td>\n",
              "      <td>Το περιστατικό συνέβη λίγο πριν τα μεσάνυχτα σ...</td>\n",
              "      <td>Θοδωρής Παναγιωτίδης</td>\n",
              "      <td>2022-05-19 08:40</td>\n",
              "      <td>Τροχαίο ατύχημα σημειώθηκε λίγο πριν τα μεσάνυ...</td>\n",
              "    </tr>\n",
              "    <tr>\n",
              "      <th>197</th>\n",
              "      <td>Σκύδρα: Στο Ιπποκράτειο 7χρονος - Έπεσε επάνω ...</td>\n",
              "      <td>https://www.news247.gr/koinonia/skydra-sto-ipp...</td>\n",
              "      <td>Κοινωνία</td>\n",
              "      <td>Το Ιπποκράτειο Νοσοκομείο Θεσσαλονίκης</td>\n",
              "      <td>https://www.news247.gr/img/6906/9558439/146000...</td>\n",
              "      <td>Σοβαρό ατύχημα σημειώθηκε στη Σκύδρα Πέλλας, ό...</td>\n",
              "      <td>news247</td>\n",
              "      <td>2022-05-19 08:34</td>\n",
              "      <td>Στο Ιπποκράτειο Νοσοκομείο της Θεσσαλονίκης νο...</td>\n",
              "    </tr>\n",
              "    <tr>\n",
              "      <th>198</th>\n",
              "      <td>Τζορτζ Μπους: \"Αδικαιολόγητη και βάναυση η εισ...</td>\n",
              "      <td>https://www.news247.gr/kosmos/gkafa-olkis-o-tz...</td>\n",
              "      <td>Κόσμος</td>\n",
              "      <td>Ο Τζορτζ Ουόκερ Μπους</td>\n",
              "      <td>https://www.news247.gr/img/9619/9635890/302000...</td>\n",
              "      <td>Ο Τζορτζ Μπους έγινε αντικείμενο έντονου σχολι...</td>\n",
              "      <td>news247</td>\n",
              "      <td>2022-05-19 08:22</td>\n",
              "      <td>Κατά τη διάρκειας ομιλίας του στο Ντάλας, ο πρ...</td>\n",
              "    </tr>\n",
              "    <tr>\n",
              "      <th>199</th>\n",
              "      <td>Πόλεμος στην Ουκρανία: Συνεχίζεται το σφυροκόπ...</td>\n",
              "      <td>https://www.news247.gr/kosmos/oykrania-dekades...</td>\n",
              "      <td>Κόσμος</td>\n",
              "      <td>Ουκρανοί στρατιώτες ανάμεσα σε ερείπια</td>\n",
              "      <td>https://www.news247.gr/img/4212/9599694/262000...</td>\n",
              "      <td>Πληροφορίες κάνουν λόγο για δέκα τουλάχιστον ν...</td>\n",
              "      <td>news247</td>\n",
              "      <td>2022-05-19 07:52</td>\n",
              "      <td>Τουλάχιστον δέκα ουκρανοί άμαχοι, ανάμεσά τους...</td>\n",
              "    </tr>\n",
              "  </tbody>\n",
              "</table>\n",
              "<p>200 rows × 9 columns</p>\n",
              "</div>\n",
              "      <button class=\"colab-df-convert\" onclick=\"convertToInteractive('df-17fd734f-951a-416e-8764-0e1e7ba0b86f')\"\n",
              "              title=\"Convert this dataframe to an interactive table.\"\n",
              "              style=\"display:none;\">\n",
              "        \n",
              "  <svg xmlns=\"http://www.w3.org/2000/svg\" height=\"24px\"viewBox=\"0 0 24 24\"\n",
              "       width=\"24px\">\n",
              "    <path d=\"M0 0h24v24H0V0z\" fill=\"none\"/>\n",
              "    <path d=\"M18.56 5.44l.94 2.06.94-2.06 2.06-.94-2.06-.94-.94-2.06-.94 2.06-2.06.94zm-11 1L8.5 8.5l.94-2.06 2.06-.94-2.06-.94L8.5 2.5l-.94 2.06-2.06.94zm10 10l.94 2.06.94-2.06 2.06-.94-2.06-.94-.94-2.06-.94 2.06-2.06.94z\"/><path d=\"M17.41 7.96l-1.37-1.37c-.4-.4-.92-.59-1.43-.59-.52 0-1.04.2-1.43.59L10.3 9.45l-7.72 7.72c-.78.78-.78 2.05 0 2.83L4 21.41c.39.39.9.59 1.41.59.51 0 1.02-.2 1.41-.59l7.78-7.78 2.81-2.81c.8-.78.8-2.07 0-2.86zM5.41 20L4 18.59l7.72-7.72 1.47 1.35L5.41 20z\"/>\n",
              "  </svg>\n",
              "      </button>\n",
              "      \n",
              "  <style>\n",
              "    .colab-df-container {\n",
              "      display:flex;\n",
              "      flex-wrap:wrap;\n",
              "      gap: 12px;\n",
              "    }\n",
              "\n",
              "    .colab-df-convert {\n",
              "      background-color: #E8F0FE;\n",
              "      border: none;\n",
              "      border-radius: 50%;\n",
              "      cursor: pointer;\n",
              "      display: none;\n",
              "      fill: #1967D2;\n",
              "      height: 32px;\n",
              "      padding: 0 0 0 0;\n",
              "      width: 32px;\n",
              "    }\n",
              "\n",
              "    .colab-df-convert:hover {\n",
              "      background-color: #E2EBFA;\n",
              "      box-shadow: 0px 1px 2px rgba(60, 64, 67, 0.3), 0px 1px 3px 1px rgba(60, 64, 67, 0.15);\n",
              "      fill: #174EA6;\n",
              "    }\n",
              "\n",
              "    [theme=dark] .colab-df-convert {\n",
              "      background-color: #3B4455;\n",
              "      fill: #D2E3FC;\n",
              "    }\n",
              "\n",
              "    [theme=dark] .colab-df-convert:hover {\n",
              "      background-color: #434B5C;\n",
              "      box-shadow: 0px 1px 3px 1px rgba(0, 0, 0, 0.15);\n",
              "      filter: drop-shadow(0px 1px 2px rgba(0, 0, 0, 0.3));\n",
              "      fill: #FFFFFF;\n",
              "    }\n",
              "  </style>\n",
              "\n",
              "      <script>\n",
              "        const buttonEl =\n",
              "          document.querySelector('#df-17fd734f-951a-416e-8764-0e1e7ba0b86f button.colab-df-convert');\n",
              "        buttonEl.style.display =\n",
              "          google.colab.kernel.accessAllowed ? 'block' : 'none';\n",
              "\n",
              "        async function convertToInteractive(key) {\n",
              "          const element = document.querySelector('#df-17fd734f-951a-416e-8764-0e1e7ba0b86f');\n",
              "          const dataTable =\n",
              "            await google.colab.kernel.invokeFunction('convertToInteractive',\n",
              "                                                     [key], {});\n",
              "          if (!dataTable) return;\n",
              "\n",
              "          const docLinkHtml = 'Like what you see? Visit the ' +\n",
              "            '<a target=\"_blank\" href=https://colab.research.google.com/notebooks/data_table.ipynb>data table notebook</a>'\n",
              "            + ' to learn more about interactive tables.';\n",
              "          element.innerHTML = '';\n",
              "          dataTable['output_type'] = 'display_data';\n",
              "          await google.colab.output.renderOutput(dataTable, element);\n",
              "          const docLink = document.createElement('div');\n",
              "          docLink.innerHTML = docLinkHtml;\n",
              "          element.appendChild(docLink);\n",
              "        }\n",
              "      </script>\n",
              "    </div>\n",
              "  </div>\n",
              "  "
            ]
          },
          "metadata": {},
          "execution_count": 56
        }
      ]
    },
    {
      "cell_type": "markdown",
      "source": [
        "##Αυτή τη φορά φαίνονται όλα εντάξει."
      ],
      "metadata": {
        "id": "dRBlOxFWfrwk"
      }
    },
    {
      "cell_type": "code",
      "source": [
        "news247_latest_full_articles_df[news247_latest_full_articles_df['Author'].notnull()]"
      ],
      "metadata": {
        "colab": {
          "base_uri": "https://localhost:8080/",
          "height": 1000
        },
        "id": "hCokhyVIM7Fa",
        "outputId": "952e599b-49b3-4cfb-e812-e097b4ba321c"
      },
      "execution_count": null,
      "outputs": [
        {
          "output_type": "execute_result",
          "data": {
            "text/plain": [
              "                                                 Title  \\\n",
              "1    Καιρός: Βελτιωμένος στις περισσότερες περιοχές...   \n",
              "19   Αυξημένο ενδιαφέρον από Ολλανδούς τουρίστες - ...   \n",
              "30   15 πράγματα που δε γνωρίζαμε για τον σπουδαίο ...   \n",
              "36   Κικίλιας: Αύξηση κατά 40% των τουριστικών ροών...   \n",
              "50   ΠΟΜΙΔΑ: Αντισυνταγματικές οι επιβαρύνσεις του ...   \n",
              "59   Τι θα δούμε το φετινό καλοκαίρι στον Κήπο του ...   \n",
              "96   Στο Ίνκουμπους του Βαγγέλη Γιαννίση, η καταιγι...   \n",
              "106  Δύο στρατηγικές παγίδες για την Ευρώπη - Μιλιτ...   \n",
              "108  Μαγνητικά Πεδία: Πώς παραλίγο να μην γυριστεί ...   \n",
              "113  Αδιανόητο: Αποκάλεσε αστυνομικό \"καραφλό\" και ...   \n",
              "119  Στο Στόμα του Λάκη - Podcast: Ο \"Σαντάμ\" Μητσο...   \n",
              "129  Νίκος Καραθάνος: \"Τα μεγαλύτερα ναρκωτικά είμα...   \n",
              "137  Το σώμα μέσα σε μία χορογραφία ζωής και θανάτο...   \n",
              "139  Κι όμως, έρευνα αποδεικνύει πως η τέχνη κάνει ...   \n",
              "140  Στον \"αστερισμό\" των δόσεων οι πολίτες - Τι πλ...   \n",
              "142  ΣΥΡΙΖΑ: Απέτυχε (και) στις ΗΠΑ η πολιτική του ...   \n",
              "143  Κορονοϊός: Περισσότεροι από 350 χιλιάδες Έλλην...   \n",
              "144  Τράπεζες: Στο μικροσκόπιο επενδύσεις 3 δις του...   \n",
              "146  Οι ταινίες της εβδομάδας: “Μαγνητικά Πεδία” ή ...   \n",
              "147    Φινλανδία - Σουηδία: Το τέλος της ουδετερότητας   \n",
              "148  Έλληνες ξενοδόχοι: Παραμορφωτικός ο καθρέπτης ...   \n",
              "149  Καιρός: Άνοδος της θερμοκρασίας το Σαββατοκύριακο   \n",
              "155  Καιρός: Σταδιακή βελτίωση από το μεσημέρι της ...   \n",
              "159  Συναγερμός στην Εύβοια: Χάθηκε άνδρας στη Δίρφ...   \n",
              "179                 Η νέα Κεντρική Επιτροπή του ΣΥΡΙΖΑ   \n",
              "\n",
              "                                           Article url           Section  \\\n",
              "1    https://www.news247.gr/kairos/kairos-veltiomen...            Καιρός   \n",
              "19   https://www.news247.gr/tourismos/ayximeno-endi...         Τουρισμός   \n",
              "30   https://www.news247.gr/politismos/mousiki/15-p...           Μουσική   \n",
              "36   https://www.news247.gr/tourismos/kikilias-ayxi...         Τουρισμός   \n",
              "50   https://www.news247.gr/oikonomia/pomida-antisy...         Οικονομία   \n",
              "59   https://www.news247.gr/politismos/ti-tha-doyme...        Πολιτισμός   \n",
              "96   https://www.news247.gr/politismos/vivlia/sto-i...            Βιβλία   \n",
              "106  https://www.news247.gr/politiki/dyo-stratigike...          Πολιτική   \n",
              "108  https://www.news247.gr/sunday-edition/magnitik...    Sunday Edition   \n",
              "113  https://www.news247.gr/koinonia/adianoito-apok...          Κοινωνία   \n",
              "119  https://www.news247.gr/lakis-lazopoulos/sto-st...  Λάκης Λαζόπουλος   \n",
              "129  https://www.news247.gr/sunday-edition/nikos-ka...    Sunday Edition   \n",
              "137  https://www.news247.gr/politismos/to-soma-mesa...        Πολιτισμός   \n",
              "139  https://www.news247.gr/politismos/city-culture...      City Culture   \n",
              "140  https://www.news247.gr/oikonomia/ston-asterism...         Οικονομία   \n",
              "142  https://www.news247.gr/politiki/syriza-apetych...          Πολιτική   \n",
              "143  https://www.news247.gr/ygeia/koronoios-perisso...             Υγεία   \n",
              "144  https://www.news247.gr/oikonomia/trapezes-sto-...         Οικονομία   \n",
              "146  https://www.news247.gr/politismos/cinema/oi-ta...            Σινεμά   \n",
              "147  https://www.news247.gr/kosmos/finlandia-soyidi...            Κόσμος   \n",
              "148  https://www.news247.gr/tourismos/ellines-xenod...         Τουρισμός   \n",
              "149  https://www.news247.gr/kairos/kairos-anodos-ti...            Καιρός   \n",
              "155  https://www.news247.gr/kairos/kairos-stadiaki-...            Καιρός   \n",
              "159  https://www.news247.gr/koinonia/synagermos-sti...          Κοινωνία   \n",
              "179  https://www.news247.gr/politiki/i-nea-kentriki...          Πολιτική   \n",
              "\n",
              "                                        Image alt text  \\\n",
              "1                                               Καιρός   \n",
              "19          Κίνηση στο αεροδρόμιο Ελευθέριος Βενιζέλος   \n",
              "30                             Ο Βαγγέλης Παπαθανασίου   \n",
              "36   Κικίλιας: Αύξηση κατά 40% των τουριστικών ροών...   \n",
              "50   ΠΟΜΙΔΑ: Αντισυνταγματικές οι επιβαρύνσεις του ...   \n",
              "59   Τι θα δούμε το φετινό καλοκαίρι στον Κήπο του ...   \n",
              "96   Στο Ίνκουμπους του Βαγγέλη Γιαννίση, η καταιγι...   \n",
              "106  Γερμανικό Eurofighter Typhoon jet στη δύναμη τ...   \n",
              "108  Μαγνητικά Πεδία: Πώς παραλίγο να μην γυριστεί ...   \n",
              "113                                        Αστυνομικοί   \n",
              "119                                                NaN   \n",
              "129  Ο Νίκος Καραθάνος πρωταγωνιστεί στην παράσταση...   \n",
              "137  Το εμβληματικό κείμενο της «Πανούκλας» του Καμ...   \n",
              "139                   Τεχνη στους δρόμους του Παρισιού   \n",
              "140                                             Εφορία   \n",
              "142  ΣΥΡΙΖΑ: Απέτυχε (και) στις ΗΠΑ η πολιτική του ...   \n",
              "143                             Ασθενής σε νοσοκομείο    \n",
              "144                                   Ευρωπαϊκή Ένωση    \n",
              "146  Οι ταινίες της εβδομάδας: “Μαγνητικά Πεδία” ή ...   \n",
              "147    Φινλανδία - Σουηδία: Το τέλος της ουδετερότητας   \n",
              "148                                            Μύκονος   \n",
              "149                                             Καιρός   \n",
              "155                              Κακοκαιρία στην Αθήνα   \n",
              "159                                             Δίρφυς   \n",
              "179                                         Αχτσιόγλου   \n",
              "\n",
              "                                             Image url  \\\n",
              "1    https://www.news247.gr/img/7616/9637180/872000...   \n",
              "19   https://www.news247.gr/img/6912/9636509/294000...   \n",
              "30   https://www.news247.gr/img/4473/9636912/750000...   \n",
              "36   https://www.news247.gr/img/4943/9636784/877000...   \n",
              "50   https://www.news247.gr/img/6059/9636431/246000...   \n",
              "59   https://www.news247.gr/img/3722/9636397/396000...   \n",
              "96   https://www.news247.gr/img/5410/9635082/414000...   \n",
              "106  https://www.news247.gr/img/522/9636113/020000/...   \n",
              "108  https://www.news247.gr/img/2256/9635849/265000...   \n",
              "113  https://www.news247.gr/img/8854/9636546/143000...   \n",
              "119                                                NaN   \n",
              "129  https://www.news247.gr/img/5195/9635270/618000...   \n",
              "137  https://www.news247.gr/img/2949/9632985/404000...   \n",
              "139  https://www.news247.gr/img/2331/9635141/156000...   \n",
              "140  https://www.news247.gr/img/5115/9635865/816000...   \n",
              "142  https://www.news247.gr/img/2952/9635723/685000...   \n",
              "143  https://www.news247.gr/img/6455/9445924/380000...   \n",
              "144  https://www.news247.gr/img/8449/9635717/537000...   \n",
              "146  https://www.news247.gr/img/3833/9424983/101000...   \n",
              "147  https://www.news247.gr/img/6958/9635597/444000...   \n",
              "148  https://www.news247.gr/img/9478/9635558/188000...   \n",
              "149  https://www.news247.gr/img/7982/9635822/929000...   \n",
              "155  https://www.news247.gr/img/8690/9635773/639000...   \n",
              "159  https://www.news247.gr/img/5020/9635690/177000...   \n",
              "179  https://www.news247.gr/img/6002/9635492/333000...   \n",
              "\n",
              "                                                  Lead          Datetime  \\\n",
              "1    Η θερμοκρασία θα ανέβει έως τους 26 βαθμούς Κε...  2022-05-19 22:55   \n",
              "19   Δεύτερο δρομολόγιο προς Ολλανδία από την AEGEA...  2022-05-19 20:53   \n",
              "30   Οι πολυδιάστατες ονειρικές ηλεκτρονικές συνθέσ...  2022-05-19 19:48   \n",
              "36   Αποστολή στο Βελιγράδι πραγματοποιεί ο έλληνας...  2022-05-19 19:08   \n",
              "50   Η ΠΟΜΙΔΑ ενημερώνει τους ιδιοκτήτες ακινήτων π...  2022-05-19 17:20   \n",
              "59   Ξανανταμώνουμε καθισμένοι στο γρασίδι πάνω σε ...  2022-05-19 16:37   \n",
              "96   Ο Ελληνοσουηδός επιθεωρητής Άντερς Οικονομίδης...  2022-05-19 13:09   \n",
              "106  Η \"βίαιη\" απεξάρτηση από τη ρωσική ενέργεια αν...  2022-05-19 12:01   \n",
              "108  Η πρωταγωνίστρια Έλενα Τοπαλίδου, ο σκηνοθέτης...  2022-05-19 11:51   \n",
              "113  Πώς από μάρτυρας περιστατικού αστυνομικής βίας...  2022-05-19 11:24   \n",
              "119                                    Best of Network  2022-05-19 10:26   \n",
              "129  Ο Νίκος Καραθάνος μιλά στο Magazine με αφορμή ...  2022-05-19 09:00   \n",
              "137  Η σκηνοθέτιδα Πηνελόπη Φλουρή μιλά στο NEWS 24...  2022-05-19 07:00   \n",
              "139  Ειδικοί μελέτησαν 17 σημεία σε όλες τις ΗΠΑ στ...  2022-05-19 06:50   \n",
              "140  Οι φορολογούμενοι πολίτες, πλέον, ζουν στην \"π...  2022-05-19 06:43   \n",
              "142  Τι εκτιμούν στην αξιωματική αντιπολίτευση για ...  2022-05-19 06:34   \n",
              "143  Περί τα 3 εκατομμύρια Έλληνες νοσήσαμε με κορο...  2022-05-19 06:26   \n",
              "144  Τραπεζικά στελέχη διευκρινίζουν ότι στην πράξη...  2022-05-19 06:20   \n",
              "146  Κάθε Πέμπτη ο Θοδωρής Δημητρόπουλος βλέπει και...  2022-05-19 06:12   \n",
              "147  Ο διεθνολόγος Νίκος Λυσιγάκης γράφει για την α...  2022-05-19 06:08   \n",
              "148  Τα ζητήματα που απασχολούν τα ελληνικά ξενοδοχ...  2022-05-19 06:05   \n",
              "149  Βαθμιαία βελτίωση του καιρού με εξασθένηση ανέ...  2022-05-19 06:02   \n",
              "155  Αρχικά βροχές και καταιγίδες στα ανατολικά, αλ...  2022-05-19 00:51   \n",
              "159  Ένας άνδρας, πιθανότατα ηλικιωμένος, τηλεφώνησ...  2022-05-18 23:29   \n",
              "179  Στην πρώτη θέση για την Περιφέρεια Αττικής εκλ...  2022-05-18 19:13   \n",
              "\n",
              "                                                  Body  \\\n",
              "1    Την Παρασκευή στις Κυκλάδες, την Κρήτη και τα ...   \n",
              "19   «Ανεβάζει ταχύτητες» η εισερχόμενη τουριστική ...   \n",
              "30   Ήταν ένας από τους τελευταίους μεγάλους Έλληνε...   \n",
              "36   Το έντονο ενδιαφέρον των Σέρβων ταξιδιωτών για...   \n",
              "50   \"Άδικη αλλά και αντισυνταγματική είναι η διπλή...   \n",
              "59   Ο Κήπος του Μεγάρου Μουσικής Αθηνών φωτίζεται ...   \n",
              "96    «Πιστεύετε ότι έκανε κακό σε εκείνες τις κοπέ...   \n",
              "106  Οι γεωπολιτικοί και οικονομικοί συσχετισμοί πο...   \n",
              "108  Για κάτι λίγες στιγμές, εκεί λίγο πριν την Πρω...   \n",
              "113  Στην Ελλάδα μπορείς να βρεθείς από τη μία στιγ...   \n",
              "119  Κάνε εγγραφή στο Podcast του Λάκη Λαζόπουλου σ...   \n",
              "129  Ο Νίκος Καραθάνος και η Λένα Κιτσοπούλου μπήκα...   \n",
              "137  Το εμβληματικό κείμενο της «Πανούκλας» του Καμ...   \n",
              "139  Η τέχνη κάνει πιο ασφαλείς τους δρόμους «αυξάν...   \n",
              "140  Σε λίγες μέρες οι πολίτες θα πρέπει να ξεκινήσ...   \n",
              "142  Τις επόμενες ημέρες ο Κυριάκος Μητσοτάκης και ...   \n",
              "143  Τις επιπτώσεις από την νόσηση με κορονοϊό στον...   \n",
              "144  Αιτήματα για δάνεια από το πρόγραμμα «Ελλάδα 2...   \n",
              "146  Οι ταινίες της εβδομάδας: (Γιώργος Γούσης, 1ω1...   \n",
              "147  Είναι γεγονός πως η Φινλανδία και η Σουηδία απ...   \n",
              "148  Αυξημένο κατά 25-30% είναι αυτή τη στιγμή το λ...   \n",
              "149  Σήμερα Πέμπτη στη κεντρική Μακεδονία, τη Θεσσα...   \n",
              "155  Την Πέμπτη στη κεντρική Μακεδονία, τη Θεσσαλία...   \n",
              "159  Συναγερμός σήμανε στις αρχές των ΠΥ και Αστυνο...   \n",
              "179  Ανακοινώθηκαν σήμερα από την Κεντρική Εφορευτι...   \n",
              "\n",
              "                                                Author  \n",
              "1                                      Θοδωρής Κολυδάς  \n",
              "19                                     Βίκη  Βαμιεδάκη  \n",
              "30                            Χριστίνα Τσατσαράγκου...  \n",
              "36                                     Βίκη  Βαμιεδάκη  \n",
              "50                                    Γιώργος Αλεξάκης  \n",
              "59                                   Γεωργία Οικονόμου  \n",
              "96                                    Γιώργος Ρομπόλας  \n",
              "106                                Βαγγέλης Βιτζηλαίος  \n",
              "108                              Θοδωρής Δημητρόπουλος  \n",
              "113                                 Νίκος Γιαννόπουλος  \n",
              "119                                   Λάκης Λαζόπουλος  \n",
              "129                                  Γεωργία Οικονόμου  \n",
              "137                                  Γεωργία Οικονόμου  \n",
              "139                                  Γεωργία Οικονόμου  \n",
              "140                                   Γιώργος Αλεξάκης  \n",
              "142                               Γεράσιμος Λιβιτσάνος  \n",
              "143                                     Γιώργος Σακκάς  \n",
              "144                                Κώστας Παπαγρηγόρης  \n",
              "146                              Θοδωρής Δημητρόπουλος  \n",
              "147                                    Νίκος Λυσιγάκης  \n",
              "148                                    Βίκη  Βαμιεδάκη  \n",
              "149                                    Θοδωρής Κολυδάς  \n",
              "155                                    Θοδωρής Κολυδάς  \n",
              "159                                      Εβελίνα Μάνου  \n",
              "179                               Γεράσιμος Λιβιτσάνος  "
            ],
            "text/html": [
              "\n",
              "  <div id=\"df-73222631-7f4e-4a92-8b37-17b442e504cb\">\n",
              "    <div class=\"colab-df-container\">\n",
              "      <div>\n",
              "<style scoped>\n",
              "    .dataframe tbody tr th:only-of-type {\n",
              "        vertical-align: middle;\n",
              "    }\n",
              "\n",
              "    .dataframe tbody tr th {\n",
              "        vertical-align: top;\n",
              "    }\n",
              "\n",
              "    .dataframe thead th {\n",
              "        text-align: right;\n",
              "    }\n",
              "</style>\n",
              "<table border=\"1\" class=\"dataframe\">\n",
              "  <thead>\n",
              "    <tr style=\"text-align: right;\">\n",
              "      <th></th>\n",
              "      <th>Title</th>\n",
              "      <th>Article url</th>\n",
              "      <th>Section</th>\n",
              "      <th>Image alt text</th>\n",
              "      <th>Image url</th>\n",
              "      <th>Lead</th>\n",
              "      <th>Datetime</th>\n",
              "      <th>Body</th>\n",
              "      <th>Author</th>\n",
              "    </tr>\n",
              "  </thead>\n",
              "  <tbody>\n",
              "    <tr>\n",
              "      <th>1</th>\n",
              "      <td>Καιρός: Βελτιωμένος στις περισσότερες περιοχές...</td>\n",
              "      <td>https://www.news247.gr/kairos/kairos-veltiomen...</td>\n",
              "      <td>Καιρός</td>\n",
              "      <td>Καιρός</td>\n",
              "      <td>https://www.news247.gr/img/7616/9637180/872000...</td>\n",
              "      <td>Η θερμοκρασία θα ανέβει έως τους 26 βαθμούς Κε...</td>\n",
              "      <td>2022-05-19 22:55</td>\n",
              "      <td>Την Παρασκευή στις Κυκλάδες, την Κρήτη και τα ...</td>\n",
              "      <td>Θοδωρής Κολυδάς</td>\n",
              "    </tr>\n",
              "    <tr>\n",
              "      <th>19</th>\n",
              "      <td>Αυξημένο ενδιαφέρον από Ολλανδούς τουρίστες - ...</td>\n",
              "      <td>https://www.news247.gr/tourismos/ayximeno-endi...</td>\n",
              "      <td>Τουρισμός</td>\n",
              "      <td>Κίνηση στο αεροδρόμιο Ελευθέριος Βενιζέλος</td>\n",
              "      <td>https://www.news247.gr/img/6912/9636509/294000...</td>\n",
              "      <td>Δεύτερο δρομολόγιο προς Ολλανδία από την AEGEA...</td>\n",
              "      <td>2022-05-19 20:53</td>\n",
              "      <td>«Ανεβάζει ταχύτητες» η εισερχόμενη τουριστική ...</td>\n",
              "      <td>Βίκη  Βαμιεδάκη</td>\n",
              "    </tr>\n",
              "    <tr>\n",
              "      <th>30</th>\n",
              "      <td>15 πράγματα που δε γνωρίζαμε για τον σπουδαίο ...</td>\n",
              "      <td>https://www.news247.gr/politismos/mousiki/15-p...</td>\n",
              "      <td>Μουσική</td>\n",
              "      <td>Ο Βαγγέλης Παπαθανασίου</td>\n",
              "      <td>https://www.news247.gr/img/4473/9636912/750000...</td>\n",
              "      <td>Οι πολυδιάστατες ονειρικές ηλεκτρονικές συνθέσ...</td>\n",
              "      <td>2022-05-19 19:48</td>\n",
              "      <td>Ήταν ένας από τους τελευταίους μεγάλους Έλληνε...</td>\n",
              "      <td>Χριστίνα Τσατσαράγκου...</td>\n",
              "    </tr>\n",
              "    <tr>\n",
              "      <th>36</th>\n",
              "      <td>Κικίλιας: Αύξηση κατά 40% των τουριστικών ροών...</td>\n",
              "      <td>https://www.news247.gr/tourismos/kikilias-ayxi...</td>\n",
              "      <td>Τουρισμός</td>\n",
              "      <td>Κικίλιας: Αύξηση κατά 40% των τουριστικών ροών...</td>\n",
              "      <td>https://www.news247.gr/img/4943/9636784/877000...</td>\n",
              "      <td>Αποστολή στο Βελιγράδι πραγματοποιεί ο έλληνας...</td>\n",
              "      <td>2022-05-19 19:08</td>\n",
              "      <td>Το έντονο ενδιαφέρον των Σέρβων ταξιδιωτών για...</td>\n",
              "      <td>Βίκη  Βαμιεδάκη</td>\n",
              "    </tr>\n",
              "    <tr>\n",
              "      <th>50</th>\n",
              "      <td>ΠΟΜΙΔΑ: Αντισυνταγματικές οι επιβαρύνσεις του ...</td>\n",
              "      <td>https://www.news247.gr/oikonomia/pomida-antisy...</td>\n",
              "      <td>Οικονομία</td>\n",
              "      <td>ΠΟΜΙΔΑ: Αντισυνταγματικές οι επιβαρύνσεις του ...</td>\n",
              "      <td>https://www.news247.gr/img/6059/9636431/246000...</td>\n",
              "      <td>Η ΠΟΜΙΔΑ ενημερώνει τους ιδιοκτήτες ακινήτων π...</td>\n",
              "      <td>2022-05-19 17:20</td>\n",
              "      <td>\"Άδικη αλλά και αντισυνταγματική είναι η διπλή...</td>\n",
              "      <td>Γιώργος Αλεξάκης</td>\n",
              "    </tr>\n",
              "    <tr>\n",
              "      <th>59</th>\n",
              "      <td>Τι θα δούμε το φετινό καλοκαίρι στον Κήπο του ...</td>\n",
              "      <td>https://www.news247.gr/politismos/ti-tha-doyme...</td>\n",
              "      <td>Πολιτισμός</td>\n",
              "      <td>Τι θα δούμε το φετινό καλοκαίρι στον Κήπο του ...</td>\n",
              "      <td>https://www.news247.gr/img/3722/9636397/396000...</td>\n",
              "      <td>Ξανανταμώνουμε καθισμένοι στο γρασίδι πάνω σε ...</td>\n",
              "      <td>2022-05-19 16:37</td>\n",
              "      <td>Ο Κήπος του Μεγάρου Μουσικής Αθηνών φωτίζεται ...</td>\n",
              "      <td>Γεωργία Οικονόμου</td>\n",
              "    </tr>\n",
              "    <tr>\n",
              "      <th>96</th>\n",
              "      <td>Στο Ίνκουμπους του Βαγγέλη Γιαννίση, η καταιγι...</td>\n",
              "      <td>https://www.news247.gr/politismos/vivlia/sto-i...</td>\n",
              "      <td>Βιβλία</td>\n",
              "      <td>Στο Ίνκουμπους του Βαγγέλη Γιαννίση, η καταιγι...</td>\n",
              "      <td>https://www.news247.gr/img/5410/9635082/414000...</td>\n",
              "      <td>Ο Ελληνοσουηδός επιθεωρητής Άντερς Οικονομίδης...</td>\n",
              "      <td>2022-05-19 13:09</td>\n",
              "      <td>«Πιστεύετε ότι έκανε κακό σε εκείνες τις κοπέ...</td>\n",
              "      <td>Γιώργος Ρομπόλας</td>\n",
              "    </tr>\n",
              "    <tr>\n",
              "      <th>106</th>\n",
              "      <td>Δύο στρατηγικές παγίδες για την Ευρώπη - Μιλιτ...</td>\n",
              "      <td>https://www.news247.gr/politiki/dyo-stratigike...</td>\n",
              "      <td>Πολιτική</td>\n",
              "      <td>Γερμανικό Eurofighter Typhoon jet στη δύναμη τ...</td>\n",
              "      <td>https://www.news247.gr/img/522/9636113/020000/...</td>\n",
              "      <td>Η \"βίαιη\" απεξάρτηση από τη ρωσική ενέργεια αν...</td>\n",
              "      <td>2022-05-19 12:01</td>\n",
              "      <td>Οι γεωπολιτικοί και οικονομικοί συσχετισμοί πο...</td>\n",
              "      <td>Βαγγέλης Βιτζηλαίος</td>\n",
              "    </tr>\n",
              "    <tr>\n",
              "      <th>108</th>\n",
              "      <td>Μαγνητικά Πεδία: Πώς παραλίγο να μην γυριστεί ...</td>\n",
              "      <td>https://www.news247.gr/sunday-edition/magnitik...</td>\n",
              "      <td>Sunday Edition</td>\n",
              "      <td>Μαγνητικά Πεδία: Πώς παραλίγο να μην γυριστεί ...</td>\n",
              "      <td>https://www.news247.gr/img/2256/9635849/265000...</td>\n",
              "      <td>Η πρωταγωνίστρια Έλενα Τοπαλίδου, ο σκηνοθέτης...</td>\n",
              "      <td>2022-05-19 11:51</td>\n",
              "      <td>Για κάτι λίγες στιγμές, εκεί λίγο πριν την Πρω...</td>\n",
              "      <td>Θοδωρής Δημητρόπουλος</td>\n",
              "    </tr>\n",
              "    <tr>\n",
              "      <th>113</th>\n",
              "      <td>Αδιανόητο: Αποκάλεσε αστυνομικό \"καραφλό\" και ...</td>\n",
              "      <td>https://www.news247.gr/koinonia/adianoito-apok...</td>\n",
              "      <td>Κοινωνία</td>\n",
              "      <td>Αστυνομικοί</td>\n",
              "      <td>https://www.news247.gr/img/8854/9636546/143000...</td>\n",
              "      <td>Πώς από μάρτυρας περιστατικού αστυνομικής βίας...</td>\n",
              "      <td>2022-05-19 11:24</td>\n",
              "      <td>Στην Ελλάδα μπορείς να βρεθείς από τη μία στιγ...</td>\n",
              "      <td>Νίκος Γιαννόπουλος</td>\n",
              "    </tr>\n",
              "    <tr>\n",
              "      <th>119</th>\n",
              "      <td>Στο Στόμα του Λάκη - Podcast: Ο \"Σαντάμ\" Μητσο...</td>\n",
              "      <td>https://www.news247.gr/lakis-lazopoulos/sto-st...</td>\n",
              "      <td>Λάκης Λαζόπουλος</td>\n",
              "      <td>NaN</td>\n",
              "      <td>NaN</td>\n",
              "      <td>Best of Network</td>\n",
              "      <td>2022-05-19 10:26</td>\n",
              "      <td>Κάνε εγγραφή στο Podcast του Λάκη Λαζόπουλου σ...</td>\n",
              "      <td>Λάκης Λαζόπουλος</td>\n",
              "    </tr>\n",
              "    <tr>\n",
              "      <th>129</th>\n",
              "      <td>Νίκος Καραθάνος: \"Τα μεγαλύτερα ναρκωτικά είμα...</td>\n",
              "      <td>https://www.news247.gr/sunday-edition/nikos-ka...</td>\n",
              "      <td>Sunday Edition</td>\n",
              "      <td>Ο Νίκος Καραθάνος πρωταγωνιστεί στην παράσταση...</td>\n",
              "      <td>https://www.news247.gr/img/5195/9635270/618000...</td>\n",
              "      <td>Ο Νίκος Καραθάνος μιλά στο Magazine με αφορμή ...</td>\n",
              "      <td>2022-05-19 09:00</td>\n",
              "      <td>Ο Νίκος Καραθάνος και η Λένα Κιτσοπούλου μπήκα...</td>\n",
              "      <td>Γεωργία Οικονόμου</td>\n",
              "    </tr>\n",
              "    <tr>\n",
              "      <th>137</th>\n",
              "      <td>Το σώμα μέσα σε μία χορογραφία ζωής και θανάτο...</td>\n",
              "      <td>https://www.news247.gr/politismos/to-soma-mesa...</td>\n",
              "      <td>Πολιτισμός</td>\n",
              "      <td>Το εμβληματικό κείμενο της «Πανούκλας» του Καμ...</td>\n",
              "      <td>https://www.news247.gr/img/2949/9632985/404000...</td>\n",
              "      <td>Η σκηνοθέτιδα Πηνελόπη Φλουρή μιλά στο NEWS 24...</td>\n",
              "      <td>2022-05-19 07:00</td>\n",
              "      <td>Το εμβληματικό κείμενο της «Πανούκλας» του Καμ...</td>\n",
              "      <td>Γεωργία Οικονόμου</td>\n",
              "    </tr>\n",
              "    <tr>\n",
              "      <th>139</th>\n",
              "      <td>Κι όμως, έρευνα αποδεικνύει πως η τέχνη κάνει ...</td>\n",
              "      <td>https://www.news247.gr/politismos/city-culture...</td>\n",
              "      <td>City Culture</td>\n",
              "      <td>Τεχνη στους δρόμους του Παρισιού</td>\n",
              "      <td>https://www.news247.gr/img/2331/9635141/156000...</td>\n",
              "      <td>Ειδικοί μελέτησαν 17 σημεία σε όλες τις ΗΠΑ στ...</td>\n",
              "      <td>2022-05-19 06:50</td>\n",
              "      <td>Η τέχνη κάνει πιο ασφαλείς τους δρόμους «αυξάν...</td>\n",
              "      <td>Γεωργία Οικονόμου</td>\n",
              "    </tr>\n",
              "    <tr>\n",
              "      <th>140</th>\n",
              "      <td>Στον \"αστερισμό\" των δόσεων οι πολίτες - Τι πλ...</td>\n",
              "      <td>https://www.news247.gr/oikonomia/ston-asterism...</td>\n",
              "      <td>Οικονομία</td>\n",
              "      <td>Εφορία</td>\n",
              "      <td>https://www.news247.gr/img/5115/9635865/816000...</td>\n",
              "      <td>Οι φορολογούμενοι πολίτες, πλέον, ζουν στην \"π...</td>\n",
              "      <td>2022-05-19 06:43</td>\n",
              "      <td>Σε λίγες μέρες οι πολίτες θα πρέπει να ξεκινήσ...</td>\n",
              "      <td>Γιώργος Αλεξάκης</td>\n",
              "    </tr>\n",
              "    <tr>\n",
              "      <th>142</th>\n",
              "      <td>ΣΥΡΙΖΑ: Απέτυχε (και) στις ΗΠΑ η πολιτική του ...</td>\n",
              "      <td>https://www.news247.gr/politiki/syriza-apetych...</td>\n",
              "      <td>Πολιτική</td>\n",
              "      <td>ΣΥΡΙΖΑ: Απέτυχε (και) στις ΗΠΑ η πολιτική του ...</td>\n",
              "      <td>https://www.news247.gr/img/2952/9635723/685000...</td>\n",
              "      <td>Τι εκτιμούν στην αξιωματική αντιπολίτευση για ...</td>\n",
              "      <td>2022-05-19 06:34</td>\n",
              "      <td>Τις επόμενες ημέρες ο Κυριάκος Μητσοτάκης και ...</td>\n",
              "      <td>Γεράσιμος Λιβιτσάνος</td>\n",
              "    </tr>\n",
              "    <tr>\n",
              "      <th>143</th>\n",
              "      <td>Κορονοϊός: Περισσότεροι από 350 χιλιάδες Έλλην...</td>\n",
              "      <td>https://www.news247.gr/ygeia/koronoios-perisso...</td>\n",
              "      <td>Υγεία</td>\n",
              "      <td>Ασθενής σε νοσοκομείο</td>\n",
              "      <td>https://www.news247.gr/img/6455/9445924/380000...</td>\n",
              "      <td>Περί τα 3 εκατομμύρια Έλληνες νοσήσαμε με κορο...</td>\n",
              "      <td>2022-05-19 06:26</td>\n",
              "      <td>Τις επιπτώσεις από την νόσηση με κορονοϊό στον...</td>\n",
              "      <td>Γιώργος Σακκάς</td>\n",
              "    </tr>\n",
              "    <tr>\n",
              "      <th>144</th>\n",
              "      <td>Τράπεζες: Στο μικροσκόπιο επενδύσεις 3 δις του...</td>\n",
              "      <td>https://www.news247.gr/oikonomia/trapezes-sto-...</td>\n",
              "      <td>Οικονομία</td>\n",
              "      <td>Ευρωπαϊκή Ένωση</td>\n",
              "      <td>https://www.news247.gr/img/8449/9635717/537000...</td>\n",
              "      <td>Τραπεζικά στελέχη διευκρινίζουν ότι στην πράξη...</td>\n",
              "      <td>2022-05-19 06:20</td>\n",
              "      <td>Αιτήματα για δάνεια από το πρόγραμμα «Ελλάδα 2...</td>\n",
              "      <td>Κώστας Παπαγρηγόρης</td>\n",
              "    </tr>\n",
              "    <tr>\n",
              "      <th>146</th>\n",
              "      <td>Οι ταινίες της εβδομάδας: “Μαγνητικά Πεδία” ή ...</td>\n",
              "      <td>https://www.news247.gr/politismos/cinema/oi-ta...</td>\n",
              "      <td>Σινεμά</td>\n",
              "      <td>Οι ταινίες της εβδομάδας: “Μαγνητικά Πεδία” ή ...</td>\n",
              "      <td>https://www.news247.gr/img/3833/9424983/101000...</td>\n",
              "      <td>Κάθε Πέμπτη ο Θοδωρής Δημητρόπουλος βλέπει και...</td>\n",
              "      <td>2022-05-19 06:12</td>\n",
              "      <td>Οι ταινίες της εβδομάδας: (Γιώργος Γούσης, 1ω1...</td>\n",
              "      <td>Θοδωρής Δημητρόπουλος</td>\n",
              "    </tr>\n",
              "    <tr>\n",
              "      <th>147</th>\n",
              "      <td>Φινλανδία - Σουηδία: Το τέλος της ουδετερότητας</td>\n",
              "      <td>https://www.news247.gr/kosmos/finlandia-soyidi...</td>\n",
              "      <td>Κόσμος</td>\n",
              "      <td>Φινλανδία - Σουηδία: Το τέλος της ουδετερότητας</td>\n",
              "      <td>https://www.news247.gr/img/6958/9635597/444000...</td>\n",
              "      <td>Ο διεθνολόγος Νίκος Λυσιγάκης γράφει για την α...</td>\n",
              "      <td>2022-05-19 06:08</td>\n",
              "      <td>Είναι γεγονός πως η Φινλανδία και η Σουηδία απ...</td>\n",
              "      <td>Νίκος Λυσιγάκης</td>\n",
              "    </tr>\n",
              "    <tr>\n",
              "      <th>148</th>\n",
              "      <td>Έλληνες ξενοδόχοι: Παραμορφωτικός ο καθρέπτης ...</td>\n",
              "      <td>https://www.news247.gr/tourismos/ellines-xenod...</td>\n",
              "      <td>Τουρισμός</td>\n",
              "      <td>Μύκονος</td>\n",
              "      <td>https://www.news247.gr/img/9478/9635558/188000...</td>\n",
              "      <td>Τα ζητήματα που απασχολούν τα ελληνικά ξενοδοχ...</td>\n",
              "      <td>2022-05-19 06:05</td>\n",
              "      <td>Αυξημένο κατά 25-30% είναι αυτή τη στιγμή το λ...</td>\n",
              "      <td>Βίκη  Βαμιεδάκη</td>\n",
              "    </tr>\n",
              "    <tr>\n",
              "      <th>149</th>\n",
              "      <td>Καιρός: Άνοδος της θερμοκρασίας το Σαββατοκύριακο</td>\n",
              "      <td>https://www.news247.gr/kairos/kairos-anodos-ti...</td>\n",
              "      <td>Καιρός</td>\n",
              "      <td>Καιρός</td>\n",
              "      <td>https://www.news247.gr/img/7982/9635822/929000...</td>\n",
              "      <td>Βαθμιαία βελτίωση του καιρού με εξασθένηση ανέ...</td>\n",
              "      <td>2022-05-19 06:02</td>\n",
              "      <td>Σήμερα Πέμπτη στη κεντρική Μακεδονία, τη Θεσσα...</td>\n",
              "      <td>Θοδωρής Κολυδάς</td>\n",
              "    </tr>\n",
              "    <tr>\n",
              "      <th>155</th>\n",
              "      <td>Καιρός: Σταδιακή βελτίωση από το μεσημέρι της ...</td>\n",
              "      <td>https://www.news247.gr/kairos/kairos-stadiaki-...</td>\n",
              "      <td>Καιρός</td>\n",
              "      <td>Κακοκαιρία στην Αθήνα</td>\n",
              "      <td>https://www.news247.gr/img/8690/9635773/639000...</td>\n",
              "      <td>Αρχικά βροχές και καταιγίδες στα ανατολικά, αλ...</td>\n",
              "      <td>2022-05-19 00:51</td>\n",
              "      <td>Την Πέμπτη στη κεντρική Μακεδονία, τη Θεσσαλία...</td>\n",
              "      <td>Θοδωρής Κολυδάς</td>\n",
              "    </tr>\n",
              "    <tr>\n",
              "      <th>159</th>\n",
              "      <td>Συναγερμός στην Εύβοια: Χάθηκε άνδρας στη Δίρφ...</td>\n",
              "      <td>https://www.news247.gr/koinonia/synagermos-sti...</td>\n",
              "      <td>Κοινωνία</td>\n",
              "      <td>Δίρφυς</td>\n",
              "      <td>https://www.news247.gr/img/5020/9635690/177000...</td>\n",
              "      <td>Ένας άνδρας, πιθανότατα ηλικιωμένος, τηλεφώνησ...</td>\n",
              "      <td>2022-05-18 23:29</td>\n",
              "      <td>Συναγερμός σήμανε στις αρχές των ΠΥ και Αστυνο...</td>\n",
              "      <td>Εβελίνα Μάνου</td>\n",
              "    </tr>\n",
              "    <tr>\n",
              "      <th>179</th>\n",
              "      <td>Η νέα Κεντρική Επιτροπή του ΣΥΡΙΖΑ</td>\n",
              "      <td>https://www.news247.gr/politiki/i-nea-kentriki...</td>\n",
              "      <td>Πολιτική</td>\n",
              "      <td>Αχτσιόγλου</td>\n",
              "      <td>https://www.news247.gr/img/6002/9635492/333000...</td>\n",
              "      <td>Στην πρώτη θέση για την Περιφέρεια Αττικής εκλ...</td>\n",
              "      <td>2022-05-18 19:13</td>\n",
              "      <td>Ανακοινώθηκαν σήμερα από την Κεντρική Εφορευτι...</td>\n",
              "      <td>Γεράσιμος Λιβιτσάνος</td>\n",
              "    </tr>\n",
              "  </tbody>\n",
              "</table>\n",
              "</div>\n",
              "      <button class=\"colab-df-convert\" onclick=\"convertToInteractive('df-73222631-7f4e-4a92-8b37-17b442e504cb')\"\n",
              "              title=\"Convert this dataframe to an interactive table.\"\n",
              "              style=\"display:none;\">\n",
              "        \n",
              "  <svg xmlns=\"http://www.w3.org/2000/svg\" height=\"24px\"viewBox=\"0 0 24 24\"\n",
              "       width=\"24px\">\n",
              "    <path d=\"M0 0h24v24H0V0z\" fill=\"none\"/>\n",
              "    <path d=\"M18.56 5.44l.94 2.06.94-2.06 2.06-.94-2.06-.94-.94-2.06-.94 2.06-2.06.94zm-11 1L8.5 8.5l.94-2.06 2.06-.94-2.06-.94L8.5 2.5l-.94 2.06-2.06.94zm10 10l.94 2.06.94-2.06 2.06-.94-2.06-.94-.94-2.06-.94 2.06-2.06.94z\"/><path d=\"M17.41 7.96l-1.37-1.37c-.4-.4-.92-.59-1.43-.59-.52 0-1.04.2-1.43.59L10.3 9.45l-7.72 7.72c-.78.78-.78 2.05 0 2.83L4 21.41c.39.39.9.59 1.41.59.51 0 1.02-.2 1.41-.59l7.78-7.78 2.81-2.81c.8-.78.8-2.07 0-2.86zM5.41 20L4 18.59l7.72-7.72 1.47 1.35L5.41 20z\"/>\n",
              "  </svg>\n",
              "      </button>\n",
              "      \n",
              "  <style>\n",
              "    .colab-df-container {\n",
              "      display:flex;\n",
              "      flex-wrap:wrap;\n",
              "      gap: 12px;\n",
              "    }\n",
              "\n",
              "    .colab-df-convert {\n",
              "      background-color: #E8F0FE;\n",
              "      border: none;\n",
              "      border-radius: 50%;\n",
              "      cursor: pointer;\n",
              "      display: none;\n",
              "      fill: #1967D2;\n",
              "      height: 32px;\n",
              "      padding: 0 0 0 0;\n",
              "      width: 32px;\n",
              "    }\n",
              "\n",
              "    .colab-df-convert:hover {\n",
              "      background-color: #E2EBFA;\n",
              "      box-shadow: 0px 1px 2px rgba(60, 64, 67, 0.3), 0px 1px 3px 1px rgba(60, 64, 67, 0.15);\n",
              "      fill: #174EA6;\n",
              "    }\n",
              "\n",
              "    [theme=dark] .colab-df-convert {\n",
              "      background-color: #3B4455;\n",
              "      fill: #D2E3FC;\n",
              "    }\n",
              "\n",
              "    [theme=dark] .colab-df-convert:hover {\n",
              "      background-color: #434B5C;\n",
              "      box-shadow: 0px 1px 3px 1px rgba(0, 0, 0, 0.15);\n",
              "      filter: drop-shadow(0px 1px 2px rgba(0, 0, 0, 0.3));\n",
              "      fill: #FFFFFF;\n",
              "    }\n",
              "  </style>\n",
              "\n",
              "      <script>\n",
              "        const buttonEl =\n",
              "          document.querySelector('#df-73222631-7f4e-4a92-8b37-17b442e504cb button.colab-df-convert');\n",
              "        buttonEl.style.display =\n",
              "          google.colab.kernel.accessAllowed ? 'block' : 'none';\n",
              "\n",
              "        async function convertToInteractive(key) {\n",
              "          const element = document.querySelector('#df-73222631-7f4e-4a92-8b37-17b442e504cb');\n",
              "          const dataTable =\n",
              "            await google.colab.kernel.invokeFunction('convertToInteractive',\n",
              "                                                     [key], {});\n",
              "          if (!dataTable) return;\n",
              "\n",
              "          const docLinkHtml = 'Like what you see? Visit the ' +\n",
              "            '<a target=\"_blank\" href=https://colab.research.google.com/notebooks/data_table.ipynb>data table notebook</a>'\n",
              "            + ' to learn more about interactive tables.';\n",
              "          element.innerHTML = '';\n",
              "          dataTable['output_type'] = 'display_data';\n",
              "          await google.colab.output.renderOutput(dataTable, element);\n",
              "          const docLink = document.createElement('div');\n",
              "          docLink.innerHTML = docLinkHtml;\n",
              "          element.appendChild(docLink);\n",
              "        }\n",
              "      </script>\n",
              "    </div>\n",
              "  </div>\n",
              "  "
            ]
          },
          "metadata": {},
          "execution_count": 262
        }
      ]
    },
    {
      "cell_type": "code",
      "source": [
        "news247_latest_full_articles_df.groupby('Section').size()"
      ],
      "metadata": {
        "colab": {
          "base_uri": "https://localhost:8080/"
        },
        "id": "pPBs-uecFnF5",
        "outputId": "f5c05c4d-207e-42ef-c017-a851fe7db910"
      },
      "execution_count": null,
      "outputs": [
        {
          "output_type": "execute_result",
          "data": {
            "text/plain": [
              "Section\n",
              "Advertorial          4\n",
              "Celebrities          7\n",
              "New Articles         3\n",
              "Sunday Edition       4\n",
              "Έγκλημα              2\n",
              "Αθλητικά             4\n",
              "Βιβλία               1\n",
              "Γνώμες               3\n",
              "Επιστήμη             1\n",
              "Επιχειρήσεις         2\n",
              "Θέατρο               1\n",
              "Καιρός               3\n",
              "Κοινωνία            40\n",
              "Κόσμος              46\n",
              "Λάκης Λαζόπουλος     1\n",
              "Μουσική              7\n",
              "Οικονομία           10\n",
              "Πολιτική            26\n",
              "Πολιτισμός           2\n",
              "Σινεμά               2\n",
              "Τέχνες               1\n",
              "Ταξίδι               1\n",
              "Τηλεόραση           19\n",
              "Τουρισμός            4\n",
              "Υγεία                6\n",
              "dtype: int64"
            ]
          },
          "metadata": {},
          "execution_count": 57
        }
      ]
    },
    {
      "cell_type": "code",
      "source": [
        ""
      ],
      "metadata": {
        "id": "D0P4HGepDB4z"
      },
      "execution_count": null,
      "outputs": []
    },
    {
      "cell_type": "code",
      "source": [
        ""
      ],
      "metadata": {
        "id": "-YoYIyHwSUTX"
      },
      "execution_count": null,
      "outputs": []
    },
    {
      "cell_type": "code",
      "source": [
        ""
      ],
      "metadata": {
        "id": "tgCOEm3BYaWr"
      },
      "execution_count": null,
      "outputs": []
    },
    {
      "cell_type": "markdown",
      "source": [
        "\n",
        "\n",
        "---\n",
        "\n",
        "\n",
        "\n",
        "---\n",
        "\n"
      ],
      "metadata": {
        "id": "T3JYu3Smjnqt"
      }
    },
    {
      "cell_type": "markdown",
      "source": [
        "##**Στόχος 2**: Να φτιάξω κώδικα για εβδομαδιαία συλλογή άρθρων από το news247"
      ],
      "metadata": {
        "id": "yAUkFI-vjoST"
      }
    },
    {
      "cell_type": "markdown",
      "source": [
        "**Πώς θα το κάνω**:\n",
        "1. Θα μαζεύω τα δεδομένα των σελίδων με τα teaser articles και θα τα σώζω σε ένα dataframe και στη συνέχεια σε csv\n",
        "2. Θα συλλέγω όλα τα δεδομένα των ολόκληρων άρθρων (Τίτλος, εικόνα [alt και src], section, lead, body και author) και θα τα σώζω σε ένα dataframe και στη συνέχεια σε csv"
      ],
      "metadata": {
        "id": "mEfE9kmZmYPV"
      }
    },
    {
      "cell_type": "markdown",
      "source": [
        "##**news247 periodic scrapper**"
      ],
      "metadata": {
        "id": "yM8XR-xypLaP"
      }
    },
    {
      "cell_type": "markdown",
      "source": [
        "**Μεταβλητές που ΠΡΕΠΕΙ Nα συμπληρώνοται πάντα στην αρχή**"
      ],
      "metadata": {
        "id": "ZzqA609hoz9Z"
      }
    },
    {
      "cell_type": "code",
      "source": [
        "# ΗΜΕΡΟΜΗΝΙΑ scraping\n",
        "today = '2022-05-19'\n",
        "\n",
        "# ΠΟΣΩΝ ΗΜΕΡΩΝ ΑΡΘΡΑ ΘΕΛΩ ΝΑ ΦΕΡΩ\n",
        "days_to_scrape = "
      ],
      "metadata": {
        "id": "_-qjBXdFpHWg"
      },
      "execution_count": null,
      "outputs": []
    },
    {
      "cell_type": "markdown",
      "source": [
        "**Μεταβλητές που υπολογίζονται αυτόματα**"
      ],
      "metadata": {
        "id": "Y6wVrcu_prp7"
      }
    },
    {
      "cell_type": "code",
      "source": [
        "csv_name = 'news247_latest_' + today +'.csv'\n",
        "folder_path = 'gdrive/MyDrive/Colab Notebooks/Scraping/CSVs/news247.gr'\n",
        "csv_path_and_name = folder_path + '/' + csv_name\n",
        "\n",
        "last_page = days_to_scrape * 5"
      ],
      "metadata": {
        "id": "10kUOfWLp27v"
      },
      "execution_count": null,
      "outputs": []
    },
    {
      "cell_type": "markdown",
      "source": [
        "**Σύνδεση με το drive**"
      ],
      "metadata": {
        "id": "HFMtq4H4ucNj"
      }
    },
    {
      "cell_type": "code",
      "source": [
        "from google.colab import drive \n",
        "drive.mount('gdrive') "
      ],
      "metadata": {
        "colab": {
          "base_uri": "https://localhost:8080/"
        },
        "id": "sw7CHjDRrVG9",
        "outputId": "58e9a95e-63b2-4cb6-d52c-e5837f391465"
      },
      "execution_count": null,
      "outputs": [
        {
          "output_type": "stream",
          "name": "stdout",
          "text": [
            "Mounted at gdrive\n"
          ]
        }
      ]
    },
    {
      "cell_type": "markdown",
      "source": [
        "**Επισκόπηση περιεχομένων του drive**"
      ],
      "metadata": {
        "id": "Q7-MmGQ-uk6d"
      }
    },
    {
      "cell_type": "code",
      "source": [
        "ls 'gdrive/MyDrive/Colab Notebooks/Scraping/CSVs/news247.gr'"
      ],
      "metadata": {
        "id": "MmECVJKQrenV"
      },
      "execution_count": null,
      "outputs": []
    },
    {
      "cell_type": "markdown",
      "source": [
        "**Scraping code**"
      ],
      "metadata": {
        "id": "A11PzMWZwVmZ"
      }
    },
    {
      "cell_type": "code",
      "source": [
        "# Εισαγωγή βιβλιοθηκών\n",
        "import requests\n",
        "from bs4 import BeautifulSoup\n",
        "import pandas as pd\n",
        "import time\n",
        "\n",
        "main_url = \"https://www.news247.gr/latest/?pages=\" # το βασικό url των σελίδων με τα teaser articles\n",
        "\n",
        "teaser_soups_list = [] # δημιουργία κενής λίστας για την αποθήκευση όλων των html των σελίδων των κατηγοριών\n",
        "\n",
        "# Scraping των σελίδων Latest\n",
        "for i in range(1, last_page): \n",
        "  page_url = main_url + str(i) \n",
        "  page = requests.get(page_url) \n",
        "  teaser_soup = BeautifulSoup(page.text, 'html.parser') \n",
        "  print(f\"Now Scraping page: {i}\") \n",
        "  teaser_soups_list.append(teaser_soup) \n",
        "  time.sleep(2)\n",
        "\n",
        "# Συλλογή των δεδομένων των teaser articles\n",
        "teaser_articles_list = [] # δημιουργία κενής λίστας για την αποθήκευση όλων των λεξικών με τα δεδομένα κάθε teaser άρθρου\n",
        "for teaser_soup in teaser_soups_list:\n",
        "  teaser_articles = teaser_soup.find_all('article', {'class': 'teaser__article article article_left '})\n",
        "  for teaser_article in teaser_articles:\n",
        "    teaser_article_dict = {} # δημιουργία κενού λεξικού για την αποθήκευση των δεδομένων κάθε άρθρου\n",
        "    h2_a = teaser_article.find('h2').find('a')\n",
        "    if h2_a:\n",
        "      teaser_article_dict['Title'] = h2_a['title']\n",
        "      teaser_article_dict['Url'] = h2_a['href']\n",
        "    lead = teaser_article.find('p')\n",
        "    if lead:\n",
        "      teaser_article_dict['Lead'] = lead.text\n",
        "    section = teaser_article.find('a', {'class': 'article__section article__tag_section'})\n",
        "    if section:\n",
        "      teaser_article_dict['Section'] = section['title']\n",
        "    datetime = teaser_article.find('time')\n",
        "    if datetime:\n",
        "      teaser_article_dict['Datetime'] = datetime['datetime']\n",
        "    teaser_articles_list.append(teaser_article_dict)\n",
        "\n",
        "# Δημιουργία του dataframe των teaser articles\n",
        "news247_latest_teaser_articles_df = pd.DataFrame(teaser_articles_list)\n",
        "news247_latest_teaser_articles_df\n",
        "\n",
        "# Scraping όλων των σελίδων των ολόκληρων άρθρων\n",
        "full_soups_list = [] \n",
        "nbr = 0 \n",
        "\n",
        "for article_url in news247_latest_teaser_articles_df['Url']: \n",
        "  nbr += 1 \n",
        "  full_response = requests.get(article_url) \n",
        "  full_soup = BeautifulSoup(full_response.text, 'html.parser')\n",
        "  full_soups_list.append(full_soup)\n",
        "  time.sleep(2)\n",
        "  print(f'Scraping article {nbr}')\n",
        "\n",
        "# Συλλογή των δεδομένων για τα ολόκληρα άρθρα\n",
        "full_articles_list = []\n",
        "nbr = 0 # Δημιουργώ αρίθμηση ώστε παραπέμποντας στο index του news247_latest_teaser_articles_df, να φέρνω και το αντίστοιχο url του άρθρου\n",
        "for soup in full_soups_list:\n",
        "  print(f\"working on article {news247_latest_teaser_articles_df.iloc[[int(nbr)]]['Url'].item()}\")\n",
        "  full_article_dict = {} # δημιουργία κενού λεξικού για την αποθήκευση των δεδομένων κάθε ιστορίας-άρθρου\n",
        "  title = soup.find('div', {'class': 'article-body '}).find('h1') # Title\n",
        "  if title:\n",
        "    full_article_dict['Title'] = \"\".join(title.text.splitlines()).replace('\\t', '')\n",
        "  full_article_dict['Article url'] = news247_latest_teaser_articles_df.iloc[[int(nbr)]]['Url'].item() # το Url του άρθρου\n",
        "  section = soup.find('div', {'class': 'article-head'}).find('a') # Section\n",
        "  if section:\n",
        "    full_article_dict['Section'] = section['title']\n",
        "  image = soup.find('figure', {'class': 'article-body__picture'}) # Image\n",
        "  if image:\n",
        "    full_article_dict['Image alt text'] = image.find('img')['alt'] \n",
        "    full_article_dict['Image url'] = image.find('img')['src']\n",
        "  lead = soup.find('div', {'class': 'article-body '}).find('h2') # Lead\n",
        "  if lead:\n",
        "    full_article_dict['Lead'] = \"\".join(lead.text.splitlines())\n",
        "  author = soup.find('div', {'class': 'article-body__author-name'}) # Author\n",
        "  if author:\n",
        "    full_article_dict['Author'] = \"\".join(author.text.splitlines())\n",
        "  else:\n",
        "    author = soup.find('div', {'class': 'article-body__byline'}).find('a') # Author\n",
        "    if author:\n",
        "      full_article_dict['Author'] = \"\".join(author.text.splitlines())\n",
        "  time = soup.find('span', {'class': 'article-body__date'}) # Date\n",
        "  if time:\n",
        "    full_article_dict['Datetime'] = time.find('time')['datetime']\n",
        "  time = soup.find('div', {'class': 'article-body__date'}) # Date\n",
        "  if time:\n",
        "    full_article_dict['Datetime'] = time.find('time')['datetime']\n",
        "  body = []\n",
        "  for p in soup.find('div', {'class': 'article-body__storyContent '}).find_all('p'): # Body\n",
        "    p_text = p.text\n",
        "    if p_text:\n",
        "      body.append(p_text)\n",
        "      body_text = ' '.join(body[:-1]).replace(\"  \", \" \")\n",
        "      body_text = \"\".join(body_text.splitlines())\n",
        "      full_article_dict['Body'] = body_text\n",
        "  full_articles_list.append(full_article_dict)\n",
        "  nbr += 1\n",
        "\n",
        "# Δημιουργία του dataframe με τα δεδομένα των ολόκληρων άρθρων\n",
        "news247_latest_full_articles_df = pd.DataFrame(full_articles_list)"
      ],
      "metadata": {
        "id": "rTdqvNk7n-8X"
      },
      "execution_count": null,
      "outputs": []
    },
    {
      "cell_type": "markdown",
      "source": [
        "**Επισκόπηση του dataframe**"
      ],
      "metadata": {
        "id": "gqTPNetN2WDV"
      }
    },
    {
      "cell_type": "code",
      "source": [
        "news247_latest_full_articles_df"
      ],
      "metadata": {
        "id": "FgL4EDQT2Q91"
      },
      "execution_count": null,
      "outputs": []
    },
    {
      "cell_type": "markdown",
      "source": [
        "**Αποθήκευση του dataframe σαν csv**"
      ],
      "metadata": {
        "id": "Ld_CVwt-2d8M"
      }
    },
    {
      "cell_type": "code",
      "source": [
        "news247_latest_full_articles_df.to_csv(csv_path_and_name, index=False)\n",
        "\n",
        "# Έλεγχος της αποθήκευσης του csv στο Drive\n",
        "ls 'gdrive/MyDrive/Colab Notebooks/Scraping/CSVs/news247.gr'"
      ],
      "metadata": {
        "id": "mqABCRpprGpd"
      },
      "execution_count": null,
      "outputs": []
    },
    {
      "cell_type": "markdown",
      "source": [
        "**Προσθήκη των νέων άρθρων στο csv με όλα τα άρθρα**"
      ],
      "metadata": {
        "id": "d1Ohq0sW3Hmn"
      }
    },
    {
      "cell_type": "code",
      "source": [
        "# Εισαγωγή του csv με όλα τα άρθρα και μετατροπή του σε dataframe\n",
        "allnews247_df = pd.read_csv('gdrive/MyDrive/Colab Notebooks/Scraping/CSVs/news247.gr/news247_latest_all.csv')\n",
        "allnews247_df.info()"
      ],
      "metadata": {
        "colab": {
          "base_uri": "https://localhost:8080/"
        },
        "id": "mN-wLRU7x3qW",
        "outputId": "cc1f04da-cfad-46a8-a3d0-90a5b621ea7d"
      },
      "execution_count": null,
      "outputs": [
        {
          "output_type": "stream",
          "name": "stdout",
          "text": [
            "<class 'pandas.core.frame.DataFrame'>\n",
            "RangeIndex: 200 entries, 0 to 199\n",
            "Data columns (total 9 columns):\n",
            " #   Column          Non-Null Count  Dtype \n",
            "---  ------          --------------  ----- \n",
            " 0   Title           200 non-null    object\n",
            " 1   Article url     200 non-null    object\n",
            " 2   Section         200 non-null    object\n",
            " 3   Image alt text  200 non-null    object\n",
            " 4   Image url       200 non-null    object\n",
            " 5   Lead            200 non-null    object\n",
            " 6   Author          200 non-null    object\n",
            " 7   Datetime        200 non-null    object\n",
            " 8   Body            200 non-null    object\n",
            "dtypes: object(9)\n",
            "memory usage: 14.2+ KB\n"
          ]
        }
      ]
    },
    {
      "cell_type": "code",
      "source": [
        "# Προσθήκη του df των άρθρων που κατεβάσαμε τώρα στο df όλων των άρθρων\n",
        "allnews247_df = allnews247_df.append(news247_latest_full_articles_df, ignore_index=True)\n",
        "allnews247_df.info()"
      ],
      "metadata": {
        "id": "IaSQ2LJC6PS0"
      },
      "execution_count": null,
      "outputs": []
    },
    {
      "cell_type": "code",
      "source": [
        "# Aποθήκευση του ενημερωμένου df με όλα τα άρθρα στο Drive σαν csv\n",
        "news247_latest_full_articles_df.to_csv('gdrive/MyDrive/Colab Notebooks/Scraping/CSVs/news247.gr/news247_latest_all.csv', index=False)"
      ],
      "metadata": {
        "id": "p6jeE5VI7cnN"
      },
      "execution_count": null,
      "outputs": []
    },
    {
      "cell_type": "code",
      "source": [
        ""
      ],
      "metadata": {
        "id": "wzYEuKNZt9rM"
      },
      "execution_count": null,
      "outputs": []
    }
  ]
}